{
  "nbformat": 4,
  "nbformat_minor": 0,
  "metadata": {
    "colab": {
      "provenance": []
    },
    "kernelspec": {
      "name": "python3",
      "display_name": "Python 3"
    },
    "language_info": {
      "name": "python"
    }
  },
  "cells": [
    {
      "cell_type": "code",
      "execution_count": 1,
      "metadata": {
        "id": "F22fkEisc_MB"
      },
      "outputs": [],
      "source": [
        "import numpy as np\n",
        "import pandas as pd\n",
        "import seaborn as sns\n",
        "import matplotlib.pyplot as plt"
      ]
    },
    {
      "cell_type": "code",
      "source": [
        "from google.colab import files\n",
        "files.upload()"
      ],
      "metadata": {
        "colab": {
          "base_uri": "https://localhost:8080/",
          "height": 1000
        },
        "id": "7w0m5qandK53",
        "outputId": "f2bddbce-be92-413a-fd87-f3b5d69ebfc8"
      },
      "execution_count": 2,
      "outputs": [
        {
          "output_type": "display_data",
          "data": {
            "text/plain": [
              "<IPython.core.display.HTML object>"
            ],
            "text/html": [
              "\n",
              "     <input type=\"file\" id=\"files-2d0c7b8b-ef3e-444a-ab0d-83fa5e089742\" name=\"files[]\" multiple disabled\n",
              "        style=\"border:none\" />\n",
              "     <output id=\"result-2d0c7b8b-ef3e-444a-ab0d-83fa5e089742\">\n",
              "      Upload widget is only available when the cell has been executed in the\n",
              "      current browser session. Please rerun this cell to enable.\n",
              "      </output>\n",
              "      <script>// Copyright 2017 Google LLC\n",
              "//\n",
              "// Licensed under the Apache License, Version 2.0 (the \"License\");\n",
              "// you may not use this file except in compliance with the License.\n",
              "// You may obtain a copy of the License at\n",
              "//\n",
              "//      http://www.apache.org/licenses/LICENSE-2.0\n",
              "//\n",
              "// Unless required by applicable law or agreed to in writing, software\n",
              "// distributed under the License is distributed on an \"AS IS\" BASIS,\n",
              "// WITHOUT WARRANTIES OR CONDITIONS OF ANY KIND, either express or implied.\n",
              "// See the License for the specific language governing permissions and\n",
              "// limitations under the License.\n",
              "\n",
              "/**\n",
              " * @fileoverview Helpers for google.colab Python module.\n",
              " */\n",
              "(function(scope) {\n",
              "function span(text, styleAttributes = {}) {\n",
              "  const element = document.createElement('span');\n",
              "  element.textContent = text;\n",
              "  for (const key of Object.keys(styleAttributes)) {\n",
              "    element.style[key] = styleAttributes[key];\n",
              "  }\n",
              "  return element;\n",
              "}\n",
              "\n",
              "// Max number of bytes which will be uploaded at a time.\n",
              "const MAX_PAYLOAD_SIZE = 100 * 1024;\n",
              "\n",
              "function _uploadFiles(inputId, outputId) {\n",
              "  const steps = uploadFilesStep(inputId, outputId);\n",
              "  const outputElement = document.getElementById(outputId);\n",
              "  // Cache steps on the outputElement to make it available for the next call\n",
              "  // to uploadFilesContinue from Python.\n",
              "  outputElement.steps = steps;\n",
              "\n",
              "  return _uploadFilesContinue(outputId);\n",
              "}\n",
              "\n",
              "// This is roughly an async generator (not supported in the browser yet),\n",
              "// where there are multiple asynchronous steps and the Python side is going\n",
              "// to poll for completion of each step.\n",
              "// This uses a Promise to block the python side on completion of each step,\n",
              "// then passes the result of the previous step as the input to the next step.\n",
              "function _uploadFilesContinue(outputId) {\n",
              "  const outputElement = document.getElementById(outputId);\n",
              "  const steps = outputElement.steps;\n",
              "\n",
              "  const next = steps.next(outputElement.lastPromiseValue);\n",
              "  return Promise.resolve(next.value.promise).then((value) => {\n",
              "    // Cache the last promise value to make it available to the next\n",
              "    // step of the generator.\n",
              "    outputElement.lastPromiseValue = value;\n",
              "    return next.value.response;\n",
              "  });\n",
              "}\n",
              "\n",
              "/**\n",
              " * Generator function which is called between each async step of the upload\n",
              " * process.\n",
              " * @param {string} inputId Element ID of the input file picker element.\n",
              " * @param {string} outputId Element ID of the output display.\n",
              " * @return {!Iterable<!Object>} Iterable of next steps.\n",
              " */\n",
              "function* uploadFilesStep(inputId, outputId) {\n",
              "  const inputElement = document.getElementById(inputId);\n",
              "  inputElement.disabled = false;\n",
              "\n",
              "  const outputElement = document.getElementById(outputId);\n",
              "  outputElement.innerHTML = '';\n",
              "\n",
              "  const pickedPromise = new Promise((resolve) => {\n",
              "    inputElement.addEventListener('change', (e) => {\n",
              "      resolve(e.target.files);\n",
              "    });\n",
              "  });\n",
              "\n",
              "  const cancel = document.createElement('button');\n",
              "  inputElement.parentElement.appendChild(cancel);\n",
              "  cancel.textContent = 'Cancel upload';\n",
              "  const cancelPromise = new Promise((resolve) => {\n",
              "    cancel.onclick = () => {\n",
              "      resolve(null);\n",
              "    };\n",
              "  });\n",
              "\n",
              "  // Wait for the user to pick the files.\n",
              "  const files = yield {\n",
              "    promise: Promise.race([pickedPromise, cancelPromise]),\n",
              "    response: {\n",
              "      action: 'starting',\n",
              "    }\n",
              "  };\n",
              "\n",
              "  cancel.remove();\n",
              "\n",
              "  // Disable the input element since further picks are not allowed.\n",
              "  inputElement.disabled = true;\n",
              "\n",
              "  if (!files) {\n",
              "    return {\n",
              "      response: {\n",
              "        action: 'complete',\n",
              "      }\n",
              "    };\n",
              "  }\n",
              "\n",
              "  for (const file of files) {\n",
              "    const li = document.createElement('li');\n",
              "    li.append(span(file.name, {fontWeight: 'bold'}));\n",
              "    li.append(span(\n",
              "        `(${file.type || 'n/a'}) - ${file.size} bytes, ` +\n",
              "        `last modified: ${\n",
              "            file.lastModifiedDate ? file.lastModifiedDate.toLocaleDateString() :\n",
              "                                    'n/a'} - `));\n",
              "    const percent = span('0% done');\n",
              "    li.appendChild(percent);\n",
              "\n",
              "    outputElement.appendChild(li);\n",
              "\n",
              "    const fileDataPromise = new Promise((resolve) => {\n",
              "      const reader = new FileReader();\n",
              "      reader.onload = (e) => {\n",
              "        resolve(e.target.result);\n",
              "      };\n",
              "      reader.readAsArrayBuffer(file);\n",
              "    });\n",
              "    // Wait for the data to be ready.\n",
              "    let fileData = yield {\n",
              "      promise: fileDataPromise,\n",
              "      response: {\n",
              "        action: 'continue',\n",
              "      }\n",
              "    };\n",
              "\n",
              "    // Use a chunked sending to avoid message size limits. See b/62115660.\n",
              "    let position = 0;\n",
              "    do {\n",
              "      const length = Math.min(fileData.byteLength - position, MAX_PAYLOAD_SIZE);\n",
              "      const chunk = new Uint8Array(fileData, position, length);\n",
              "      position += length;\n",
              "\n",
              "      const base64 = btoa(String.fromCharCode.apply(null, chunk));\n",
              "      yield {\n",
              "        response: {\n",
              "          action: 'append',\n",
              "          file: file.name,\n",
              "          data: base64,\n",
              "        },\n",
              "      };\n",
              "\n",
              "      let percentDone = fileData.byteLength === 0 ?\n",
              "          100 :\n",
              "          Math.round((position / fileData.byteLength) * 100);\n",
              "      percent.textContent = `${percentDone}% done`;\n",
              "\n",
              "    } while (position < fileData.byteLength);\n",
              "  }\n",
              "\n",
              "  // All done.\n",
              "  yield {\n",
              "    response: {\n",
              "      action: 'complete',\n",
              "    }\n",
              "  };\n",
              "}\n",
              "\n",
              "scope.google = scope.google || {};\n",
              "scope.google.colab = scope.google.colab || {};\n",
              "scope.google.colab._files = {\n",
              "  _uploadFiles,\n",
              "  _uploadFilesContinue,\n",
              "};\n",
              "})(self);\n",
              "</script> "
            ]
          },
          "metadata": {}
        },
        {
          "output_type": "stream",
          "name": "stdout",
          "text": [
            "Saving iris (4).xls to iris (4).xls\n"
          ]
        },
        {
          "output_type": "execute_result",
          "data": {
            "text/plain": [
              "{'iris (4).xls': b'\\xd0\\xcf\\x11\\xe0\\xa1\\xb1\\x1a\\xe1\\x00\\x00\\x00\\x00\\x00\\x00\\x00\\x00\\x00\\x00\\x00\\x00\\x00\\x00\\x00\\x00>\\x00\\x03\\x00\\xfe\\xff\\t\\x00\\x06\\x00\\x00\\x00\\x00\\x00\\x00\\x00\\x00\\x00\\x00\\x00\\x01\\x00\\x00\\x00D\\x00\\x00\\x00\\x00\\x00\\x00\\x00\\x00\\x10\\x00\\x00\\xfe\\xff\\xff\\xff\\x00\\x00\\x00\\x00\\xfe\\xff\\xff\\xff\\x00\\x00\\x00\\x00C\\x00\\x00\\x00\\xff\\xff\\xff\\xff\\xff\\xff\\xff\\xff\\xff\\xff\\xff\\xff\\xff\\xff\\xff\\xff\\xff\\xff\\xff\\xff\\xff\\xff\\xff\\xff\\xff\\xff\\xff\\xff\\xff\\xff\\xff\\xff\\xff\\xff\\xff\\xff\\xff\\xff\\xff\\xff\\xff\\xff\\xff\\xff\\xff\\xff\\xff\\xff\\xff\\xff\\xff\\xff\\xff\\xff\\xff\\xff\\xff\\xff\\xff\\xff\\xff\\xff\\xff\\xff\\xff\\xff\\xff\\xff\\xff\\xff\\xff\\xff\\xff\\xff\\xff\\xff\\xff\\xff\\xff\\xff\\xff\\xff\\xff\\xff\\xff\\xff\\xff\\xff\\xff\\xff\\xff\\xff\\xff\\xff\\xff\\xff\\xff\\xff\\xff\\xff\\xff\\xff\\xff\\xff\\xff\\xff\\xff\\xff\\xff\\xff\\xff\\xff\\xff\\xff\\xff\\xff\\xff\\xff\\xff\\xff\\xff\\xff\\xff\\xff\\xff\\xff\\xff\\xff\\xff\\xff\\xff\\xff\\xff\\xff\\xff\\xff\\xff\\xff\\xff\\xff\\xff\\xff\\xff\\xff\\xff\\xff\\xff\\xff\\xff\\xff\\xff\\xff\\xff\\xff\\xff\\xff\\xff\\xff\\xff\\xff\\xff\\xff\\xff\\xff\\xff\\xff\\xff\\xff\\xff\\xff\\xff\\xff\\xff\\xff\\xff\\xff\\xff\\xff\\xff\\xff\\xff\\xff\\xff\\xff\\xff\\xff\\xff\\xff\\xff\\xff\\xff\\xff\\xff\\xff\\xff\\xff\\xff\\xff\\xff\\xff\\xff\\xff\\xff\\xff\\xff\\xff\\xff\\xff\\xff\\xff\\xff\\xff\\xff\\xff\\xff\\xff\\xff\\xff\\xff\\xff\\xff\\xff\\xff\\xff\\xff\\xff\\xff\\xff\\xff\\xff\\xff\\xff\\xff\\xff\\xff\\xff\\xff\\xff\\xff\\xff\\xff\\xff\\xff\\xff\\xff\\xff\\xff\\xff\\xff\\xff\\xff\\xff\\xff\\xff\\xff\\xff\\xff\\xff\\xff\\xff\\xff\\xff\\xff\\xff\\xff\\xff\\xff\\xff\\xff\\xff\\xff\\xff\\xff\\xff\\xff\\xff\\xff\\xff\\xff\\xff\\xff\\xff\\xff\\xff\\xff\\xff\\xff\\xff\\xff\\xff\\xff\\xff\\xff\\xff\\xff\\xff\\xff\\xff\\xff\\xff\\xff\\xff\\xff\\xff\\xff\\xff\\xff\\xff\\xff\\xff\\xff\\xff\\xff\\xff\\xff\\xff\\xff\\xff\\xff\\xff\\xff\\xff\\xff\\xff\\xff\\xff\\xff\\xff\\xff\\xff\\xff\\xff\\xff\\xff\\xff\\xff\\xff\\xff\\xff\\xff\\xff\\xff\\xff\\xff\\xff\\xff\\xff\\xff\\xff\\xff\\xff\\xff\\xff\\xff\\xff\\xff\\xff\\xff\\xff\\xff\\xff\\xff\\xff\\xff\\xff\\xff\\xff\\xff\\xff\\xff\\xff\\xff\\xff\\xff\\xff\\xff\\xff\\xff\\xff\\xff\\xff\\xff\\xff\\xff\\xff\\xff\\xff\\xff\\xff\\xff\\xff\\xff\\xff\\xff\\xff\\xff\\xff\\xff\\xff\\xff\\xff\\xff\\xff\\xff\\xff\\xff\\xff\\xff\\xff\\xff\\xff\\xff\\xff\\xff\\xff\\xff\\xff\\xff\\xff\\xff\\xff\\xff\\xff\\xff\\xff\\xff\\xff\\xff\\xff\\xff\\xff\\xff\\t\\x08\\x10\\x00\\x00\\x06\\x05\\x00ZO\\xcd\\x07\\xc9\\x00\\x02\\x00\\x06\\x08\\x00\\x00\\xe1\\x00\\x02\\x00\\xb0\\x04\\xc1\\x00\\x02\\x00\\x00\\x00\\xe2\\x00\\x00\\x00\\\\\\x00p\\x00\\x10\\x00\\x00John J Padamadan                                                                                             B\\x00\\x02\\x00\\xb0\\x04a\\x01\\x02\\x00\\x00\\x00\\xc0\\x01\\x00\\x00=\\x01\\x02\\x00\\x01\\x00\\x9c\\x00\\x02\\x00\\x11\\x00\\x19\\x00\\x02\\x00\\x00\\x00\\x12\\x00\\x02\\x00\\x00\\x00\\x13\\x00\\x02\\x00\\x00\\x00\\xaf\\x01\\x02\\x00\\x00\\x00\\xbc\\x01\\x02\\x00\\x00\\x00=\\x00\\x12\\x00\\xe0\\x01\\x1e\\x00 N\\xee48\\x00\\x00\\x00\\x00\\x00\\x01\\x00X\\x02@\\x00\\x02\\x00\\x00\\x00\\x8d\\x00\\x02\\x00\\x00\\x00\"\\x00\\x02\\x00\\x00\\x00\\x0e\\x00\\x02\\x00\\x01\\x00\\xb7\\x01\\x02\\x00\\x00\\x00\\xda\\x00\\x02\\x00\\x00\\x001\\x00\\x1a\\x00\\xc8\\x00\\x00\\x00\\xff\\x7f\\x90\\x01\\x00\\x00\\x00\\x00\\x00\\x7f\\x05\\x01A\\x00r\\x00i\\x00a\\x00l\\x001\\x00\\x1a\\x00\\xc8\\x00\\x00\\x00\\xff\\x7f\\x90\\x01\\x00\\x00\\x00\\x00\\x00\\x7f\\x05\\x01A\\x00r\\x00i\\x00a\\x00l\\x001\\x00\\x1a\\x00\\xc8\\x00\\x00\\x00\\xff\\x7f\\x90\\x01\\x00\\x00\\x00\\x00\\x00\\x7f\\x05\\x01A\\x00r\\x00i\\x00a\\x00l\\x001\\x00\\x1a\\x00\\xc8\\x00\\x00\\x00\\xff\\x7f\\x90\\x01\\x00\\x00\\x00\\x00\\x00\\x7f\\x05\\x01A\\x00r\\x00i\\x00a\\x00l\\x001\\x00\\x1a\\x00\\xc8\\x00\\x00\\x00\\xff\\x7f\\x90\\x01\\x00\\x00\\x00\\x00\\x00\\x7f\\x05\\x01A\\x00r\\x00i\\x00a\\x00l\\x001\\x00*\\x00h\\x01\\x00\\x006\\x00\\x90\\x01\\x00\\x00\\x00\\x02\\x00\\x02\\r\\x01C\\x00a\\x00l\\x00i\\x00b\\x00r\\x00i\\x00 \\x00L\\x00i\\x00g\\x00h\\x00t\\x001\\x00\\x1e\\x00,\\x01\\x01\\x006\\x00\\xbc\\x02\\x00\\x00\\x00\\x02\\x00\\x02\\x07\\x01C\\x00a\\x00l\\x00i\\x00b\\x00r\\x00i\\x001\\x00\\x1e\\x00\\x04\\x01\\x01\\x006\\x00\\xbc\\x02\\x00\\x00\\x00\\x02\\x00\\x02\\x07\\x01C\\x00a\\x00l\\x00i\\x00b\\x00r\\x00i\\x001\\x00\\x1e\\x00\\xdc\\x00\\x01\\x006\\x00\\xbc\\x02\\x00\\x00\\x00\\x02\\x00\\x02\\x07\\x01C\\x00a\\x00l\\x00i\\x00b\\x00r\\x00i\\x001\\x00\\x1e\\x00\\xdc\\x00\\x00\\x00\\x11\\x00\\x90\\x01\\x00\\x00\\x00\\x02\\x00\\x02\\x07\\x01C\\x00a\\x00l\\x00i\\x00b\\x00r\\x00i\\x001\\x00\\x1e\\x00\\xdc\\x00\\x00\\x00\\x14\\x00\\x90\\x01\\x00\\x00\\x00\\x02\\x00\\x02\\x07\\x01C\\x00a\\x00l\\x00i\\x00b\\x00r\\x00i\\x001\\x00\\x1e\\x00\\xdc\\x00\\x00\\x00<\\x00\\x90\\x01\\x00\\x00\\x00\\x02\\x00\\x02\\x07\\x01C\\x00a\\x00l\\x00i\\x00b\\x00r\\x00i\\x001\\x00\\x1e\\x00\\xdc\\x00\\x00\\x00>\\x00\\x90\\x01\\x00\\x00\\x00\\x02\\x00\\x02\\x07\\x01C\\x00a\\x00l\\x00i\\x00b\\x00r\\x00i\\x001\\x00\\x1e\\x00\\xdc\\x00\\x01\\x00?\\x00\\xbc\\x02\\x00\\x00\\x00\\x02\\x00\\x02\\x07\\x01C\\x00a\\x00l\\x00i\\x00b\\x00r\\x00i\\x001\\x00\\x1e\\x00\\xdc\\x00\\x01\\x004\\x00\\xbc\\x02\\x00\\x00\\x00\\x02\\x00\\x02\\x07\\x01C\\x00a\\x00l\\x00i\\x00b\\x00r\\x00i\\x001\\x00\\x1e\\x00\\xdc\\x00\\x00\\x004\\x00\\x90\\x01\\x00\\x00\\x00\\x02\\x00\\x02\\x07\\x01C\\x00a\\x00l\\x00i\\x00b\\x00r\\x00i\\x001\\x00\\x1e\\x00\\xdc\\x00\\x01\\x00\\t\\x00\\xbc\\x02\\x00\\x00\\x00\\x02\\x00\\x02\\x07\\x01C\\x00a\\x00l\\x00i\\x00b\\x00r\\x00i\\x001\\x00\\x1e\\x00\\xdc\\x00\\x00\\x00\\n\\x00\\x90\\x01\\x00\\x00\\x00\\x02\\x00\\x02\\x07\\x01C\\x00a\\x00l\\x00i\\x00b\\x00r\\x00i\\x001\\x00\\x1e\\x00\\xdc\\x00\\x02\\x00\\x17\\x00\\x90\\x01\\x00\\x00\\x00\\x02\\x00\\x02\\x07\\x01C\\x00a\\x00l\\x00i\\x00b\\x00r\\x00i\\x001\\x00\\x1e\\x00\\xdc\\x00\\x01\\x00\\x08\\x00\\xbc\\x02\\x00\\x00\\x00\\x02\\x00\\x02\\x07\\x01C\\x00a\\x00l\\x00i\\x00b\\x00r\\x00i\\x001\\x00\\x1e\\x00\\xdc\\x00\\x00\\x00\\t\\x00\\x90\\x01\\x00\\x00\\x00\\x02\\x00\\x02\\x07\\x01C\\x00a\\x00l\\x00i\\x00b\\x00r\\x00i\\x001\\x00\\x1e\\x00\\xdc\\x00\\x00\\x00\\x08\\x00\\x90\\x01\\x00\\x00\\x00\\x02\\x00\\x02\\x07\\x01C\\x00a\\x00l\\x00i\\x00b\\x00r\\x00i\\x00\\x1e\\x04\\x1c\\x00\\x05\\x00\\x17\\x00\\x00\"$\"#,##0_);\\\\(\"$\"#,##0\\\\)\\x1e\\x04!\\x00\\x06\\x00\\x1c\\x00\\x00\"$\"#,##0_);[Red]\\\\(\"$\"#,##0\\\\)\\x1e\\x04\"\\x00\\x07\\x00\\x1d\\x00\\x00\"$\"#,##0.00_);\\\\(\"$\"#,##0.00\\\\)\\x1e\\x04\\'\\x00\\x08\\x00\"\\x00\\x00\"$\"#,##0.00_);[Red]\\\\(\"$\"#,##0.00\\\\)\\x1e\\x047\\x00*\\x002\\x00\\x00_(\"$\"* #,##0_);_(\"$\"* \\\\(#,##0\\\\);_(\"$\"* \"-\"_);_(@_)\\x1e\\x04.\\x00)\\x00)\\x00\\x00_(* #,##0_);_(* \\\\(#,##0\\\\);_(* \"-\"_);_(@_)\\x1e\\x04?\\x00,\\x00:\\x00\\x00_(\"$\"* #,##0.00_);_(\"$\"* \\\\(#,##0.00\\\\);_(\"$\"* \"-\"??_);_(@_)\\x1e\\x046\\x00+\\x001\\x00\\x00_(* #,##0.00_);_(* \\\\(#,##0.00\\\\);_(* \"-\"??_);_(@_)\\xe0\\x00\\x14\\x00\\x00\\x00\\x00\\x00\\xf5\\xff \\x00\\x00\\x00\\x00\\x00\\x00\\x00\\x00\\x00\\x00\\x00\\xc0 \\xe0\\x00\\x14\\x00\\x01\\x00\\x00\\x00\\xf5\\xff \\x00\\x00\\xf4\\x00\\x00\\x00\\x00\\x00\\x00\\x00\\x00\\xc0 \\xe0\\x00\\x14\\x00\\x01\\x00\\x00\\x00\\xf5\\xff \\x00\\x00\\xf4\\x00\\x00\\x00\\x00\\x00\\x00\\x00\\x00\\xc0 \\xe0\\x00\\x14\\x00\\x02\\x00\\x00\\x00\\xf5\\xff \\x00\\x00\\xf4\\x00\\x00\\x00\\x00\\x00\\x00\\x00\\x00\\xc0 \\xe0\\x00\\x14\\x00\\x02\\x00\\x00\\x00\\xf5\\xff \\x00\\x00\\xf4\\x00\\x00\\x00\\x00\\x00\\x00\\x00\\x00\\xc0 \\xe0\\x00\\x14\\x00\\x00\\x00\\x00\\x00\\xf5\\xff \\x00\\x00\\xf4\\x00\\x00\\x00\\x00\\x00\\x00\\x00\\x00\\xc0 \\xe0\\x00\\x14\\x00\\x00\\x00\\x00\\x00\\xf5\\xff \\x00\\x00\\xf4\\x00\\x00\\x00\\x00\\x00\\x00\\x00\\x00\\xc0 \\xe0\\x00\\x14\\x00\\x00\\x00\\x00\\x00\\xf5\\xff \\x00\\x00\\xf4\\x00\\x00\\x00\\x00\\x00\\x00\\x00\\x00\\xc0 \\xe0\\x00\\x14\\x00\\x00\\x00\\x00\\x00\\xf5\\xff \\x00\\x00\\xf4\\x00\\x00\\x00\\x00\\x00\\x00\\x00\\x00\\xc0 \\xe0\\x00\\x14\\x00\\x00\\x00\\x00\\x00\\xf5\\xff \\x00\\x00\\xf4\\x00\\x00\\x00\\x00\\x00\\x00\\x00\\x00\\xc0 \\xe0\\x00\\x14\\x00\\x00\\x00\\x00\\x00\\xf5\\xff \\x00\\x00\\xf4\\x00\\x00\\x00\\x00\\x00\\x00\\x00\\x00\\xc0 \\xe0\\x00\\x14\\x00\\x00\\x00\\x00\\x00\\xf5\\xff \\x00\\x00\\xf4\\x00\\x00\\x00\\x00\\x00\\x00\\x00\\x00\\xc0 \\xe0\\x00\\x14\\x00\\x00\\x00\\x00\\x00\\xf5\\xff \\x00\\x00\\xf4\\x00\\x00\\x00\\x00\\x00\\x00\\x00\\x00\\xc0 \\xe0\\x00\\x14\\x00\\x00\\x00\\x00\\x00\\xf5\\xff \\x00\\x00\\xf4\\x00\\x00\\x00\\x00\\x00\\x00\\x00\\x00\\xc0 \\xe0\\x00\\x14\\x00\\x00\\x00\\x00\\x00\\xf5\\xff \\x00\\x00\\xf4\\x00\\x00\\x00\\x00\\x00\\x00\\x00\\x00\\xc0 \\xe0\\x00\\x14\\x00\\x00\\x00\\x00\\x00\\x01\\x00 \\x00\\x00\\x00\\x00\\x00\\x00\\x00\\x00\\x00\\x00\\x00\\xc0 \\xe0\\x00\\x14\\x00\\x16\\x00\\x00\\x00\\xf5\\xff \\x00\\x00\\xb4\\x00\\x00\\x00\\x00\\x00\\x00\\x00\\x04\\x9f \\xe0\\x00\\x14\\x00\\x16\\x00\\x00\\x00\\xf5\\xff \\x00\\x00\\xb4\\x00\\x00\\x00\\x00\\x00\\x00\\x00\\x04\\xaf \\xe0\\x00\\x14\\x00\\x16\\x00\\x00\\x00\\xf5\\xff \\x00\\x00\\xb4\\x00\\x00\\x00\\x00\\x00\\x00\\x00\\x04\\x89 \\xe0\\x00\\x14\\x00\\x16\\x00\\x00\\x00\\xf5\\xff \\x00\\x00\\xb4\\x00\\x00\\x00\\x00\\x00\\x00\\x00\\x04\\x9a \\xe0\\x00\\x14\\x00\\x16\\x00\\x00\\x00\\xf5\\xff \\x00\\x00\\xb4\\x00\\x00\\x00\\x00\\x00\\x00\\x00\\x04\\x9b \\xe0\\x00\\x14\\x00\\x16\\x00\\x00\\x00\\xf5\\xff \\x00\\x00\\xb4\\x00\\x00\\x00\\x00\\x00\\x00\\x00\\x04\\xaa \\xe0\\x00\\x14\\x00\\x16\\x00\\x00\\x00\\xf5\\xff \\x00\\x00\\xb4\\x00\\x00\\x00\\x00\\x00\\x00\\x00\\x04\\xac \\xe0\\x00\\x14\\x00\\x16\\x00\\x00\\x00\\xf5\\xff \\x00\\x00\\xb4\\x00\\x00\\x00\\x00\\x00\\x00\\x00\\x04\\xaf \\xe0\\x00\\x14\\x00\\x16\\x00\\x00\\x00\\xf5\\xff \\x00\\x00\\xb4\\x00\\x00\\x00\\x00\\x00\\x00\\x00\\x04\\x96 \\xe0\\x00\\x14\\x00\\x16\\x00\\x00\\x00\\xf5\\xff \\x00\\x00\\xb4\\x00\\x00\\x00\\x00\\x00\\x00\\x00\\x04\\xab \\xe0\\x00\\x14\\x00\\x16\\x00\\x00\\x00\\xf5\\xff \\x00\\x00\\xb4\\x00\\x00\\x00\\x00\\x00\\x00\\x00\\x04\\xac \\xe0\\x00\\x14\\x00\\x16\\x00\\x00\\x00\\xf5\\xff \\x00\\x00\\xb4\\x00\\x00\\x00\\x00\\x00\\x00\\x00\\x04\\xab \\xe0\\x00\\x14\\x00\\x16\\x00\\x00\\x00\\xf5\\xff \\x00\\x00\\xb4\\x00\\x00\\x00\\x00\\x00\\x00\\x00\\x04\\xb1 \\xe0\\x00\\x14\\x00\\x16\\x00\\x00\\x00\\xf5\\xff \\x00\\x00\\xb4\\x00\\x00\\x00\\x00\\x00\\x00\\x00\\x04\\xaf \\xe0\\x00\\x14\\x00\\x16\\x00\\x00\\x00\\xf5\\xff \\x00\\x00\\xb4\\x00\\x00\\x00\\x00\\x00\\x00\\x00\\x04\\x96 \\xe0\\x00\\x14\\x00\\x16\\x00\\x00\\x00\\xf5\\xff \\x00\\x00\\xb4\\x00\\x00\\x00\\x00\\x00\\x00\\x00\\x04\\xab \\xe0\\x00\\x14\\x00\\x16\\x00\\x00\\x00\\xf5\\xff \\x00\\x00\\xb4\\x00\\x00\\x00\\x00\\x00\\x00\\x00\\x04\\xac \\xe0\\x00\\x14\\x00\\x16\\x00\\x00\\x00\\xf5\\xff \\x00\\x00\\xb4\\x00\\x00\\x00\\x00\\x00\\x00\\x00\\x04\\xb9 \\xe0\\x00\\x14\\x00\\x15\\x00\\x00\\x00\\xf5\\xff \\x00\\x00\\xb4\\x00\\x00\\x00\\x00\\x00\\x00\\x00\\x04\\xbe \\xe0\\x00\\x14\\x00\\x15\\x00\\x00\\x00\\xf5\\xff \\x00\\x00\\xb4\\x00\\x00\\x00\\x00\\x00\\x00\\x00\\x04\\xb5 \\xe0\\x00\\x14\\x00\\x15\\x00\\x00\\x00\\xf5\\xff \\x00\\x00\\xb4\\x00\\x00\\x00\\x00\\x00\\x00\\x00\\x04\\xb7 \\xe0\\x00\\x14\\x00\\x15\\x00\\x00\\x00\\xf5\\xff \\x00\\x00\\xb4\\x00\\x00\\x00\\x00\\x00\\x00\\x00\\x04\\xb3 \\xe0\\x00\\x14\\x00\\x15\\x00\\x00\\x00\\xf5\\xff \\x00\\x00\\xb4\\x00\\x00\\x00\\x00\\x00\\x00\\x00\\x04\\xb1 \\xe0\\x00\\x14\\x00\\x15\\x00\\x00\\x00\\xf5\\xff \\x00\\x00\\xb4\\x00\\x00\\x00\\x00\\x00\\x00\\x00\\x04\\xb9 \\xe0\\x00\\x14\\x00\\x0b\\x00\\x00\\x00\\xf5\\xff \\x00\\x00\\xb4\\x00\\x00\\x00\\x00\\x00\\x00\\x00\\x04\\xad \\xe0\\x00\\x14\\x00\\x0f\\x00\\x00\\x00\\xf5\\xff \\x00\\x00\\x94\\x11\\x11\\x97\\x0b\\x97\\x0b\\x00\\x04\\x96 \\xe0\\x00\\x14\\x00\\x11\\x00\\x00\\x00\\xf5\\xff \\x00\\x00\\x94ff\\xbf\\x1f\\xbf\\x1f\\x00\\x04\\xb7 \\xe0\\x00\\x14\\x00\\x01\\x00+\\x00\\xf5\\xff \\x00\\x00\\xf8\\x00\\x00\\x00\\x00\\x00\\x00\\x00\\x00\\xc0 \\xe0\\x00\\x14\\x00\\x01\\x00)\\x00\\xf5\\xff \\x00\\x00\\xf8\\x00\\x00\\x00\\x00\\x00\\x00\\x00\\x00\\xc0 \\xe0\\x00\\x14\\x00\\x01\\x00,\\x00\\xf5\\xff \\x00\\x00\\xf8\\x00\\x00\\x00\\x00\\x00\\x00\\x00\\x00\\xc0 \\xe0\\x00\\x14\\x00\\x01\\x00*\\x00\\xf5\\xff \\x00\\x00\\xf8\\x00\\x00\\x00\\x00\\x00\\x00\\x00\\x00\\xc0 \\xe0\\x00\\x14\\x00\\x13\\x00\\x00\\x00\\xf5\\xff \\x00\\x00\\xf4\\x00\\x00\\x00\\x00\\x00\\x00\\x00\\x00\\xc0 \\xe0\\x00\\x14\\x00\\n\\x00\\x00\\x00\\xf5\\xff \\x00\\x00\\xb4\\x00\\x00\\x00\\x00\\x00\\x00\\x00\\x04\\xaa \\xe0\\x00\\x14\\x00\\x07\\x00\\x00\\x00\\xf5\\xff \\x00\\x00\\xd4\\x00P\\x00\\x00\\x00\\x1f\\x00\\x00\\xc0 \\xe0\\x00\\x14\\x00\\x08\\x00\\x00\\x00\\xf5\\xff \\x00\\x00\\xd4\\x00P\\x00\\x00\\x00\\x16\\x00\\x00\\xc0 \\xe0\\x00\\x14\\x00\\t\\x00\\x00\\x00\\xf5\\xff \\x00\\x00\\xd4\\x00 \\x00\\x00\\x80\\x18\\x00\\x00\\xc0 \\xe0\\x00\\x14\\x00\\t\\x00\\x00\\x00\\xf5\\xff \\x00\\x00\\xf4\\x00\\x00\\x00\\x00\\x00\\x00\\x00\\x00\\xc0 \\xe0\\x00\\x14\\x00\\r\\x00\\x00\\x00\\xf5\\xff \\x00\\x00\\x94\\x11\\x11\\x97\\x0b\\x97\\x0b\\x00\\x04\\xaf \\xe0\\x00\\x14\\x00\\x10\\x00\\x00\\x00\\xf5\\xff \\x00\\x00\\xd4\\x00`\\x00\\x00\\x00\\x1a\\x00\\x00\\xc0 \\xe0\\x00\\x14\\x00\\x0c\\x00\\x00\\x00\\xf5\\xff \\x00\\x00\\xb4\\x00\\x00\\x00\\x00\\x00\\x00\\x00\\x04\\xab \\xe0\\x00\\x14\\x00\\x05\\x00\\x00\\x00\\xf5\\xff \\x00\\x00\\x9c\\x11\\x11\\x16\\x0b\\x16\\x0b\\x00\\x04\\x9a \\xe0\\x00\\x14\\x00\\x0e\\x00\\x00\\x00\\xf5\\xff \\x00\\x00\\x94\\x11\\x11\\xbf\\x1f\\xbf\\x1f\\x00\\x04\\x96 \\xe0\\x00\\x14\\x00\\x01\\x00\\t\\x00\\xf5\\xff \\x00\\x00\\xf8\\x00\\x00\\x00\\x00\\x00\\x00\\x00\\x00\\xc0 \\xe0\\x00\\x14\\x00\\x06\\x00\\x00\\x00\\xf5\\xff \\x00\\x00\\xf4\\x00\\x00\\x00\\x00\\x00\\x00\\x00\\x00\\xc0 \\xe0\\x00\\x14\\x00\\x14\\x00\\x00\\x00\\xf5\\xff \\x00\\x00\\xd4\\x00a\\x00\\x00>\\x1f\\x00\\x00\\xc0 \\xe0\\x00\\x14\\x00\\x12\\x00\\x00\\x00\\xf5\\xff \\x00\\x00\\xf4\\x00\\x00\\x00\\x00\\x00\\x00\\x00\\x00\\xc0 \\xe0\\x00\\x14\\x00\\x00\\x00\\x00\\x00\\x01\\x00\"\\x00\\x00\\x10\\x00\\x00\\x00\\x00\\x00\\x00\\x00\\x00\\xc0 |\\x08\\x14\\x00|\\x08\\x00\\x00\\x00\\x00\\x00\\x00\\x00\\x00\\x00\\x00\\x00\\x00?\\x00Q\\xaf\\xd1\\r}\\x08A\\x00}\\x08\\x00\\x00\\x00\\x00\\x00\\x00\\x00\\x00\\x00\\x00\\x00\\x00\\x10\\x00\\x00\\x00\\x03\\x00\\r\\x00\\x14\\x00\\x03\\x00\\x00\\x00\\x01\\x00\\x00\\x0000\\\\);_(*\\x0e\\x00\\x05\\x00\\x02\\x04\\x00\\x14\\x00\\x03\\x00ef\\x04\\x00\\x00\\x00;_(@_)  }\\x08A\\x00}\\x08\\x00\\x00\\x00\\x00\\x00\\x00\\x00\\x00\\x00\\x00\\x00\\x00\\x11\\x00\\x00\\x00\\x03\\x00\\r\\x00\\x14\\x00\\x03\\x00\\x00\\x00\\x01\\x00\\x00\\x0000\\\\);_(*\\x0e\\x00\\x05\\x00\\x02\\x04\\x00\\x14\\x00\\x03\\x00ef\\x05\\x00\\x00\\x00;_(@_)  }\\x08A\\x00}\\x08\\x00\\x00\\x00\\x00\\x00\\x00\\x00\\x00\\x00\\x00\\x00\\x00\\x12\\x00\\x00\\x00\\x03\\x00\\r\\x00\\x14\\x00\\x03\\x00\\x00\\x00\\x01\\x00\\x00\\x0000\\\\);_(*\\x0e\\x00\\x05\\x00\\x02\\x04\\x00\\x14\\x00\\x03\\x00ef\\x06\\x00\\x00\\x00;_(@_)  }\\x08A\\x00}\\x08\\x00\\x00\\x00\\x00\\x00\\x00\\x00\\x00\\x00\\x00\\x00\\x00\\x13\\x00\\x00\\x00\\x03\\x00\\r\\x00\\x14\\x00\\x03\\x00\\x00\\x00\\x01\\x00\\x00\\x0000\\\\);_(*\\x0e\\x00\\x05\\x00\\x02\\x04\\x00\\x14\\x00\\x03\\x00ef\\x07\\x00\\x00\\x00;_(@_)  }\\x08A\\x00}\\x08\\x00\\x00\\x00\\x00\\x00\\x00\\x00\\x00\\x00\\x00\\x00\\x00\\x14\\x00\\x00\\x00\\x03\\x00\\r\\x00\\x14\\x00\\x03\\x00\\x00\\x00\\x01\\x00\\x00\\x0000\\\\);_(*\\x0e\\x00\\x05\\x00\\x02\\x04\\x00\\x14\\x00\\x03\\x00ef\\x08\\x00\\x00\\x00;_(@_)  }\\x08A\\x00}\\x08\\x00\\x00\\x00\\x00\\x00\\x00\\x00\\x00\\x00\\x00\\x00\\x00\\x15\\x00\\x00\\x00\\x03\\x00\\r\\x00\\x14\\x00\\x03\\x00\\x00\\x00\\x01\\x00\\x00\\x0000\\\\);_(*\\x0e\\x00\\x05\\x00\\x02\\x04\\x00\\x14\\x00\\x03\\x00ef\\t\\x00\\x00\\x00;_(@_)  }\\x08A\\x00}\\x08\\x00\\x00\\x00\\x00\\x00\\x00\\x00\\x00\\x00\\x00\\x00\\x00\\x16\\x00\\x00\\x00\\x03\\x00\\r\\x00\\x14\\x00\\x03\\x00\\x00\\x00\\x01\\x00\\x00\\x0000\\\\);_(*\\x0e\\x00\\x05\\x00\\x02\\x04\\x00\\x14\\x00\\x03\\x00\\xccL\\x04\\x00\\x00\\x00;_(@_)  }\\x08A\\x00}\\x08\\x00\\x00\\x00\\x00\\x00\\x00\\x00\\x00\\x00\\x00\\x00\\x00\\x17\\x00\\x00\\x00\\x03\\x00\\r\\x00\\x14\\x00\\x03\\x00\\x00\\x00\\x01\\x00\\x00\\x0000\\\\);_(*\\x0e\\x00\\x05\\x00\\x02\\x04\\x00\\x14\\x00\\x03\\x00\\xccL\\x05\\x00\\x00\\x00;_(@_)  }\\x08A\\x00}\\x08\\x00\\x00\\x00\\x00\\x00\\x00\\x00\\x00\\x00\\x00\\x00\\x00\\x18\\x00\\x00\\x00\\x03\\x00\\r\\x00\\x14\\x00\\x03\\x00\\x00\\x00\\x01\\x00\\x00\\x0000\\\\);_(*\\x0e\\x00\\x05\\x00\\x02\\x04\\x00\\x14\\x00\\x03\\x00\\xccL\\x06\\x00\\x00\\x00;_(@_)  }\\x08A\\x00}\\x08\\x00\\x00\\x00\\x00\\x00\\x00\\x00\\x00\\x00\\x00\\x00\\x00\\x19\\x00\\x00\\x00\\x03\\x00\\r\\x00\\x14\\x00\\x03\\x00\\x00\\x00\\x01\\x00\\x00\\x0000\\\\);_(*\\x0e\\x00\\x05\\x00\\x02\\x04\\x00\\x14\\x00\\x03\\x00\\xccL\\x07\\x00\\x00\\x00;_(@_)  }\\x08A\\x00}\\x08\\x00\\x00\\x00\\x00\\x00\\x00\\x00\\x00\\x00\\x00\\x00\\x00\\x1a\\x00\\x00\\x00\\x03\\x00\\r\\x00\\x14\\x00\\x03\\x00\\x00\\x00\\x01\\x00\\x00\\x0000\\\\);_(*\\x0e\\x00\\x05\\x00\\x02\\x04\\x00\\x14\\x00\\x03\\x00\\xccL\\x08\\x00\\x00\\x00;_(@_)  }\\x08A\\x00}\\x08\\x00\\x00\\x00\\x00\\x00\\x00\\x00\\x00\\x00\\x00\\x00\\x00\\x1b\\x00\\x00\\x00\\x03\\x00\\r\\x00\\x14\\x00\\x03\\x00\\x00\\x00\\x01\\x00\\x00\\x0000\\\\);_(*\\x0e\\x00\\x05\\x00\\x02\\x04\\x00\\x14\\x00\\x03\\x00\\xccL\\t\\x00\\x00\\x00;_(@_)  }\\x08A\\x00}\\x08\\x00\\x00\\x00\\x00\\x00\\x00\\x00\\x00\\x00\\x00\\x00\\x00\\x1c\\x00\\x00\\x00\\x03\\x00\\r\\x00\\x14\\x00\\x03\\x00\\x00\\x00\\x01\\x00\\x00\\x0000\\\\);_(*\\x0e\\x00\\x05\\x00\\x02\\x04\\x00\\x14\\x00\\x03\\x0023\\x04\\x00\\x00\\x00;_(@_)  }\\x08A\\x00}\\x08\\x00\\x00\\x00\\x00\\x00\\x00\\x00\\x00\\x00\\x00\\x00\\x00\\x1d\\x00\\x00\\x00\\x03\\x00\\r\\x00\\x14\\x00\\x03\\x00\\x00\\x00\\x01\\x00\\x00\\x0000\\\\);_(*\\x0e\\x00\\x05\\x00\\x02\\x04\\x00\\x14\\x00\\x03\\x0023\\x05\\x00\\x00\\x00;_(@_)  }\\x08A\\x00}\\x08\\x00\\x00\\x00\\x00\\x00\\x00\\x00\\x00\\x00\\x00\\x00\\x00\\x1e\\x00\\x00\\x00\\x03\\x00\\r\\x00\\x14\\x00\\x03\\x00\\x00\\x00\\x01\\x00\\x00\\x0000\\\\);_(*\\x0e\\x00\\x05\\x00\\x02\\x04\\x00\\x14\\x00\\x03\\x0023\\x06\\x00\\x00\\x00;_(@_)  }\\x08A\\x00}\\x08\\x00\\x00\\x00\\x00\\x00\\x00\\x00\\x00\\x00\\x00\\x00\\x00\\x1f\\x00\\x00\\x00\\x03\\x00\\r\\x00\\x14\\x00\\x03\\x00\\x00\\x00\\x01\\x00\\x00\\x0000\\\\);_(*\\x0e\\x00\\x05\\x00\\x02\\x04\\x00\\x14\\x00\\x03\\x0023\\x07\\x00\\x00\\x00;_(@_)  }\\x08A\\x00}\\x08\\x00\\x00\\x00\\x00\\x00\\x00\\x00\\x00\\x00\\x00\\x00\\x00 \\x00\\x00\\x00\\x03\\x00\\r\\x00\\x14\\x00\\x03\\x00\\x00\\x00\\x01\\x00\\x00\\x0000\\\\);_(*\\x0e\\x00\\x05\\x00\\x02\\x04\\x00\\x14\\x00\\x03\\x0023\\x08\\x00\\x00\\x00;_(@_)  }\\x08A\\x00}\\x08\\x00\\x00\\x00\\x00\\x00\\x00\\x00\\x00\\x00\\x00\\x00\\x00!\\x00\\x00\\x00\\x03\\x00\\r\\x00\\x14\\x00\\x03\\x00\\x00\\x00\\x01\\x00\\x00\\x0000\\\\);_(*\\x0e\\x00\\x05\\x00\\x02\\x04\\x00\\x14\\x00\\x03\\x0023\\t\\x00\\x00\\x00;_(@_)  }\\x08A\\x00}\\x08\\x00\\x00\\x00\\x00\\x00\\x00\\x00\\x00\\x00\\x00\\x00\\x00\"\\x00\\x00\\x00\\x03\\x00\\r\\x00\\x14\\x00\\x03\\x00\\x00\\x00\\x00\\x00\\x00\\x0000\\\\);_(*\\x0e\\x00\\x05\\x00\\x02\\x04\\x00\\x14\\x00\\x03\\x00\\x00\\x00\\x04\\x00\\x00\\x00;_(@_)  }\\x08A\\x00}\\x08\\x00\\x00\\x00\\x00\\x00\\x00\\x00\\x00\\x00\\x00\\x00\\x00#\\x00\\x00\\x00\\x03\\x00\\r\\x00\\x14\\x00\\x03\\x00\\x00\\x00\\x00\\x00\\x00\\x0000\\\\);_(*\\x0e\\x00\\x05\\x00\\x02\\x04\\x00\\x14\\x00\\x03\\x00\\x00\\x00\\x05\\x00\\x00\\x00;_(@_)  }\\x08A\\x00}\\x08\\x00\\x00\\x00\\x00\\x00\\x00\\x00\\x00\\x00\\x00\\x00\\x00$\\x00\\x00\\x00\\x03\\x00\\r\\x00\\x14\\x00\\x03\\x00\\x00\\x00\\x00\\x00\\x00\\x0000\\\\);_(*\\x0e\\x00\\x05\\x00\\x02\\x04\\x00\\x14\\x00\\x03\\x00\\x00\\x00\\x06\\x00\\x00\\x00;_(@_)  }\\x08A\\x00}\\x08\\x00\\x00\\x00\\x00\\x00\\x00\\x00\\x00\\x00\\x00\\x00\\x00%\\x00\\x00\\x00\\x03\\x00\\r\\x00\\x14\\x00\\x03\\x00\\x00\\x00\\x00\\x00\\x00\\x0000\\\\);_(*\\x0e\\x00\\x05\\x00\\x02\\x04\\x00\\x14\\x00\\x03\\x00\\x00\\x00\\x07\\x00\\x00\\x00;_(@_)  }\\x08A\\x00}\\x08\\x00\\x00\\x00\\x00\\x00\\x00\\x00\\x00\\x00\\x00\\x00\\x00&\\x00\\x00\\x00\\x03\\x00\\r\\x00\\x14\\x00\\x03\\x00\\x00\\x00\\x00\\x00\\x00\\x0000\\\\);_(*\\x0e\\x00\\x05\\x00\\x02\\x04\\x00\\x14\\x00\\x03\\x00\\x00\\x00\\x08\\x00\\x00\\x00;_(@_)  }\\x08A\\x00}\\x08\\x00\\x00\\x00\\x00\\x00\\x00\\x00\\x00\\x00\\x00\\x00\\x00\\'\\x00\\x00\\x00\\x03\\x00\\r\\x00\\x14\\x00\\x03\\x00\\x00\\x00\\x00\\x00\\x00\\x0000\\\\);_(*\\x0e\\x00\\x05\\x00\\x02\\x04\\x00\\x14\\x00\\x03\\x00\\x00\\x00\\t\\x00\\x00\\x00;_(@_)  }\\x08A\\x00}\\x08\\x00\\x00\\x00\\x00\\x00\\x00\\x00\\x00\\x00\\x00\\x00\\x00(\\x00\\x00\\x00\\x03\\x00\\r\\x00\\x14\\x00\\x02\\x00\\x00\\x00\\x9c\\x00\\x06\\xff00\\\\);_(*\\x0e\\x00\\x05\\x00\\x02\\x04\\x00\\x14\\x00\\x02\\x00\\x00\\x00\\xff\\xc7\\xce\\xff;_(@_)  }\\x08\\x91\\x00}\\x08\\x00\\x00\\x00\\x00\\x00\\x00\\x00\\x00\\x00\\x00\\x00\\x00)\\x00\\x00\\x00\\x07\\x00\\r\\x00\\x14\\x00\\x02\\x00\\x00\\x00\\xfa}\\x00\\xff00\\\\);_(*\\x0e\\x00\\x05\\x00\\x02\\x04\\x00\\x14\\x00\\x02\\x00\\x00\\x00\\xf2\\xf2\\xf2\\xff;_(@_)  \\x07\\x00\\x14\\x00\\x02\\x00\\x00\\x00\\x7f\\x7f\\x7f\\xff        \\x08\\x00\\x14\\x00\\x02\\x00\\x00\\x00\\x7f\\x7f\\x7f\\xff        \\t\\x00\\x14\\x00\\x02\\x00\\x00\\x00\\x7f\\x7f\\x7f\\xff\\x00\\x00\\x00\\x00\\x00\\x00\\x00\\x00\\n\\x00\\x14\\x00\\x02\\x00\\x00\\x00\\x7f\\x7f\\x7f\\xff\\x00\\x00\\x00\\x00\\x00\\x00\\x00\\x00}\\x08\\x91\\x00}\\x08\\x00\\x00\\x00\\x00\\x00\\x00\\x00\\x00\\x00\\x00\\x00\\x00*\\x00\\x00\\x00\\x07\\x00\\r\\x00\\x14\\x00\\x03\\x00\\x00\\x00\\x00\\x00\\x00\\x0000\\\\);_(*\\x0e\\x00\\x05\\x00\\x02\\x04\\x00\\x14\\x00\\x02\\x00\\x00\\x00\\xa5\\xa5\\xa5\\xff;_(@_)  \\x07\\x00\\x14\\x00\\x02\\x00\\x00\\x00???\\xff        \\x08\\x00\\x14\\x00\\x02\\x00\\x00\\x00???\\xff        \\t\\x00\\x14\\x00\\x02\\x00\\x00\\x00???\\xff\\x00\\x00\\x00\\x00\\x00\\x00\\x00\\x00\\n\\x00\\x14\\x00\\x02\\x00\\x00\\x00???\\xff\\x00\\x00\\x00\\x00\\x00\\x00\\x00\\x00}\\x08-\\x00}\\x08\\x00\\x00\\x00\\x00\\x00\\x00\\x00\\x00\\x00\\x00\\x00\\x00/\\x00\\x00\\x00\\x02\\x00\\r\\x00\\x14\\x00\\x02\\x00\\x00\\x00\\x7f\\x7f\\x7f\\xff00\\\\);_(*\\x0e\\x00\\x05\\x00\\x02}\\x08A\\x00}\\x08\\x00\\x00\\x00\\x00\\x00\\x00\\x00\\x00\\x00\\x00\\x00\\x000\\x00\\x00\\x00\\x03\\x00\\r\\x00\\x14\\x00\\x02\\x00\\x00\\x00\\x00a\\x00\\xff00\\\\);_(*\\x0e\\x00\\x05\\x00\\x02\\x04\\x00\\x14\\x00\\x02\\x00\\x00\\x00\\xc6\\xef\\xce\\xff;_(@_)  }\\x08A\\x00}\\x08\\x00\\x00\\x00\\x00\\x00\\x00\\x00\\x00\\x00\\x00\\x00\\x001\\x00\\x00\\x00\\x03\\x00\\r\\x00\\x14\\x00\\x03\\x00\\x00\\x00\\x03\\x00\\x00\\x0000\\\\);_(*\\x0e\\x00\\x05\\x00\\x02\\x08\\x00\\x14\\x00\\x03\\x00\\x00\\x00\\x04\\x00\\x00\\x00;_(@_)  }\\x08A\\x00}\\x08\\x00\\x00\\x00\\x00\\x00\\x00\\x00\\x00\\x00\\x00\\x00\\x002\\x00\\x00\\x00\\x03\\x00\\r\\x00\\x14\\x00\\x03\\x00\\x00\\x00\\x03\\x00\\x00\\x0000\\\\);_(*\\x0e\\x00\\x05\\x00\\x02\\x08\\x00\\x14\\x00\\x03\\x00\\xff?\\x04\\x00\\x00\\x00;_(@_)  }\\x08A\\x00}\\x08\\x00\\x00\\x00\\x00\\x00\\x00\\x00\\x00\\x00\\x00\\x00\\x003\\x00\\x00\\x00\\x03\\x00\\r\\x00\\x14\\x00\\x03\\x00\\x00\\x00\\x03\\x00\\x00\\x0000\\\\);_(*\\x0e\\x00\\x05\\x00\\x02\\x08\\x00\\x14\\x00\\x03\\x0023\\x04\\x00\\x00\\x00;_(@_)  }\\x08-\\x00}\\x08\\x00\\x00\\x00\\x00\\x00\\x00\\x00\\x00\\x00\\x00\\x00\\x004\\x00\\x00\\x00\\x02\\x00\\r\\x00\\x14\\x00\\x03\\x00\\x00\\x00\\x03\\x00\\x00\\x0000\\\\);_(*\\x0e\\x00\\x05\\x00\\x02}\\x08\\x91\\x00}\\x08\\x00\\x00\\x00\\x00\\x00\\x00\\x00\\x00\\x00\\x00\\x00\\x005\\x00\\x00\\x00\\x07\\x00\\r\\x00\\x14\\x00\\x02\\x00\\x00\\x00??v\\xff00\\\\);_(*\\x0e\\x00\\x05\\x00\\x02\\x04\\x00\\x14\\x00\\x02\\x00\\x00\\x00\\xff\\xcc\\x99\\xff;_(@_)  \\x07\\x00\\x14\\x00\\x02\\x00\\x00\\x00\\x7f\\x7f\\x7f\\xff        \\x08\\x00\\x14\\x00\\x02\\x00\\x00\\x00\\x7f\\x7f\\x7f\\xff        \\t\\x00\\x14\\x00\\x02\\x00\\x00\\x00\\x7f\\x7f\\x7f\\xff\\x00\\x00\\x00\\x00\\x00\\x00\\x00\\x00\\n\\x00\\x14\\x00\\x02\\x00\\x00\\x00\\x7f\\x7f\\x7f\\xff\\x00\\x00\\x00\\x00\\x00\\x00\\x00\\x00}\\x08A\\x00}\\x08\\x00\\x00\\x00\\x00\\x00\\x00\\x00\\x00\\x00\\x00\\x00\\x006\\x00\\x00\\x00\\x03\\x00\\r\\x00\\x14\\x00\\x02\\x00\\x00\\x00\\xfa}\\x00\\xff00\\\\);_(*\\x0e\\x00\\x05\\x00\\x02\\x08\\x00\\x14\\x00\\x02\\x00\\x00\\x00\\xff\\x80\\x01\\xff;_(@_)  }\\x08A\\x00}\\x08\\x00\\x00\\x00\\x00\\x00\\x00\\x00\\x00\\x00\\x00\\x00\\x007\\x00\\x00\\x00\\x03\\x00\\r\\x00\\x14\\x00\\x02\\x00\\x00\\x00\\x9cW\\x00\\xff00\\\\);_(*\\x0e\\x00\\x05\\x00\\x02\\x04\\x00\\x14\\x00\\x02\\x00\\x00\\x00\\xff\\xeb\\x9c\\xff;_(@_)  }\\x08x\\x00}\\x08\\x00\\x00\\x00\\x00\\x00\\x00\\x00\\x00\\x00\\x00\\x00\\x008\\x00\\x00\\x00\\x05\\x00\\x04\\x00\\x14\\x00\\x02\\x00\\x00\\x00\\xff\\xff\\xcc\\xff00\\\\);_(*\\x07\\x00\\x14\\x00\\x02\\x00\\x00\\x00\\xb2\\xb2\\xb2\\xff\\x00\\xff\\xeb\\x9c\\xff;_(\\x08\\x00\\x14\\x00\\x02\\x00\\x00\\x00\\xb2\\xb2\\xb2\\xff\\x00\\x7f\\x7f\\x7f\\xff   \\t\\x00\\x14\\x00\\x02\\x00\\x00\\x00\\xb2\\xb2\\xb2\\xff\\x00\\x7f\\x7f\\x7f\\xff   \\n\\x00\\x14\\x00\\x02\\x00\\x00\\x00\\xb2\\xb2\\xb2\\xff\\x00\\x7f\\x7f\\x7f\\xff\\x00\\x00\\x00}\\x08\\x91\\x00}\\x08\\x00\\x00\\x00\\x00\\x00\\x00\\x00\\x00\\x00\\x00\\x00\\x009\\x00\\x00\\x00\\x07\\x00\\r\\x00\\x14\\x00\\x02\\x00\\x00\\x00???\\xff00\\\\);_(*\\x0e\\x00\\x05\\x00\\x02\\x04\\x00\\x14\\x00\\x02\\x00\\x00\\x00\\xf2\\xf2\\xf2\\xff;_(\\x08\\x00\\x14\\x00\\x02\\x07\\x00\\x14\\x00\\x02\\x00\\x00\\x00???\\xff   \\t\\x00\\x14\\x00\\x02\\x08\\x00\\x14\\x00\\x02\\x00\\x00\\x00???\\xff   \\n\\x00\\x14\\x00\\x02\\t\\x00\\x14\\x00\\x02\\x00\\x00\\x00???\\xff\\x00\\x00\\x00\\x00\\x00\\x00\\x00\\x00\\n\\x00\\x14\\x00\\x02\\x00\\x00\\x00???\\xff\\x00\\x00\\x00\\x00\\x00\\x00\\x00\\x00}\\x08-\\x00}\\x08\\x00\\x00\\x00\\x00\\x00\\x00\\x00\\x00\\x00\\x00\\x00\\x00;\\x00\\x00\\x00\\x02\\x00\\r\\x00\\x14\\x00\\x03\\x00\\x00\\x00\\x03\\x00\\x00\\x0000\\\\);_(*\\x0e\\x00\\x05\\x00\\x01}\\x08U\\x00}\\x08\\x00\\x00\\x00\\x00\\x00\\x00\\x00\\x00\\x00\\x00\\x00\\x00<\\x00\\x00\\x00\\x04\\x00\\r\\x00\\x14\\x00\\x03\\x00\\x00\\x00\\x01\\x00\\x00\\x0000\\\\);_(*\\x0e\\x00\\x05\\x00\\x02\\x07\\x00\\x14\\x00\\x03\\x00\\x00\\x00\\x04\\x00\\x00\\x00;_(\\x08\\x00\\x14\\x00\\x02\\x08\\x00\\x14\\x00\\x03\\x00\\x00\\x00\\x04\\x00\\x00\\x00   \\t\\x00\\x14\\x00\\x02}\\x08-\\x00}\\x08\\x00\\x00\\x00\\x00\\x00\\x00\\x00\\x00\\x00\\x00\\x00\\x00=\\x00\\x00\\x00\\x02\\x00\\r\\x00\\x14\\x00\\x02\\x00\\x00\\x00\\xff\\x00\\x00\\xff00\\\\);_(*\\x0e\\x00\\x05\\x00\\x02\\x93\\x02\\x12\\x00\\x10\\x00\\r\\x00\\x0020% - Accent1\\x92\\x08M\\x00\\x92\\x08\\x00\\x00\\x00\\x00\\x00\\x00\\x00\\x00\\x00\\x00\\x01\\x04\\x1e\\xff\\r\\x002\\x000\\x00%\\x00 \\x00-\\x00 \\x00A\\x00c\\x00c\\x00e\\x00n\\x00t\\x001\\x00\\x00\\x00\\x03\\x00\\x01\\x00\\x0c\\x00\\x07\\x04ef\\xd9\\xe1\\xf2\\xff\\x05\\x00\\x0c\\x00\\x07\\x01\\x00\\x00\\x00\\x00\\x00\\xff%\\x00\\x05\\x00\\x02\\x93\\x02\\x12\\x00\\x11\\x00\\r\\x00\\x0020% - Accent2\\x92\\x08M\\x00\\x92\\x08\\x00\\x00\\x00\\x00\\x00\\x00\\x00\\x00\\x00\\x00\\x01\\x04\"\\xff\\r\\x002\\x000\\x00%\\x00 \\x00-\\x00 \\x00A\\x00c\\x00c\\x00e\\x00n\\x00t\\x002\\x00\\x00\\x00\\x03\\x00\\x01\\x00\\x0c\\x00\\x07\\x05ef\\xfc\\xe4\\xd6\\xff\\x05\\x00\\x0c\\x00\\x07\\x01\\x00\\x00\\x00\\x00\\x00\\xff%\\x00\\x05\\x00\\x02\\x93\\x02\\x12\\x00\\x12\\x00\\r\\x00\\x0020% - Accent3\\x92\\x08M\\x00\\x92\\x08\\x00\\x00\\x00\\x00\\x00\\x00\\x00\\x00\\x00\\x00\\x01\\x04&\\xff\\r\\x002\\x000\\x00%\\x00 \\x00-\\x00 \\x00A\\x00c\\x00c\\x00e\\x00n\\x00t\\x003\\x00\\x00\\x00\\x03\\x00\\x01\\x00\\x0c\\x00\\x07\\x06ef\\xed\\xed\\xed\\xff\\x05\\x00\\x0c\\x00\\x07\\x01\\x00\\x00\\x00\\x00\\x00\\xff%\\x00\\x05\\x00\\x02\\x93\\x02\\x12\\x00\\x13\\x00\\r\\x00\\x0020% - Accent4\\x92\\x08M\\x00\\x92\\x08\\x00\\x00\\x00\\x00\\x00\\x00\\x00\\x00\\x00\\x00\\x01\\x04*\\xff\\r\\x002\\x000\\x00%\\x00 \\x00-\\x00 \\x00A\\x00c\\x00c\\x00e\\x00n\\x00t\\x004\\x00\\x00\\x00\\x03\\x00\\x01\\x00\\x0c\\x00\\x07\\x07ef\\xff\\xf2\\xcc\\xff\\x05\\x00\\x0c\\x00\\x07\\x01\\x00\\x00\\x00\\x00\\x00\\xff%\\x00\\x05\\x00\\x02\\x93\\x02\\x12\\x00\\x14\\x00\\r\\x00\\x0020% - Accent5\\x92\\x08M\\x00\\x92\\x08\\x00\\x00\\x00\\x00\\x00\\x00\\x00\\x00\\x00\\x00\\x01\\x04.\\xff\\r\\x002\\x000\\x00%\\x00 \\x00-\\x00 \\x00A\\x00c\\x00c\\x00e\\x00n\\x00t\\x005\\x00\\x00\\x00\\x03\\x00\\x01\\x00\\x0c\\x00\\x07\\x08ef\\xdd\\xeb\\xf7\\xff\\x05\\x00\\x0c\\x00\\x07\\x01\\x00\\x00\\x00\\x00\\x00\\xff%\\x00\\x05\\x00\\x02\\x93\\x02\\x12\\x00\\x15\\x00\\r\\x00\\x0020% - Accent6\\x92\\x08M\\x00\\x92\\x08\\x00\\x00\\x00\\x00\\x00\\x00\\x00\\x00\\x00\\x00\\x01\\x042\\xff\\r\\x002\\x000\\x00%\\x00 \\x00-\\x00 \\x00A\\x00c\\x00c\\x00e\\x00n\\x00t\\x006\\x00\\x00\\x00\\x03\\x00\\x01\\x00\\x0c\\x00\\x07\\tef\\xe2\\xef\\xda\\xff\\x05\\x00\\x0c\\x00\\x07\\x01\\x00\\x00\\x00\\x00\\x00\\xff%\\x00\\x05\\x00\\x02\\x93\\x02\\x12\\x00\\x16\\x00\\r\\x00\\x0040% - Accent1\\x92\\x08M\\x00\\x92\\x08\\x00\\x00\\x00\\x00\\x00\\x00\\x00\\x00\\x00\\x00\\x01\\x04\\x1f\\xff\\r\\x004\\x000\\x00%\\x00 \\x00-\\x00 \\x00A\\x00c\\x00c\\x00e\\x00n\\x00t\\x001\\x00\\x00\\x00\\x03\\x00\\x01\\x00\\x0c\\x00\\x07\\x04\\xccL\\xb4\\xc6\\xe7\\xff\\x05\\x00\\x0c\\x00\\x07\\x01\\x00\\x00\\x00\\x00\\x00\\xff%\\x00\\x05\\x00\\x02\\x93\\x02\\x12\\x00\\x17\\x00\\r\\x00\\x0040% - Accent2\\x92\\x08M\\x00\\x92\\x08\\x00\\x00\\x00\\x00\\x00\\x00\\x00\\x00\\x00\\x00\\x01\\x04#\\xff\\r\\x004\\x000\\x00%\\x00 \\x00-\\x00 \\x00A\\x00c\\x00c\\x00e\\x00n\\x00t\\x002\\x00\\x00\\x00\\x03\\x00\\x01\\x00\\x0c\\x00\\x07\\x05\\xccL\\xf8\\xcb\\xad\\xff\\x05\\x00\\x0c\\x00\\x07\\x01\\x00\\x00\\x00\\x00\\x00\\xff%\\x00\\x05\\x00\\x02\\x93\\x02\\x12\\x00\\x18\\x00\\r\\x00\\x0040% - Accent3\\x92\\x08M\\x00\\x92\\x08\\x00\\x00\\x00\\x00\\x00\\x00\\x00\\x00\\x00\\x00\\x01\\x04\\'\\xff\\r\\x004\\x000\\x00%\\x00 \\x00-\\x00 \\x00A\\x00c\\x00c\\x00e\\x00n\\x00t\\x003\\x00\\x00\\x00\\x03\\x00\\x01\\x00\\x0c\\x00\\x07\\x06\\xccL\\xdb\\xdb\\xdb\\xff\\x05\\x00\\x0c\\x00\\x07\\x01\\x00\\x00\\x00\\x00\\x00\\xff%\\x00\\x05\\x00\\x02\\x93\\x02\\x12\\x00\\x19\\x00\\r\\x00\\x0040% - Accent4\\x92\\x08M\\x00\\x92\\x08\\x00\\x00\\x00\\x00\\x00\\x00\\x00\\x00\\x00\\x00\\x01\\x04+\\xff\\r\\x004\\x000\\x00%\\x00 \\x00-\\x00 \\x00A\\x00c\\x00c\\x00e\\x00n\\x00t\\x004\\x00\\x00\\x00\\x03\\x00\\x01\\x00\\x0c\\x00\\x07\\x07\\xccL\\xff\\xe6\\x99\\xff\\x05\\x00\\x0c\\x00\\x07\\x01\\x00\\x00\\x00\\x00\\x00\\xff%\\x00\\x05\\x00\\x02\\x93\\x02\\x12\\x00\\x1a\\x00\\r\\x00\\x0040% - Accent5\\x92\\x08M\\x00\\x92\\x08\\x00\\x00\\x00\\x00\\x00\\x00\\x00\\x00\\x00\\x00\\x01\\x04/\\xff\\r\\x004\\x000\\x00%\\x00 \\x00-\\x00 \\x00A\\x00c\\x00c\\x00e\\x00n\\x00t\\x005\\x00\\x00\\x00\\x03\\x00\\x01\\x00\\x0c\\x00\\x07\\x08\\xccL\\xbd\\xd7\\xee\\xff\\x05\\x00\\x0c\\x00\\x07\\x01\\x00\\x00\\x00\\x00\\x00\\xff%\\x00\\x05\\x00\\x02\\x93\\x02\\x12\\x00\\x1b\\x00\\r\\x00\\x0040% - Accent6\\x92\\x08M\\x00\\x92\\x08\\x00\\x00\\x00\\x00\\x00\\x00\\x00\\x00\\x00\\x00\\x01\\x043\\xff\\r\\x004\\x000\\x00%\\x00 \\x00-\\x00 \\x00A\\x00c\\x00c\\x00e\\x00n\\x00t\\x006\\x00\\x00\\x00\\x03\\x00\\x01\\x00\\x0c\\x00\\x07\\t\\xccL\\xc6\\xe0\\xb4\\xff\\x05\\x00\\x0c\\x00\\x07\\x01\\x00\\x00\\x00\\x00\\x00\\xff%\\x00\\x05\\x00\\x02\\x93\\x02\\x12\\x00\\x1c\\x00\\r\\x00\\x0060% - Accent1\\x92\\x08M\\x00\\x92\\x08\\x00\\x00\\x00\\x00\\x00\\x00\\x00\\x00\\x00\\x00\\x01\\x04 \\xff\\r\\x006\\x000\\x00%\\x00 \\x00-\\x00 \\x00A\\x00c\\x00c\\x00e\\x00n\\x00t\\x001\\x00\\x00\\x00\\x03\\x00\\x01\\x00\\x0c\\x00\\x07\\x0423\\x8e\\xa9\\xdb\\xff\\x05\\x00\\x0c\\x00\\x07\\x01\\x00\\x00\\x00\\x00\\x00\\xff%\\x00\\x05\\x00\\x02\\x93\\x02\\x12\\x00\\x1d\\x00\\r\\x00\\x0060% - Accent2\\x92\\x08M\\x00\\x92\\x08\\x00\\x00\\x00\\x00\\x00\\x00\\x00\\x00\\x00\\x00\\x01\\x04$\\xff\\r\\x006\\x000\\x00%\\x00 \\x00-\\x00 \\x00A\\x00c\\x00c\\x00e\\x00n\\x00t\\x002\\x00\\x00\\x00\\x03\\x00\\x01\\x00\\x0c\\x00\\x07\\x0523\\xf4\\xb0\\x84\\xff\\x05\\x00\\x0c\\x00\\x07\\x01\\x00\\x00\\x00\\x00\\x00\\xff%\\x00\\x05\\x00\\x02\\x93\\x02\\x12\\x00\\x1e\\x00\\r\\x00\\x0060% - Accent3\\x92\\x08M\\x00\\x92\\x08\\x00\\x00\\x00\\x00\\x00\\x00\\x00\\x00\\x00\\x00\\x01\\x04(\\xff\\r\\x006\\x000\\x00%\\x00 \\x00-\\x00 \\x00A\\x00c\\x00c\\x00e\\x00n\\x00t\\x003\\x00\\x00\\x00\\x03\\x00\\x01\\x00\\x0c\\x00\\x07\\x0623\\xc9\\xc9\\xc9\\xff\\x05\\x00\\x0c\\x00\\x07\\x01\\x00\\x00\\x00\\x00\\x00\\xff%\\x00\\x05\\x00\\x02\\x93\\x02\\x12\\x00\\x1f\\x00\\r\\x00\\x0060% - Accent4\\x92\\x08M\\x00\\x92\\x08\\x00\\x00\\x00\\x00\\x00\\x00\\x00\\x00\\x00\\x00\\x01\\x04,\\xff\\r\\x006\\x000\\x00%\\x00 \\x00-\\x00 \\x00A\\x00c\\x00c\\x00e\\x00n\\x00t\\x004\\x00\\x00\\x00\\x03\\x00\\x01\\x00\\x0c\\x00\\x07\\x0723\\xff\\xd9f\\xff\\x05\\x00\\x0c\\x00\\x07\\x01\\x00\\x00\\x00\\x00\\x00\\xff%\\x00\\x05\\x00\\x02\\x93\\x02\\x12\\x00 \\x00\\r\\x00\\x0060% - Accent5\\x92\\x08M\\x00\\x92\\x08\\x00\\x00\\x00\\x00\\x00\\x00\\x00\\x00\\x00\\x00\\x01\\x040\\xff\\r\\x006\\x000\\x00%\\x00 \\x00-\\x00 \\x00A\\x00c\\x00c\\x00e\\x00n\\x00t\\x005\\x00\\x00\\x00\\x03\\x00\\x01\\x00\\x0c\\x00\\x07\\x0823\\x9b\\xc2\\xe6\\xff\\x05\\x00\\x0c\\x00\\x07\\x01\\x00\\x00\\x00\\x00\\x00\\xff%\\x00\\x05\\x00\\x02\\x93\\x02\\x12\\x00!\\x00\\r\\x00\\x0060% - Accent6\\x92\\x08M\\x00\\x92\\x08\\x00\\x00\\x00\\x00\\x00\\x00\\x00\\x00\\x00\\x00\\x01\\x044\\xff\\r\\x006\\x000\\x00%\\x00 \\x00-\\x00 \\x00A\\x00c\\x00c\\x00e\\x00n\\x00t\\x006\\x00\\x00\\x00\\x03\\x00\\x01\\x00\\x0c\\x00\\x07\\t23\\xa9\\xd0\\x8e\\xff\\x05\\x00\\x0c\\x00\\x07\\x01\\x00\\x00\\x00\\x00\\x00\\xff%\\x00\\x05\\x00\\x02\\x93\\x02\\x0c\\x00\"\\x00\\x07\\x00\\x00Accent1\\x92\\x08A\\x00\\x92\\x08\\x00\\x00\\x00\\x00\\x00\\x00\\x00\\x00\\x00\\x00\\x01\\x04\\x1d\\xff\\x07\\x00A\\x00c\\x00c\\x00e\\x00n\\x00t\\x001\\x00\\x00\\x00\\x03\\x00\\x01\\x00\\x0c\\x00\\x07\\x04\\x00\\x00Dr\\xc4\\xff\\x05\\x00\\x0c\\x00\\x07\\x00\\x00\\x00\\xff\\xff\\xff\\xff%\\x00\\x05\\x00\\x02\\x93\\x02\\x0c\\x00#\\x00\\x07\\x00\\x00Accent2\\x92\\x08A\\x00\\x92\\x08\\x00\\x00\\x00\\x00\\x00\\x00\\x00\\x00\\x00\\x00\\x01\\x04!\\xff\\x07\\x00A\\x00c\\x00c\\x00e\\x00n\\x00t\\x002\\x00\\x00\\x00\\x03\\x00\\x01\\x00\\x0c\\x00\\x07\\x05\\x00\\x00\\xed}1\\xff\\x05\\x00\\x0c\\x00\\x07\\x00\\x00\\x00\\xff\\xff\\xff\\xff%\\x00\\x05\\x00\\x02\\x93\\x02\\x0c\\x00$\\x00\\x07\\x00\\x00Accent3\\x92\\x08A\\x00\\x92\\x08\\x00\\x00\\x00\\x00\\x00\\x00\\x00\\x00\\x00\\x00\\x01\\x04%\\xff\\x07\\x00A\\x00c\\x00c\\x00e\\x00n\\x00t\\x003\\x00\\x00\\x00\\x03\\x00\\x01\\x00\\x0c\\x00\\x07\\x06\\x00\\x00\\xa5\\xa5\\xa5\\xff\\x05\\x00\\x0c\\x00\\x07\\x00\\x00\\x00\\xff\\xff\\xff\\xff%\\x00\\x05\\x00\\x02\\x93\\x02\\x0c\\x00%\\x00\\x07\\x00\\x00Accent4\\x92\\x08A\\x00\\x92\\x08\\x00\\x00\\x00\\x00\\x00\\x00\\x00\\x00\\x00\\x00\\x01\\x04)\\xff\\x07\\x00A\\x00c\\x00c\\x00e\\x00n\\x00t\\x004\\x00\\x00\\x00\\x03\\x00\\x01\\x00\\x0c\\x00\\x07\\x07\\x00\\x00\\xff\\xc0\\x00\\xff\\x05\\x00\\x0c\\x00\\x07\\x00\\x00\\x00\\xff\\xff\\xff\\xff%\\x00\\x05\\x00\\x02\\x93\\x02\\x0c\\x00&\\x00\\x07\\x00\\x00Accent5\\x92\\x08A\\x00\\x92\\x08\\x00\\x00\\x00\\x00\\x00\\x00\\x00\\x00\\x00\\x00\\x01\\x04-\\xff\\x07\\x00A\\x00c\\x00c\\x00e\\x00n\\x00t\\x005\\x00\\x00\\x00\\x03\\x00\\x01\\x00\\x0c\\x00\\x07\\x08\\x00\\x00[\\x9b\\xd5\\xff\\x05\\x00\\x0c\\x00\\x07\\x00\\x00\\x00\\xff\\xff\\xff\\xff%\\x00\\x05\\x00\\x02\\x93\\x02\\x0c\\x00\\'\\x00\\x07\\x00\\x00Accent6\\x92\\x08A\\x00\\x92\\x08\\x00\\x00\\x00\\x00\\x00\\x00\\x00\\x00\\x00\\x00\\x01\\x041\\xff\\x07\\x00A\\x00c\\x00c\\x00e\\x00n\\x00t\\x006\\x00\\x00\\x00\\x03\\x00\\x01\\x00\\x0c\\x00\\x07\\t\\x00\\x00p\\xadG\\xff\\x05\\x00\\x0c\\x00\\x07\\x00\\x00\\x00\\xff\\xff\\xff\\xff%\\x00\\x05\\x00\\x02\\x93\\x02\\x08\\x00(\\x00\\x03\\x00\\x00Bad\\x92\\x089\\x00\\x92\\x08\\x00\\x00\\x00\\x00\\x00\\x00\\x00\\x00\\x00\\x00\\x01\\x01\\x1b\\xff\\x03\\x00B\\x00a\\x00d\\x00\\x00\\x00\\x03\\x00\\x01\\x00\\x0c\\x00\\x05\\xff\\x00\\x00\\xff\\xc7\\xce\\xff\\x05\\x00\\x0c\\x00\\x05\\xff\\x00\\x00\\x9c\\x00\\x06\\xff%\\x00\\x05\\x00\\x02\\x93\\x02\\x10\\x00)\\x00\\x0b\\x00\\x00Calculation\\x92\\x08\\x81\\x00\\x92\\x08\\x00\\x00\\x00\\x00\\x00\\x00\\x00\\x00\\x00\\x00\\x01\\x02\\x16\\xff\\x0b\\x00C\\x00a\\x00l\\x00c\\x00u\\x00l\\x00a\\x00t\\x00i\\x00o\\x00n\\x00\\x00\\x00\\x07\\x00\\x01\\x00\\x0c\\x00\\x05\\xff\\x00\\x00\\xf2\\xf2\\xf2\\xff\\x05\\x00\\x0c\\x00\\x05\\xff\\x00\\x00\\xfa}\\x00\\xff%\\x00\\x05\\x00\\x02\\x06\\x00\\x0e\\x00\\x05\\xff\\x00\\x00\\x7f\\x7f\\x7f\\xff\\x01\\x00\\x07\\x00\\x0e\\x00\\x05\\xff\\x00\\x00\\x7f\\x7f\\x7f\\xff\\x01\\x00\\x08\\x00\\x0e\\x00\\x05\\xff\\x00\\x00\\x7f\\x7f\\x7f\\xff\\x01\\x00\\t\\x00\\x0e\\x00\\x05\\xff\\x00\\x00\\x7f\\x7f\\x7f\\xff\\x01\\x00\\x93\\x02\\x0f\\x00*\\x00\\n\\x00\\x00Check Cell\\x92\\x08\\x7f\\x00\\x92\\x08\\x00\\x00\\x00\\x00\\x00\\x00\\x00\\x00\\x00\\x00\\x01\\x02\\x17\\xff\\n\\x00C\\x00h\\x00e\\x00c\\x00k\\x00 \\x00C\\x00e\\x00l\\x00l\\x00\\x00\\x00\\x07\\x00\\x01\\x00\\x0c\\x00\\x05\\xff\\x00\\x00\\xa5\\xa5\\xa5\\xff\\x05\\x00\\x0c\\x00\\x07\\x00\\x00\\x00\\xff\\xff\\xff\\xff%\\x00\\x05\\x00\\x02\\x06\\x00\\x0e\\x00\\x05\\xff\\x00\\x00???\\xff\\x06\\x00\\x07\\x00\\x0e\\x00\\x05\\xff\\x00\\x00???\\xff\\x06\\x00\\x08\\x00\\x0e\\x00\\x05\\xff\\x00\\x00???\\xff\\x06\\x00\\t\\x00\\x0e\\x00\\x05\\xff\\x00\\x00???\\xff\\x06\\x00\\x93\\x02\\x04\\x00+\\x80\\x03\\xff\\x92\\x08 \\x00\\x92\\x08\\x00\\x00\\x00\\x00\\x00\\x00\\x00\\x00\\x00\\x00\\x01\\x05\\x03\\xff\\x05\\x00C\\x00o\\x00m\\x00m\\x00a\\x00\\x00\\x00\\x00\\x00\\x93\\x02\\x04\\x00,\\x80\\x06\\xff\\x92\\x08(\\x00\\x92\\x08\\x00\\x00\\x00\\x00\\x00\\x00\\x00\\x00\\x00\\x00\\x01\\x05\\x06\\xff\\t\\x00C\\x00o\\x00m\\x00m\\x00a\\x00 \\x00[\\x000\\x00]\\x00\\x00\\x00\\x00\\x00\\x93\\x02\\x04\\x00-\\x80\\x04\\xff\\x92\\x08&\\x00\\x92\\x08\\x00\\x00\\x00\\x00\\x00\\x00\\x00\\x00\\x00\\x00\\x01\\x05\\x04\\xff\\x08\\x00C\\x00u\\x00r\\x00r\\x00e\\x00n\\x00c\\x00y\\x00\\x00\\x00\\x00\\x00\\x93\\x02\\x04\\x00.\\x80\\x07\\xff\\x92\\x08.\\x00\\x92\\x08\\x00\\x00\\x00\\x00\\x00\\x00\\x00\\x00\\x00\\x00\\x01\\x05\\x07\\xff\\x0c\\x00C\\x00u\\x00r\\x00r\\x00e\\x00n\\x00c\\x00y\\x00 \\x00[\\x000\\x00]\\x00\\x00\\x00\\x00\\x00\\x93\\x02\\x15\\x00/\\x00\\x10\\x00\\x00Explanatory Text\\x92\\x08G\\x00\\x92\\x08\\x00\\x00\\x00\\x00\\x00\\x00\\x00\\x00\\x00\\x00\\x01\\x025\\xff\\x10\\x00E\\x00x\\x00p\\x00l\\x00a\\x00n\\x00a\\x00t\\x00o\\x00r\\x00y\\x00 \\x00T\\x00e\\x00x\\x00t\\x00\\x00\\x00\\x02\\x00\\x05\\x00\\x0c\\x00\\x05\\xff\\x00\\x00\\x7f\\x7f\\x7f\\xff%\\x00\\x05\\x00\\x02\\x93\\x02\\t\\x000\\x00\\x04\\x00\\x00Good\\x92\\x08;\\x00\\x92\\x08\\x00\\x00\\x00\\x00\\x00\\x00\\x00\\x00\\x00\\x00\\x01\\x01\\x1a\\xff\\x04\\x00G\\x00o\\x00o\\x00d\\x00\\x00\\x00\\x03\\x00\\x01\\x00\\x0c\\x00\\x05\\xff\\x00\\x00\\xc6\\xef\\xce\\xff\\x05\\x00\\x0c\\x00\\x05\\xff\\x00\\x00\\x00a\\x00\\xff%\\x00\\x05\\x00\\x02\\x93\\x02\\x0e\\x001\\x00\\t\\x00\\x00Heading 1\\x92\\x08G\\x00\\x92\\x08\\x00\\x00\\x00\\x00\\x00\\x00\\x00\\x00\\x00\\x00\\x01\\x03\\x10\\xff\\t\\x00H\\x00e\\x00a\\x00d\\x00i\\x00n\\x00g\\x00 \\x001\\x00\\x00\\x00\\x03\\x00\\x05\\x00\\x0c\\x00\\x07\\x03\\x00\\x00DTj\\xff%\\x00\\x05\\x00\\x02\\x07\\x00\\x0e\\x00\\x07\\x04\\x00\\x00Dr\\xc4\\xff\\x05\\x00\\x93\\x02\\x0e\\x002\\x00\\t\\x00\\x00Heading 2\\x92\\x08G\\x00\\x92\\x08\\x00\\x00\\x00\\x00\\x00\\x00\\x00\\x00\\x00\\x00\\x01\\x03\\x11\\xff\\t\\x00H\\x00e\\x00a\\x00d\\x00i\\x00n\\x00g\\x00 \\x002\\x00\\x00\\x00\\x03\\x00\\x05\\x00\\x0c\\x00\\x07\\x03\\x00\\x00DTj\\xff%\\x00\\x05\\x00\\x02\\x07\\x00\\x0e\\x00\\x07\\x04\\xff?\\xa2\\xb8\\xe1\\xff\\x05\\x00\\x93\\x02\\x0e\\x003\\x00\\t\\x00\\x00Heading 3\\x92\\x08G\\x00\\x92\\x08\\x00\\x00\\x00\\x00\\x00\\x00\\x00\\x00\\x00\\x00\\x01\\x03\\x12\\xff\\t\\x00H\\x00e\\x00a\\x00d\\x00i\\x00n\\x00g\\x00 \\x003\\x00\\x00\\x00\\x03\\x00\\x05\\x00\\x0c\\x00\\x07\\x03\\x00\\x00DTj\\xff%\\x00\\x05\\x00\\x02\\x07\\x00\\x0e\\x00\\x07\\x0423\\x8e\\xa9\\xdb\\xff\\x02\\x00\\x93\\x02\\x0e\\x004\\x00\\t\\x00\\x00Heading 4\\x92\\x089\\x00\\x92\\x08\\x00\\x00\\x00\\x00\\x00\\x00\\x00\\x00\\x00\\x00\\x01\\x03\\x13\\xff\\t\\x00H\\x00e\\x00a\\x00d\\x00i\\x00n\\x00g\\x00 \\x004\\x00\\x00\\x00\\x02\\x00\\x05\\x00\\x0c\\x00\\x07\\x03\\x00\\x00DTj\\xff%\\x00\\x05\\x00\\x02\\x93\\x02\\n\\x005\\x00\\x05\\x00\\x00Input\\x92\\x08u\\x00\\x92\\x08\\x00\\x00\\x00\\x00\\x00\\x00\\x00\\x00\\x00\\x00\\x01\\x02\\x14\\xff\\x05\\x00I\\x00n\\x00p\\x00u\\x00t\\x00\\x00\\x00\\x07\\x00\\x01\\x00\\x0c\\x00\\x05\\xff\\x00\\x00\\xff\\xcc\\x99\\xff\\x05\\x00\\x0c\\x00\\x05\\xff\\x00\\x00??v\\xff%\\x00\\x05\\x00\\x02\\x06\\x00\\x0e\\x00\\x05\\xff\\x00\\x00\\x7f\\x7f\\x7f\\xff\\x01\\x00\\x07\\x00\\x0e\\x00\\x05\\xff\\x00\\x00\\x7f\\x7f\\x7f\\xff\\x01\\x00\\x08\\x00\\x0e\\x00\\x05\\xff\\x00\\x00\\x7f\\x7f\\x7f\\xff\\x01\\x00\\t\\x00\\x0e\\x00\\x05\\xff\\x00\\x00\\x7f\\x7f\\x7f\\xff\\x01\\x00\\x93\\x02\\x10\\x006\\x00\\x0b\\x00\\x00Linked Cell\\x92\\x08K\\x00\\x92\\x08\\x00\\x00\\x00\\x00\\x00\\x00\\x00\\x00\\x00\\x00\\x01\\x02\\x18\\xff\\x0b\\x00L\\x00i\\x00n\\x00k\\x00e\\x00d\\x00 \\x00C\\x00e\\x00l\\x00l\\x00\\x00\\x00\\x03\\x00\\x05\\x00\\x0c\\x00\\x05\\xff\\x00\\x00\\xfa}\\x00\\xff%\\x00\\x05\\x00\\x02\\x07\\x00\\x0e\\x00\\x05\\xff\\x00\\x00\\xff\\x80\\x01\\xff\\x06\\x00\\x93\\x02\\x0c\\x007\\x00\\x07\\x00\\x00Neutral\\x92\\x08A\\x00\\x92\\x08\\x00\\x00\\x00\\x00\\x00\\x00\\x00\\x00\\x00\\x00\\x01\\x01\\x1c\\xff\\x07\\x00N\\x00e\\x00u\\x00t\\x00r\\x00a\\x00l\\x00\\x00\\x00\\x03\\x00\\x01\\x00\\x0c\\x00\\x05\\xff\\x00\\x00\\xff\\xeb\\x9c\\xff\\x05\\x00\\x0c\\x00\\x05\\xff\\x00\\x00\\x9cW\\x00\\xff%\\x00\\x05\\x00\\x02\\x93\\x02\\x04\\x00\\x00\\x80\\x00\\xff\\x92\\x08\"\\x00\\x92\\x08\\x00\\x00\\x00\\x00\\x00\\x00\\x00\\x00\\x00\\x00\\x01\\x01\\x00\\xff\\x06\\x00N\\x00o\\x00r\\x00m\\x00a\\x00l\\x00\\x00\\x00\\x00\\x00\\x93\\x02\\t\\x008\\x00\\x04\\x00\\x00Note\\x92\\x08b\\x00\\x92\\x08\\x00\\x00\\x00\\x00\\x00\\x00\\x00\\x00\\x00\\x00\\x01\\x02\\n\\xff\\x04\\x00N\\x00o\\x00t\\x00e\\x00\\x00\\x00\\x05\\x00\\x01\\x00\\x0c\\x00\\x05\\xff\\x00\\x00\\xff\\xff\\xcc\\xff\\x06\\x00\\x0e\\x00\\x05\\xff\\x00\\x00\\xb2\\xb2\\xb2\\xff\\x01\\x00\\x07\\x00\\x0e\\x00\\x05\\xff\\x00\\x00\\xb2\\xb2\\xb2\\xff\\x01\\x00\\x08\\x00\\x0e\\x00\\x05\\xff\\x00\\x00\\xb2\\xb2\\xb2\\xff\\x01\\x00\\t\\x00\\x0e\\x00\\x05\\xff\\x00\\x00\\xb2\\xb2\\xb2\\xff\\x01\\x00\\x93\\x02\\x0b\\x009\\x00\\x06\\x00\\x00Output\\x92\\x08w\\x00\\x92\\x08\\x00\\x00\\x00\\x00\\x00\\x00\\x00\\x00\\x00\\x00\\x01\\x02\\x15\\xff\\x06\\x00O\\x00u\\x00t\\x00p\\x00u\\x00t\\x00\\x00\\x00\\x07\\x00\\x01\\x00\\x0c\\x00\\x05\\xff\\x00\\x00\\xf2\\xf2\\xf2\\xff\\x05\\x00\\x0c\\x00\\x05\\xff\\x00\\x00???\\xff%\\x00\\x05\\x00\\x02\\x06\\x00\\x0e\\x00\\x05\\xff\\x00\\x00???\\xff\\x01\\x00\\x07\\x00\\x0e\\x00\\x05\\xff\\x00\\x00???\\xff\\x01\\x00\\x08\\x00\\x0e\\x00\\x05\\xff\\x00\\x00???\\xff\\x01\\x00\\t\\x00\\x0e\\x00\\x05\\xff\\x00\\x00???\\xff\\x01\\x00\\x93\\x02\\x04\\x00:\\x80\\x05\\xff\\x92\\x08$\\x00\\x92\\x08\\x00\\x00\\x00\\x00\\x00\\x00\\x00\\x00\\x00\\x00\\x01\\x05\\x05\\xff\\x07\\x00P\\x00e\\x00r\\x00c\\x00e\\x00n\\x00t\\x00\\x00\\x00\\x00\\x00\\x93\\x02\\n\\x00;\\x00\\x05\\x00\\x00Title\\x92\\x081\\x00\\x92\\x08\\x00\\x00\\x00\\x00\\x00\\x00\\x00\\x00\\x00\\x00\\x01\\x03\\x0f\\xff\\x05\\x00T\\x00i\\x00t\\x00l\\x00e\\x00\\x00\\x00\\x02\\x00\\x05\\x00\\x0c\\x00\\x07\\x03\\x00\\x00DTj\\xff%\\x00\\x05\\x00\\x01\\x93\\x02\\n\\x00<\\x00\\x05\\x00\\x00Total\\x92\\x08M\\x00\\x92\\x08\\x00\\x00\\x00\\x00\\x00\\x00\\x00\\x00\\x00\\x00\\x01\\x03\\x19\\xff\\x05\\x00T\\x00o\\x00t\\x00a\\x00l\\x00\\x00\\x00\\x04\\x00\\x05\\x00\\x0c\\x00\\x07\\x01\\x00\\x00\\x00\\x00\\x00\\xff%\\x00\\x05\\x00\\x02\\x06\\x00\\x0e\\x00\\x07\\x04\\x00\\x00Dr\\xc4\\xff\\x01\\x00\\x07\\x00\\x0e\\x00\\x07\\x04\\x00\\x00Dr\\xc4\\xff\\x06\\x00\\x93\\x02\\x11\\x00=\\x00\\x0c\\x00\\x00Warning Text\\x92\\x08?\\x00\\x92\\x08\\x00\\x00\\x00\\x00\\x00\\x00\\x00\\x00\\x00\\x00\\x01\\x02\\x0b\\xff\\x0c\\x00W\\x00a\\x00r\\x00n\\x00i\\x00n\\x00g\\x00 \\x00T\\x00e\\x00x\\x00t\\x00\\x00\\x00\\x02\\x00\\x05\\x00\\x0c\\x00\\x05\\xff\\x00\\x00\\xff\\x00\\x00\\xff%\\x00\\x05\\x00\\x02\\x8e\\x08X\\x00\\x8e\\x08\\x00\\x00\\x00\\x00\\x00\\x00\\x00\\x00\\x00\\x00\\x90\\x00\\x00\\x00\\x11\\x00\\x11\\x00T\\x00a\\x00b\\x00l\\x00e\\x00S\\x00t\\x00y\\x00l\\x00e\\x00M\\x00e\\x00d\\x00i\\x00u\\x00m\\x002\\x00P\\x00i\\x00v\\x00o\\x00t\\x00S\\x00t\\x00y\\x00l\\x00e\\x00L\\x00i\\x00g\\x00h\\x00t\\x001\\x006\\x00`\\x01\\x02\\x00\\x00\\x00\\x85\\x00\\x0e\\x00\\xab6\\x00\\x00\\x00\\x00\\x06\\x00Sheet1\\x9a\\x08\\x18\\x00\\x9a\\x08\\x00\\x00\\x00\\x00\\x00\\x00\\x00\\x00\\x00\\x00\\x01\\x00\\x00\\x00\\x00\\x00\\x00\\x00\\x04\\x00\\x00\\x00\\xa3\\x08\\x10\\x00\\xa3\\x08\\x00\\x00\\x00\\x00\\x00\\x00\\x00\\x00\\x00\\x00\\x00\\x00\\x00\\x00\\x8c\\x00\\x04\\x00\\x01\\x00\\x01\\x00\\xc1\\x01\\x08\\x00\\xc1\\x01\\x00\\x00\"\\xbe\\x01\\x00\\xfc\\x00^\\x00\\x9b\\x00\\x00\\x00\\x08\\x00\\x00\\x00\\x02\\x00\\x00SL\\x02\\x00\\x00SW\\x02\\x00\\x00PL\\x02\\x00\\x00PW\\x0b\\x00\\x00Iris-setosa\\x0f\\x00\\x00Iris-versicolor\\x0e\\x00\\x00Iris-virginica\\x0e\\x00\\x00Classification\\xff\\x00\\n\\x00\\x08\\x00\\xa6)\\x00\\x00\\x0c\\x00\\x00\\x00c\\x08\\x16\\x00c\\x08\\x00\\x00\\x00\\x00\\x00\\x00\\x00\\x00\\x00\\x00\\x16\\x00\\x00\\x00\\x00\\x00\\x00\\x00\"\\x00\\x96\\x08W\\x0c\\x96\\x08\\x00\\x00\\x00\\x00\\x00\\x00\\x00\\x00\\x00\\x00\\r\\x8c\\x02\\x00PK\\x03\\x04\\x14\\x00\\x06\\x00\\x08\\x00\\x00\\x00!\\x00\\xe9\\xde\\x0f\\xbf\\xff\\x00\\x00\\x00\\x1c\\x02\\x00\\x00\\x13\\x00\\x00\\x00[Content_Types].xml\\xac\\x91\\xcbN\\xc30\\x10E\\xf7H\\xfc\\x83\\xe5-J\\x9c\\xb2@\\x08%\\xe9\\x82\\xc7\\x8e\\xc7\\xa2|\\xc0\\xc8\\x99$\\x16\\xc9\\xd8\\xb2\\xa7U\\xfb\\xf7L\\xd2TB\\xa8 \\x16l,\\xd93\\xf7\\x9e;\\xe3r\\xbd\\x1f\\x07\\xb5\\xc3\\x98\\x9c\\xa7J\\xaf\\xf2B+$\\xeb\\x1bG]\\xa5\\xdf7O\\xd9\\xadV\\x89\\x81\\x1a\\x18<a\\xa5\\x0f\\x98\\xf4\\xba\\xbe\\xbc(7\\x87\\x80I\\x89\\x9aR\\xa5{\\xe6pgL\\xb2=\\x8e\\x90r\\x1f\\x90\\xa4\\xd2\\xfa8\\x02\\xcb5v&\\x80\\xfd\\x80\\x0e\\xcduQ\\xdc\\x18\\xeb\\x89\\x918\\xe3\\xc9C\\xd7\\xe5\\x03\\xb6\\xb0\\x1dX=\\xee\\xe5\\xf9\\x98$\\xe2\\x90\\xb4\\xba?6N\\xacJC\\x08\\x83\\xb3\\xc0\\x92\\xd4\\xec\\xa8\\xf9F\\xc9\\x16B.\\xca\\xb9\\'\\xf5.\\xa4+\\x89\\xa1\\xcdY\\xc2T\\xf9\\x19\\xb0\\xe8^e5\\xd15\\xa8\\xde \\xf2\\x0b\\x8c\\x12\\xc3\\xb0\\x0c\\x89_\\xcfg \\x19-\\xe6\\xbf;\\x9e\\x89\\xec\\xdb\\xd6Yl\\xbc\\xdd\\x8e\\xb2\\x8e|6^\\xccN\\xc1\\xff\\x14`\\xf5?\\xe8\\x13\\xd3\\xcc\\x7f[\\x7f\\x02\\x00\\x00\\xff\\xff\\x03\\x00PK\\x03\\x04\\x14\\x00\\x06\\x00\\x08\\x00\\x00\\x00!\\x00\\xa5\\xd6\\xa7\\xe7\\xc0\\x00\\x00\\x006\\x01\\x00\\x00\\x0b\\x00\\x00\\x00_rels/.rels\\x84\\x8f\\xcfj\\xc30\\x0c\\x87\\xef\\x85\\xbd\\x83\\xd1}Q\\xd2\\xc3\\x18%v/\\xa5\\x90C/\\xa3}\\x00\\xe1(\\x7fh\"\\x1b\\xdb\\x1b\\xeb\\xdbO\\xc7\\x06\\n\\xbb\\x08\\x84\\xa4\\xef\\xf7\\xa9=\\xfe\\xae\\x8b\\xf9\\xe1\\x94\\xe7 \\x16\\x9a\\xaa\\x06\\xc3\\xe2C?\\xcbh\\xe1v=\\xbf\\x7f\\x82\\xc9\\x85\\xa4\\xa7%\\x08[xp\\x86\\xa3{\\xdb\\xb5_\\xbcP\\xd1\\xa3<\\xcd1\\x1b\\xa5H\\xb60\\x95\\x12\\x0f\\x88\\xd9O\\xbcR\\xaeBd\\xd1\\xc9\\x10\\xd2JE\\xdb4b$\\x7f\\xa7\\x91q_\\xd7\\x1f\\x98\\x9e\\x19\\xe06L\\xd3\\xf5\\x16R\\xd77`\\xae\\x8f\\xa8\\xc9\\xff\\xb3\\xc30\\xcc\\x9eO\\xc1\\x7f\\xaf,\\xe5E\\x04n7\\x94Li\\xe4b\\xa1\\xa8/\\xe3S\\xbd\\x90\\xa8e\\xaa\\xd4\\x1e\\xd0\\xb5\\xb8\\xf9\\xd6\\xfd\\x01\\x00\\x00\\xff\\xff\\x03\\x00PK\\x03\\x04\\x14\\x00\\x06\\x00\\x08\\x00\\x00\\x00!\\x00ky\\x96\\x16\\x83\\x00\\x00\\x00\\x8a\\x00\\x00\\x00\\x1c\\x00\\x00\\x00theme/theme/themeManager.xml\\x0c\\xccM\\n\\xc3 \\x10@\\xe1}\\xa1w\\x90\\xd97c\\xbb(Eb\\xb2\\xcb\\xae\\xbb\\xf6\\x00C\\x9c\\x1aA\\xc7\\xa0\\xd2\\x9f\\xdb\\xd7\\xe5\\xe3\\x837\\xce\\xdf\\x14\\xd5\\x9bK\\rY,\\x9c\\x07\\r\\x8ae\\xcd.\\x88\\xb7\\xf0|,\\xa7\\x1b\\xa8\\xdaH\\x1c\\xc5,l\\xe1\\xc7\\x15\\xe6\\xe9x\\x18\\xc9\\xb4\\x8d\\x13\\xdfI\\xc8sQ}#\\xd5\\x90\\x85\\xad\\xb5\\xdd \\xd6\\xb5+\\xd5!\\xef,\\xdd^\\xb9$j=\\x8bGW\\xe8\\xd3\\xf7)\\xe2E\\xeb+&\\n\\x028\\xfd\\x01\\x00\\x00\\xff\\xff\\x03\\x00PK\\x03\\x04\\x14\\x00\\x06\\x00\\x08\\x00\\x00\\x00!\\x00N\\xd2m\\xd1\\xcf\\x06\\x00\\x00\\xb0\\x1f\\x00\\x00\\x16\\x00\\x00\\x00theme/theme/theme1.xml\\xecYKo\\x1b7\\x10\\xbe\\x17\\xe8\\x7fX\\xec\\xbd\\xb1d\\xeb\\x11\\x19\\x91\\x03\\xeb\\x15\\'\\xb1l#RR\\xe4HI\\xd4.-\\xeerARvt+\\x92S/\\x05\\n\\xa4E/\\x05z\\xeb\\xa1(\\x1a\\xa0\\x01\\x1a\\xf4\\xd2\\x1fc A\\x9b\\xfe\\x88\\x0e\\xb9\\xd2.)Q\\xf1\\x03F\\x91\\x16\\xb6\\x00CK}3\\xfc83;3;{\\xe7\\xee\\xb3\\x88z\\'\\x98\\x0b\\xc2\\xe2\\xba_\\xbcU\\xf0=\\x1c\\x0f\\xd9\\x88\\xc4A\\xdd\\x7f\\xdc\\xef|v\\xdb\\xf7\\x84D\\xf1\\x08Q\\x16\\xe3\\xba?\\xc3\\xc2\\xbf\\xbb\\xf3\\xe9\\'w\\xd0\\xb6\\x0cq\\x84=\\x90\\x8f\\xc56\\xaa\\xfb\\xa1\\x94\\xc9\\xf6\\xc6\\x86\\x18\\xc22\\x12\\xb7X\\x82c\\xf8m\\xccx\\x84$\\\\\\xf2`c\\xc4\\xd1)\\xe8\\x8d\\xe8\\xc6f\\xa1P\\xd9\\x88\\x10\\x89}/F\\x11\\xa8=\\x1c\\x8f\\xc9\\x10{}\\xa5\\xd2\\xdfY(oS\\xb8\\x8c\\xa5P\\x0bC\\xca{J5\\xb6$4v4)*\\x84\\x98\\x89&\\xe5\\xde\\t\\xa2u\\x1f\\xf6\\x19\\xb1\\xd3>~&}\\x8f\"!\\xe1\\x87\\xba_\\xd0\\x7f\\xfe\\xc6\\xce\\x9d\\r\\xb4=\\x17\\xa2r\\x8d\\xac!\\xd7\\xd1\\x7fs\\xb9\\xb9\\xc0h\\xb2\\xa9\\xf7\\xe4\\xc1 \\xdb\\xb4T*\\x97*\\xbb\\x99~\\r\\xa0r\\x15\\xd7\\xae\\xb6+\\xedJ\\xa6O\\x03\\xd0p\\x08\\'M\\xb9\\xd8:\\xab\\x9b\\xcd\\xd2\\x1ck\\x80\\xd2\\xaf\\x0e\\xdd\\xadjk\\xabh\\xe1\\r\\xfd[+\\x9cw\\xcb\\xeac\\xe15(\\xd5_Z\\xc1w:M\\xb0\\xa2\\x85\\xd7\\xa0\\x14_^\\xc1\\x97\\x1b\\xb5F\\xcb\\xd6\\xafA)\\xbe\\xb2\\x82\\xaf\\x16v[\\xa5\\xaa\\xa5_\\x83BJ\\xe2\\xc9\\n\\xbaP\\xael5\\x17\\xa7\\xcd cF\\xf7\\x9c\\xf0Z\\xb9\\xd4\\xa9n\\xce\\x95\\xe7(\\x88\\x86,\\xba\\xd4\\x16c\\x16\\xcbu\\xb1\\x16\\xa1c\\xc6;\\x00P@\\x8a$\\x89=9K\\xf0\\x18\\r!\\x8a\\x9b\\x88\\x92\\x01\\'\\xde>\\tB\\x08\\xbc\\x04\\xc5L\\xc0ra\\xb3\\xd0)l\\xc1\\x7f\\xf5)\\xe9o\\xda\\xa3h\\x1b#CZ\\xf1\\x02&beI\\xf1\\xf1\\xc4\\x90\\x93D\\xd6\\xfd\\x07\\xa0\\xd57 o\\xdf\\xbc9{\\xfe\\xfa\\xec\\xf9og/^\\x9c=\\xffe\\xbe\\xb7Ve\\xc9\\xed\\xa180\\xe5\\xde\\xff\\xf8\\xf5\\xdf\\xdf\\x7f\\xe1\\xfd\\xf5\\xeb\\x0f\\xef_~\\x93n\\xbd\\x8c\\x17&\\xfe\\xdd\\xcf_\\xbe\\xfb\\xfd\\x8f\\x0f\\xa9\\x87\\x13\\xe7\\xa6x\\xfb\\xed\\xabw\\xaf_\\xbd\\xfd\\xee\\xab?\\x7fz\\xe9\\xd0\\xbe\\xcb\\xd1\\xc0\\x84\\xf7I\\x84\\x85w\\x80O\\xbdG,\\x82\\x03:\\xf8\\xe3\\x01\\xbf\\x9cD?D\\xc4\\x92@!\\xe8v\\xa8n\\xcb\\xd0\\x02\\x1e\\xcc\\x10u\\xe1\\x1a\\xd86\\xe1\\x13\\x0eY\\xc6\\x05\\xbc7=\\xb6\\xb8\\xf6B>\\x95\\xc4\\xb1\\xf3\\xc30\\xb2\\x80]\\xc6h\\x83q\\xa7\\x01\\x1e\\xaa\\xbd\\x0c\\x0b\\xf7\\xa7q\\xe0\\xde\\x9cOM\\xdc#\\x84N\\\\{7Ql9\\xb8=M \\xbd\\x12\\x97\\xcaf\\x88-\\x9aG\\x14\\xc5\\x12\\x058\\xc6\\xd2S\\xbf\\xb1\\t\\xc6\\x8e\\xd3=%\\xc4\\xb2k\\x97\\x0c9\\x13l,\\xbd\\xa7\\xc4k \\xe24I\\x9f\\x0c\\xac@\\xca\\x85\\xf6H\\x04~\\x99\\xb9\\x08\\x82\\xab-\\xdbt\\x9fx\\rF]\\xa7n\\xe1\\x13\\x1b\\t\\xb7\\x05\\xa2\\x0e\\xf2}L-3\\xdeCS\\x89\"\\x97\\xca>\\x8a\\xa8i\\xf0}$C\\x17\\xc9\\xde\\x8c\\x0fM\\\\[H\\xf0t\\x80)\\xf3\\xda#,\\x84K\\xe6\\x90\\xc3y\\r\\xa7?\\x84\\x0c\\xe3v{\\x97\\xce\"\\x1b\\xc9%\\x99\\xb8t\\xee#\\xc6Ld\\x8bM\\x9a!\\x8a\\x12\\x17\\xb6G\\xe2\\xd0\\xc4\\xde\\x17\\x13\\x08Q\\xe4\\x1d1\\xe9\\x82w\\x99}\\x87\\xa8k\\xf0\\x03\\x8a\\xd7\\xba\\xfb\\t\\xc1\\x96\\xbb\\xcfO\\x04\\x8f!\\xb9\\x9a\\x94\\xf2\\x00Q\\xbfL\\xb9\\xc3\\x97\\xf70\\xb3\\xe2\\xb77\\xa3c\\x84]Yf\\x97GVv\\xdd\\xe5\\xc4\\x19\\x1d\\x8di`\\x85\\xf6>\\xc6\\x14\\x9d\\xa2\\x11\\xc6\\xde\\xe3\\xfb\\x0e\\x06\\r\\x96X6\\xcfI?\\x08!\\xab\\xecaW`=@v\\xac\\xaa\\xeb\\x18\\x0bh\\x93T_\\xb3\\x9a\"\\xf7\\x89\\xb0B\\xb6\\x87\\x03\\xb6\\x86Ow\\xb6\\x94xf(\\x8e\\x10_\\xa7\\xf9\\x00\\xbcn\\xda\\xbc\\rU\\xce\\x99J\\x0f\\xe9pb\\x02\\x0f\\x08\\xb4\\x7f\\x10/N\\xa3\\x1c\\n\\xd0a\\x04\\xf7Z\\xadG!\\xb2j\\x97\\xba\\x16\\xeex\\x9dq\\xcb\\x7f\\x17\\xb9\\xc7\\xe0\\xbe<\\xb6h\\\\\\xe0\\xbe\\x04\\x19|i\\x19H\\xec\\xa6\\xcc\\x07m\\xd3G\\xd4\\xda \\x0f\\x98>\\x82\\x06\\xc3\\x95nA\\xc4r\\x7f.\\xa2\\xea\\xaa\\x16\\x9b:\\xe5\\xc6\\xf6M\\x9b\\xbb\\x01\\x1a#\\xab\\xdf\\x89H|n\\xf3\\xb3\\xd4\\xf6\\x94\\xff\\x9d\\xb6\\xc7q7\\\\O\\xc3\\xe3Vl\\xa5\\xacK\\xb6:\\xebR\\xca\\xdeR\\x83\\xb3\\x0e\\xf7\\x1flkZh\\x1a\\x1fa\\xa8$\\xab9\\xeb\\xa6\\xab\\xb9\\xe9j\\xfc\\xff}W\\xb3\\xee^\\xbe\\xe9e\\xd6u\\x1c7\\xbd\\x8c\\x0f=\\xc6M/3\\x9f\\xac\\\\O/\\x93\\xb7/\\xd0\\xd9\\xa8iG:\\xe5\\xd13\\x9fh\\xed\\xc8gL(\\xed\\xc9\\x19\\xc5\\xfbBO}\\x04<\\xd1\\x8c:\\xb0\\xa8\\xe4\\xf4\\xb8\\x13g#\\xc0$\\x84\\xaf\\xaa\\xcc\\xc1\\x06\\x16.\\xe0H\\xcbx\\x9c\\xc9\\xcf\\x89\\x0c{!J`4T\\xf4\\x95\\x92@\\xccU\\x07\\xc2K\\x98\\x80\\x89\\x91^v\\xeaVx:\\x8d\\xbal\\x94N:\\x8bE5\\xd5L+\\xab@2_/\\x94\\xb3u\\x98R\\xc9\\x14]\\xa9\\xe6\\xd3\\xbbL\\xbdf\\x1b\\xe8)\\xeb\\x82\\x80\\x92\\xbd\\x0c\\tc3\\x9b\\xc4\\x96\\x83Du\\xb1\\xa8\\x8c\\xa4g\\xba`4\\x07\\t}\\xb2kaQs\\xb0\\xb8\\xad\\xd4/\\\\\\xb5\\xc2\\x02\\xa8e^\\x81Gn\\x0f\\x1e\\xd4\\xeb~\\xb9\\x04\" \\x04\\xc38h\\xcfG\\xcaO\\xa9\\xab\\x17\\xde\\xd5\\xce\\xbcNO\\xaf3\\xa6\\x15\\x01\\xd0b/\" \\xf7tMq]{<u\\xba4\\xd4.\\xe0i\\x8b\\x84\\x11n6\\tm\\x19\\xdd\\xe0\\x89\\x10\\x1e\\x84\\xe7\\xd1\\xa9V/B\\xe3\\xb2\\xbe\\xae\\xe5.\\xb5\\xe8)S\\xe8\\xfd \\xb4r\\x1a\\xd5\\xdb\\x1fbqU_\\x83\\xdcrn\\xa0\\xb1\\x99)h\\xec\\x9d\\xd6\\xfd\\xcaV\\x19Bf\\x88\\x92\\xba?\\x86\\x891|\\x8d\\x12\\x88\\x1d\\xa1\\x9e\\xba\\x10\\r\\xe0\\xb5\\xcbP\\xf2\\xf4\\x86\\xbfJfI\\xb8\\x90-$\\xc2\\xd4\\xe0:\\xe9\\xa4\\xd9 \"\\x12s\\x8f\\x92\\xa8\\xee\\xab\\xe3gn\\xa0\\xb1\\xce!\\x9a[q\\x13\\x12\\xc2GK\\xae\\x06i\\xe5c#\\x07N\\xb7\\x9d\\x8c\\xc7c<\\x94\\xa6\\xdb\\x8d\\x15e\\xe9\\xf4\\x122|\\x9a+\\x9c\\xbfj\\xf1\\xab\\x83\\x95$\\x9b\\x82\\xbb{\\xe1\\xe8\\xd4\\x1b\\xd0)\\x7f\\x84 \\xc4\\xca\\xd5\\xa22\\xe0\\x88\\x08xqPL\\xad9\"\\xf0&,Kdy\\xfc-\\x15\\xa6y\\xda5_E\\xe9\\x18J\\xd7\\x11MB4\\xaf(f2O\\xe1:\\x95gt\\xf4Uf\\x03\\xe3j~f0\\xa8a\\x92y!\\x1c\\x04\\xaa\\xc0\\x9aF\\xb5\\xaaiV5R\\x0ek\\xab\\xee\\xf9B\\xcarF\\xd2\\xcck\\xa6\\x95UT\\xd5tg1k\\x87E\\x19X\\xb2\\xe5\\xd5\\x8a\\xbc\\xc1jab\\xc8if\\x85OS\\xf7r\\xca\\xad-r\\xddR\\x9f\\x90U\\t0xf?G\\xd5\\xbd@A0\\xa8\\xe5\\x9bY\\xd4\\x14\\xe3\\xd54\\xacr\\xf6|\\xd5\\xae\\x1d\\x8b\\x03\\x9eC\\xed\"E\\xc2\\xc8\\xfa\\x95\\x85\\xda%\\xbbe5\\xc2\\xb9\\x1d,^\\xa9\\xf2\\x83\\xdcr\\xd4\\xc2\\xd2x\\xd1WjK\\xebW\\xe6\\xe6[m68\\x86\\xe4\\xd1\\x82.wJ\\xa5\\xd0\\xae\\x84\\xd9.G\\xd0\\x10\\xf5tO\\x92\\xa5\\r-\\xba\\xf3\\x0f\\x00\\x00\\x00\\xff\\xff\\x03\\x00PK\\x03\\x04\\x14\\x00\\x06\\x00\\x08\\x00\\x00\\x00!\\x00\\r\\xd1\\x90\\x9f\\xb6\\x00\\x00\\x00\\x1b\\x01\\x00\\x00\\'\\x00\\x00\\x00theme/theme/_rels/themeManager.xml.rels\\x84\\x8fM\\n\\xc20\\x14\\x84\\xf7\\x82w\\x08oo\\xd3\\xba\\x10\\x91&\\xdd\\x88\\xd0\\xad\\xd4\\x03\\x84\\xe45\\r6?$Q\\xec\\xed\\r\\xae,\\x08.\\x87a\\xbe\\x99i\\xbb\\x97\\x9d\\xc9\\x13c2\\xde1h\\xaa\\x1a\\x08:\\xe9\\x95q\\x9a\\xc1m\\xb8\\xec\\x8e@R\\x16N\\x89\\xd9;d\\xb0`\\x82\\x8eo7\\xed\\x15g\\x91K(M&$R(.1\\x98r\\x0e\\'J\\x93\\x9c\\xd0\\x8aT\\xf9\\x80\\xae8\\xa3\\x8fV\\xe4\"\\xa3\\xa6A\\xc8\\xbb\\xd0H\\xf7u}\\xa0\\xf1\\x9b\\x01|\\xc5$\\xbdb\\x10{\\xd5\\x00\\x19\\x96P\\x9a\\xff\\xb3\\xfd8\\x1a\\x89g/\\x1f\\x16]\\xfeQAs\\xd9\\x85\\x05(\\xa2\\xc6\\xcc\\xe0#\\x9b\\xaaL\\x04\\xca[\\xba\\xba\\xc4\\xdf\\x00\\x00\\x00\\xff\\xff\\x03\\x00PK\\x01\\x02-\\x00\\x14\\x00\\x06\\x00\\x08\\x00\\x00\\x00!\\x00\\xe9\\xde\\x0f\\xbf\\xff\\x00\\x00\\x00\\x1c\\x02\\x00\\x00\\x13\\x00\\x00\\x00\\x00\\x00\\x00\\x00\\x00\\x00\\x00\\x00\\x00\\x00\\x00\\x00\\x00\\x00[Content_Types].xmlPK\\x01\\x02-\\x00\\x14\\x00\\x06\\x00\\x08\\x00\\x00\\x00!\\x00\\xa5\\xd6\\xa7\\xe7\\xc0\\x00\\x00\\x006\\x01\\x00\\x00\\x0b\\x00\\x00\\x00\\x00\\x00\\x00\\x00\\x00\\x00\\x00\\x00\\x00\\x000\\x01\\x00\\x00_rels/.relsPK\\x01\\x02-\\x00\\x14\\x00\\x06\\x00\\x08\\x00\\x00\\x00!\\x00ky\\x96\\x16\\x83\\x00\\x00\\x00\\x8a\\x00\\x00\\x00\\x1c\\x00\\x00\\x00\\x00\\x00\\x00\\x00\\x00\\x00\\x00\\x00\\x00\\x00\\x19\\x02\\x00\\x00theme/theme/themeManager.xmlPK\\x01\\x02-\\x00\\x14\\x00\\x06\\x00\\x08\\x00\\x00\\x00!\\x00N\\xd2m\\xd1\\xcf\\x06\\x00\\x00\\xb0\\x1f\\x00\\x00\\x16\\x00\\x00\\x00\\x00\\x00\\x00\\x00\\x00\\x00\\x00\\x00\\x00\\x00\\xd6\\x02\\x00\\x00theme/theme/theme1.xmlPK\\x01\\x02-\\x00\\x14\\x00\\x06\\x00\\x08\\x00\\x00\\x00!\\x00\\r\\xd1\\x90\\x9f\\xb6\\x00\\x00\\x00\\x1b\\x01\\x00\\x00\\'\\x00\\x00\\x00\\x00\\x00\\x00\\x00\\x00\\x00\\x00\\x00\\x00\\x00\\xd9\\t\\x00\\x00theme/theme/_rels/themeManager.xml.relsPK\\x05\\x06\\x00\\x00\\x00\\x00\\x05\\x00\\x05\\x00]\\x01\\x00\\x00\\xd4\\n\\x00\\x00\\x00\\x00\\x9b\\x08\\x10\\x00\\x9b\\x08\\x00\\x00\\x00\\x00\\x00\\x00\\x00\\x00\\x00\\x00\\x01\\x00\\x00\\x00\\x8c\\x08\\x10\\x00\\x8c\\x08\\x00\\x00\\x00\\x00\\x00\\x00\\x00\\x00\\x00\\x00\\x00\\x00\\x00\\x00\\n\\x00\\x00\\x00\\t\\x08\\x10\\x00\\x00\\x06\\x10\\x00ZO\\xcd\\x07\\xc9\\x00\\x02\\x00\\x06\\x08\\x00\\x00\\x0b\\x02$\\x00\\x00\\x00\\x00\\x00\\x00\\x00\\x00\\x00\\x97\\x00\\x00\\x00\\xd17\\x00\\x00)A\\x00\\x00\\xd5J\\x00\\x00\\x8fT\\x00\\x00-^\\x00\\x00/e\\x00\\x00\\r\\x00\\x02\\x00\\x01\\x00\\x0c\\x00\\x02\\x00d\\x00\\x0f\\x00\\x02\\x00\\x01\\x00\\x11\\x00\\x02\\x00\\x00\\x00\\x10\\x00\\x08\\x00\\xfc\\xa9\\xf1\\xd2MbP?_\\x00\\x02\\x00\\x01\\x00*\\x00\\x02\\x00\\x00\\x00+\\x00\\x02\\x00\\x00\\x00\\x82\\x00\\x02\\x00\\x01\\x00\\x80\\x00\\x08\\x00\\x00\\x00\\x00\\x00\\x00\\x00\\x00\\x00%\\x02\\x04\\x00\\x00\\x00\\xfa\\x00\\x81\\x00\\x02\\x00\\xc1\\x04\\x14\\x00\\x00\\x00\\x15\\x00\\x00\\x00\\x83\\x00\\x02\\x00\\x00\\x00\\x84\\x00\\x02\\x00\\x00\\x00&\\x00\\x08\\x00\\x00\\x00\\x00\\x00\\x00\\x00\\xe8?\\'\\x00\\x08\\x00\\x00\\x00\\x00\\x00\\x00\\x00\\xe8?(\\x00\\x08\\x00\\x00\\x00\\x00\\x00\\x00\\x00\\xf0?)\\x00\\x08\\x00\\x00\\x00\\x00\\x00\\x00\\x00\\xf0?\\xa1\\x00\"\\x00\\x00\\x00\\xfa\\x00\\x01\\x00\\x01\\x00\\x01\\x00\\x04\\x00\\r\\x8c\\x02\\x00\\x00\\x00\\x00\\x00\\x00\\x00\\xe0?\\x00\\x00\\x00\\x00\\x00\\x00\\xe0?\\x0f\\xbf\\x9c\\x08&\\x00\\x9c\\x08\\x00\\x00\\x00\\x00\\x00\\x00\\x00\\x00\\x00\\x00\\x00\\x00\\x00\\x00\\x00\\x00\\x00\\x00\\x00\\x00\\x00\\x00\\x00\\x00\\x00\\x00\\x04\\x00\\x00\\x00\\x00\\x00\\x00\\x00\\x00\\x00U\\x00\\x02\\x00\\x08\\x00}\\x00\\x0c\\x00\\x04\\x00\\x04\\x00\\xd1\\r\\x0f\\x00\\x02\\x00\\x00\\x00\\x00\\x02\\x0e\\x00\\x00\\x00\\x00\\x00\\x97\\x00\\x00\\x00\\x00\\x00\\x05\\x00\\x00\\x00\\x08\\x02\\x10\\x00\\x00\\x00\\x00\\x00\\x05\\x00\\xfa\\x00\\x00\\x00\\x00\\x00\\x00\\x01\\x0f\\x00\\x08\\x02\\x10\\x00\\x01\\x00\\x00\\x00\\x05\\x00\\xfa\\x00\\x00\\x00\\x00\\x00\\x00\\x01\\x0f\\x00\\x08\\x02\\x10\\x00\\x02\\x00\\x00\\x00\\x05\\x00\\xfa\\x00\\x00\\x00\\x00\\x00\\x00\\x01\\x0f\\x00\\x08\\x02\\x10\\x00\\x03\\x00\\x00\\x00\\x05\\x00\\xfa\\x00\\x00\\x00\\x00\\x00\\x00\\x01\\x0f\\x00\\x08\\x02\\x10\\x00\\x04\\x00\\x00\\x00\\x05\\x00\\xfa\\x00\\x00\\x00\\x00\\x00\\x00\\x01\\x0f\\x00\\x08\\x02\\x10\\x00\\x05\\x00\\x00\\x00\\x05\\x00\\xfa\\x00\\x00\\x00\\x00\\x00\\x00\\x01\\x0f\\x00\\x08\\x02\\x10\\x00\\x06\\x00\\x00\\x00\\x05\\x00\\xfa\\x00\\x00\\x00\\x00\\x00\\x00\\x01\\x0f\\x00\\x08\\x02\\x10\\x00\\x07\\x00\\x00\\x00\\x05\\x00\\xfa\\x00\\x00\\x00\\x00\\x00\\x00\\x01\\x0f\\x00\\x08\\x02\\x10\\x00\\x08\\x00\\x00\\x00\\x05\\x00\\xfa\\x00\\x00\\x00\\x00\\x00\\x00\\x01\\x0f\\x00\\x08\\x02\\x10\\x00\\t\\x00\\x00\\x00\\x05\\x00\\xfa\\x00\\x00\\x00\\x00\\x00\\x00\\x01\\x0f\\x00\\x08\\x02\\x10\\x00\\n\\x00\\x00\\x00\\x05\\x00\\xfa\\x00\\x00\\x00\\x00\\x00\\x00\\x01\\x0f\\x00\\x08\\x02\\x10\\x00\\x0b\\x00\\x00\\x00\\x05\\x00\\xfa\\x00\\x00\\x00\\x00\\x00\\x00\\x01\\x0f\\x00\\x08\\x02\\x10\\x00\\x0c\\x00\\x00\\x00\\x05\\x00\\xfa\\x00\\x00\\x00\\x00\\x00\\x00\\x01\\x0f\\x00\\x08\\x02\\x10\\x00\\r\\x00\\x00\\x00\\x05\\x00\\xfa\\x00\\x00\\x00\\x00\\x00\\x00\\x01\\x0f\\x00\\x08\\x02\\x10\\x00\\x0e\\x00\\x00\\x00\\x05\\x00\\xfa\\x00\\x00\\x00\\x00\\x00\\x00\\x01\\x0f\\x00\\x08\\x02\\x10\\x00\\x0f\\x00\\x00\\x00\\x05\\x00\\xfa\\x00\\x00\\x00\\x00\\x00\\x00\\x01\\x0f\\x00\\x08\\x02\\x10\\x00\\x10\\x00\\x00\\x00\\x05\\x00\\xfa\\x00\\x00\\x00\\x00\\x00\\x00\\x01\\x0f\\x00\\x08\\x02\\x10\\x00\\x11\\x00\\x00\\x00\\x05\\x00\\xfa\\x00\\x00\\x00\\x00\\x00\\x00\\x01\\x0f\\x00\\x08\\x02\\x10\\x00\\x12\\x00\\x00\\x00\\x05\\x00\\xfa\\x00\\x00\\x00\\x00\\x00\\x00\\x01\\x0f\\x00\\x08\\x02\\x10\\x00\\x13\\x00\\x00\\x00\\x05\\x00\\xfa\\x00\\x00\\x00\\x00\\x00\\x00\\x01\\x0f\\x00\\x08\\x02\\x10\\x00\\x14\\x00\\x00\\x00\\x05\\x00\\xfa\\x00\\x00\\x00\\x00\\x00\\x00\\x01\\x0f\\x00\\x08\\x02\\x10\\x00\\x15\\x00\\x00\\x00\\x05\\x00\\xfa\\x00\\x00\\x00\\x00\\x00\\x00\\x01\\x0f\\x00\\x08\\x02\\x10\\x00\\x16\\x00\\x00\\x00\\x05\\x00\\xfa\\x00\\x00\\x00\\x00\\x00\\x00\\x01\\x0f\\x00\\x08\\x02\\x10\\x00\\x17\\x00\\x00\\x00\\x05\\x00\\xfa\\x00\\x00\\x00\\x00\\x00\\x00\\x01\\x0f\\x00\\x08\\x02\\x10\\x00\\x18\\x00\\x00\\x00\\x05\\x00\\xfa\\x00\\x00\\x00\\x00\\x00\\x00\\x01\\x0f\\x00\\x08\\x02\\x10\\x00\\x19\\x00\\x00\\x00\\x05\\x00\\xfa\\x00\\x00\\x00\\x00\\x00\\x00\\x01\\x0f\\x00\\x08\\x02\\x10\\x00\\x1a\\x00\\x00\\x00\\x05\\x00\\xfa\\x00\\x00\\x00\\x00\\x00\\x00\\x01\\x0f\\x00\\x08\\x02\\x10\\x00\\x1b\\x00\\x00\\x00\\x05\\x00\\xfa\\x00\\x00\\x00\\x00\\x00\\x00\\x01\\x0f\\x00\\x08\\x02\\x10\\x00\\x1c\\x00\\x00\\x00\\x05\\x00\\xfa\\x00\\x00\\x00\\x00\\x00\\x00\\x01\\x0f\\x00\\x08\\x02\\x10\\x00\\x1d\\x00\\x00\\x00\\x05\\x00\\xfa\\x00\\x00\\x00\\x00\\x00\\x00\\x01\\x0f\\x00\\x08\\x02\\x10\\x00\\x1e\\x00\\x00\\x00\\x05\\x00\\xfa\\x00\\x00\\x00\\x00\\x00\\x00\\x01\\x0f\\x00\\x08\\x02\\x10\\x00\\x1f\\x00\\x00\\x00\\x05\\x00\\xfa\\x00\\x00\\x00\\x00\\x00\\x00\\x01\\x0f\\x00\\xfd\\x00\\n\\x00\\x00\\x00\\x00\\x00>\\x00\\x00\\x00\\x00\\x00\\xfd\\x00\\n\\x00\\x00\\x00\\x01\\x00>\\x00\\x01\\x00\\x00\\x00\\xfd\\x00\\n\\x00\\x00\\x00\\x02\\x00>\\x00\\x02\\x00\\x00\\x00\\xfd\\x00\\n\\x00\\x00\\x00\\x03\\x00>\\x00\\x03\\x00\\x00\\x00\\xfd\\x00\\n\\x00\\x00\\x00\\x04\\x00>\\x00\\x07\\x00\\x00\\x00\\x03\\x02\\x0e\\x00\\x01\\x00\\x00\\x00\\x0f\\x00ffffff\\x14@\\xbd\\x00\\x18\\x00\\x01\\x00\\x01\\x00\\x0f\\x00\\x00\\x00\\x0c@\\x0f\\x00\\x01\\x80a@\\x0f\\x00\\x01\\x004@\\x03\\x00\\xfd\\x00\\n\\x00\\x01\\x00\\x04\\x00\\x0f\\x00\\x04\\x00\\x00\\x00\\x03\\x02\\x0e\\x00\\x02\\x00\\x00\\x00\\x0f\\x00\\x9a\\x99\\x99\\x99\\x99\\x99\\x13@\\xbd\\x00\\x18\\x00\\x02\\x00\\x01\\x00\\x0f\\x00\\x00\\x00\\x08@\\x0f\\x00\\x01\\x80a@\\x0f\\x00\\x01\\x004@\\x03\\x00\\xfd\\x00\\n\\x00\\x02\\x00\\x04\\x00\\x0f\\x00\\x04\\x00\\x00\\x00\\xbd\\x00\\x18\\x00\\x03\\x00\\x01\\x00\\x0f\\x00\\x01\\x00t@\\x0f\\x00\\x01@`@\\x0f\\x00\\x01\\x004@\\x03\\x00\\xfd\\x00\\n\\x00\\x03\\x00\\x04\\x00\\x0f\\x00\\x04\\x00\\x00\\x00\\x03\\x02\\x0e\\x00\\x04\\x00\\x00\\x00\\x0f\\x00ffffff\\x12@\\xbd\\x00\\x18\\x00\\x04\\x00\\x01\\x00\\x0f\\x00\\x01`s@\\x0f\\x00\\x00\\x00\\xf8?\\x0f\\x00\\x01\\x004@\\x03\\x00\\xfd\\x00\\n\\x00\\x04\\x00\\x04\\x00\\x0f\\x00\\x04\\x00\\x00\\x00\\xbd\\x00\\x1e\\x00\\x05\\x00\\x00\\x00\\x0f\\x00\\x00\\x00\\x14@\\x0f\\x00\\x01\\x80v@\\x0f\\x00\\x01\\x80a@\\x0f\\x00\\x01\\x004@\\x03\\x00\\xfd\\x00\\n\\x00\\x05\\x00\\x04\\x00\\x0f\\x00\\x04\\x00\\x00\\x00\\xbd\\x00\\x1e\\x00\\x06\\x00\\x00\\x00\\x0f\\x00\\x01\\xe0\\x80@\\x0f\\x00\\x01`x@\\x0f\\x00\\x01@e@\\x0f\\x00\\x01\\x00D@\\x03\\x00\\xfd\\x00\\n\\x00\\x06\\x00\\x04\\x00\\x0f\\x00\\x04\\x00\\x00\\x00\\x03\\x02\\x0e\\x00\\x07\\x00\\x00\\x00\\x0f\\x00ffffff\\x12@\\xbd\\x00\\x18\\x00\\x07\\x00\\x01\\x00\\x0f\\x00\\x01@u@\\x0f\\x00\\x01\\x80a@\\x0f\\x00\\x01\\x00>@\\x03\\x00\\xfd\\x00\\n\\x00\\x07\\x00\\x04\\x00\\x0f\\x00\\x04\\x00\\x00\\x00\\xbd\\x00\\x1e\\x00\\x08\\x00\\x00\\x00\\x0f\\x00\\x00\\x00\\x14@\\x0f\\x00\\x01@u@\\x0f\\x00\\x00\\x00\\xf8?\\x0f\\x00\\x01\\x004@\\x03\\x00\\xfd\\x00\\n\\x00\\x08\\x00\\x04\\x00\\x0f\\x00\\x04\\x00\\x00\\x00\\x03\\x02\\x0e\\x00\\t\\x00\\x00\\x00\\x0f\\x00\\x9a\\x99\\x99\\x99\\x99\\x99\\x11@\\xbd\\x00\\x18\\x00\\t\\x00\\x01\\x00\\x0f\\x00\\x01 r@\\x0f\\x00\\x01\\x80a@\\x0f\\x00\\x01\\x004@\\x03\\x00\\xfd\\x00\\n\\x00\\t\\x00\\x04\\x00\\x0f\\x00\\x04\\x00\\x00\\x00\\x03\\x02\\x0e\\x00\\n\\x00\\x00\\x00\\x0f\\x00\\x9a\\x99\\x99\\x99\\x99\\x99\\x13@\\xbd\\x00\\x18\\x00\\n\\x00\\x01\\x00\\x0f\\x00\\x01`s@\\x0f\\x00\\x00\\x00\\xf8?\\x0f\\x00\\x01\\x00$@\\x03\\x00\\xfd\\x00\\n\\x00\\n\\x00\\x04\\x00\\x0f\\x00\\x04\\x00\\x00\\x00~\\x02\\n\\x00\\x0b\\x00\\x00\\x00\\x0f\\x00\\x01\\xe0\\x80@\\xbd\\x00\\x12\\x00\\x0b\\x00\\x02\\x00\\x0f\\x00\\x00\\x00\\xf8?\\x0f\\x00\\x01\\x004@\\x03\\x00\\xfd\\x00\\n\\x00\\x0b\\x00\\x04\\x00\\x0f\\x00\\x04\\x00\\x00\\x00\\xbd\\x00\\x1e\\x00\\x0c\\x00\\x00\\x00\\x0f\\x00\\x01\\x00~@\\x0f\\x00\\x01@u@\\x0f\\x00\\x01\\x00d@\\x0f\\x00\\x01\\x004@\\x03\\x00\\xfd\\x00\\n\\x00\\x0c\\x00\\x04\\x00\\x0f\\x00\\x04\\x00\\x00\\x00\\xbd\\x00\\x1e\\x00\\r\\x00\\x00\\x00\\x0f\\x00\\x01\\x00~@\\x0f\\x00\\x00\\x00\\x08@\\x0f\\x00\\x01\\x80a@\\x0f\\x00\\x01\\x00$@\\x03\\x00\\xfd\\x00\\n\\x00\\r\\x00\\x04\\x00\\x0f\\x00\\x04\\x00\\x00\\x00\\xbd\\x00\\x12\\x00\\x0e\\x00\\x00\\x00\\x0f\\x00\\x01\\xe0z@\\x0f\\x00\\x00\\x00\\x08@\\x01\\x00\\x03\\x02\\x0e\\x00\\x0e\\x00\\x02\\x00\\x0f\\x00\\x9a\\x99\\x99\\x99\\x99\\x99\\xf1?~\\x02\\n\\x00\\x0e\\x00\\x03\\x00\\x0f\\x00\\x01\\x00$@\\xfd\\x00\\n\\x00\\x0e\\x00\\x04\\x00\\x0f\\x00\\x04\\x00\\x00\\x00\\xbd\\x00\\x1e\\x00\\x0f\\x00\\x00\\x00\\x0f\\x00\\x01 \\x82@\\x0f\\x00\\x00\\x00\\x10@\\x0f\\x00\\x01\\x00^@\\x0f\\x00\\x01\\x004@\\x03\\x00\\xfd\\x00\\n\\x00\\x0f\\x00\\x04\\x00\\x0f\\x00\\x04\\x00\\x00\\x00~\\x02\\n\\x00\\x10\\x00\\x00\\x00\\x0f\\x00\\x01\\xd0\\x81@\\x03\\x02\\x0e\\x00\\x10\\x00\\x01\\x00\\x0f\\x00\\x9a\\x99\\x99\\x99\\x99\\x99\\x11@\\xbd\\x00\\x12\\x00\\x10\\x00\\x02\\x00\\x0f\\x00\\x00\\x00\\xf8?\\x0f\\x00\\x01\\x00D@\\x03\\x00\\xfd\\x00\\n\\x00\\x10\\x00\\x04\\x00\\x0f\\x00\\x04\\x00\\x00\\x00\\xbd\\x00\\x1e\\x00\\x11\\x00\\x00\\x00\\x0f\\x00\\x01\\xe0\\x80@\\x0f\\x00\\x01`x@\\x0f\\x00\\x01@`@\\x0f\\x00\\x01\\x00D@\\x03\\x00\\xfd\\x00\\n\\x00\\x11\\x00\\x04\\x00\\x0f\\x00\\x04\\x00\\x00\\x00\\x03\\x02\\x0e\\x00\\x12\\x00\\x00\\x00\\x0f\\x00ffffff\\x14@\\xbd\\x00\\x18\\x00\\x12\\x00\\x01\\x00\\x0f\\x00\\x00\\x00\\x0c@\\x0f\\x00\\x01\\x80a@\\x0f\\x00\\x01\\x00>@\\x03\\x00\\xfd\\x00\\n\\x00\\x12\\x00\\x04\\x00\\x0f\\x00\\x04\\x00\\x00\\x00\\xbd\\x00\\x1e\\x00\\x13\\x00\\x00\\x00\\x0f\\x00\\x01\\xd0\\x81@\\x0f\\x00\\x01\\xc0w@\\x0f\\x00\\x01@e@\\x0f\\x00\\x01\\x00>@\\x03\\x00\\xfd\\x00\\n\\x00\\x13\\x00\\x04\\x00\\x0f\\x00\\x04\\x00\\x00\\x00\\x03\\x02\\x0e\\x00\\x14\\x00\\x00\\x00\\x0f\\x00ffffff\\x14@\\xbd\\x00\\x18\\x00\\x14\\x00\\x01\\x00\\x0f\\x00\\x01\\xc0w@\\x0f\\x00\\x00\\x00\\xf8?\\x0f\\x00\\x01\\x00>@\\x03\\x00\\xfd\\x00\\n\\x00\\x14\\x00\\x04\\x00\\x0f\\x00\\x04\\x00\\x00\\x00\\xbd\\x00\\x1e\\x00\\x15\\x00\\x00\\x00\\x0f\\x00\\x01\\xe0\\x80@\\x0f\\x00\\x01@u@\\x0f\\x00\\x01@e@\\x0f\\x00\\x01\\x004@\\x03\\x00\\xfd\\x00\\n\\x00\\x15\\x00\\x04\\x00\\x0f\\x00\\x04\\x00\\x00\\x00\\xbd\\x00\\x18\\x00\\x16\\x00\\x01\\x00\\x0f\\x00\\x01 w@\\x0f\\x00\\x00\\x00\\xf8?\\x0f\\x00\\x01\\x00D@\\x03\\x00\\xfd\\x00\\n\\x00\\x16\\x00\\x04\\x00\\x0f\\x00\\x04\\x00\\x00\\x00\\x03\\x02\\x0e\\x00\\x17\\x00\\x00\\x00\\x0f\\x00ffffff\\x12@\\xbd\\x00\\x18\\x00\\x17\\x00\\x01\\x00\\x0f\\x00\\x01\\x80v@\\x0f\\x00\\x00\\x00\\xf0?\\x0f\\x00\\x01\\x004@\\x03\\x00\\xfd\\x00\\n\\x00\\x17\\x00\\x04\\x00\\x0f\\x00\\x04\\x00\\x00\\x00\\x03\\x02\\x0e\\x00\\x18\\x00\\x00\\x00\\x0f\\x00ffffff\\x14@\\xbd\\x00\\x18\\x00\\x18\\x00\\x01\\x00\\x0f\\x00\\x01\\xa0t@\\x0f\\x00\\x01@e@\\x0f\\x00\\x00\\x00\\xe0?\\x03\\x00\\xfd\\x00\\n\\x00\\x18\\x00\\x04\\x00\\x0f\\x00\\x04\\x00\\x00\\x00\\xbd\\x00\\x1e\\x00\\x19\\x00\\x00\\x00\\x0f\\x00\\x01\\x00~@\\x0f\\x00\\x01@u@\\x0f\\x00\\x01\\xc0g@\\x0f\\x00\\x01\\x004@\\x03\\x00\\xfd\\x00\\n\\x00\\x19\\x00\\x04\\x00\\x0f\\x00\\x04\\x00\\x00\\x00\\xbd\\x00\\x1e\\x00\\x1a\\x00\\x00\\x00\\x0f\\x00\\x00\\x00\\x14@\\x0f\\x00\\x00\\x00\\x08@\\x0f\\x00\\x01\\x00d@\\x0f\\x00\\x01\\x004@\\x03\\x00\\xfd\\x00\\n\\x00\\x1a\\x00\\x04\\x00\\x0f\\x00\\x04\\x00\\x00\\x00\\xbd\\x00\\x1e\\x00\\x1b\\x00\\x00\\x00\\x0f\\x00\\x00\\x00\\x14@\\x0f\\x00\\x01@u@\\x0f\\x00\\x01\\x00d@\\x0f\\x00\\x01\\x00D@\\x03\\x00\\xfd\\x00\\n\\x00\\x1b\\x00\\x04\\x00\\x0f\\x00\\x04\\x00\\x00\\x00~\\x02\\n\\x00\\x1c\\x00\\x00\\x00\\x0f\\x00\\x01@\\x80@\\xbd\\x00\\x12\\x00\\x1c\\x00\\x02\\x00\\x0f\\x00\\x00\\x00\\xf8?\\x0f\\x00\\x01\\x004@\\x03\\x00\\xfd\\x00\\n\\x00\\x1c\\x00\\x04\\x00\\x0f\\x00\\x04\\x00\\x00\\x00\\xbd\\x00\\x12\\x00\\x1d\\x00\\x00\\x00\\x0f\\x00\\x01@\\x80@\\x0f\\x00\\x01@u@\\x01\\x00~\\x02\\n\\x00\\x1d\\x00\\x03\\x00\\x0f\\x00\\x01\\x004@\\xfd\\x00\\n\\x00\\x1d\\x00\\x04\\x00\\x0f\\x00\\x04\\x00\\x00\\x00\\xbd\\x00\\x1e\\x00\\x1e\\x00\\x00\\x00\\x0f\\x00\\x01`}@\\x0f\\x00\\x01\\x00t@\\x0f\\x00\\x01\\x00d@\\x0f\\x00\\x01\\x004@\\x03\\x00\\xfd\\x00\\n\\x00\\x1e\\x00\\x04\\x00\\x0f\\x00\\x04\\x00\\x00\\x00\\xbd\\x00\\x1e\\x00\\x1f\\x00\\x00\\x00\\x0f\\x00\\x01\\x00~@\\x0f\\x00\\x01`s@\\x0f\\x00\\x01\\x00d@\\x0f\\x00\\x01\\x004@\\x03\\x00\\xfd\\x00\\n\\x00\\x1f\\x00\\x04\\x00\\x0f\\x00\\x04\\x00\\x00\\x00\\xd7\\x00D\\x000\\t\\x00\\x00l\\x02F\\x00<\\x00<\\x00*\\x00<\\x000\\x000\\x00<\\x000\\x00<\\x00<\\x002\\x000\\x000\\x00D\\x000\\x00D\\x000\\x00<\\x000\\x00<\\x000\\x00*\\x00<\\x00<\\x000\\x000\\x000\\x002\\x002\\x000\\x00\\x08\\x02\\x10\\x00 \\x00\\x00\\x00\\x05\\x00\\xfa\\x00\\x00\\x00\\x00\\x00\\x00\\x01\\x0f\\x00\\x08\\x02\\x10\\x00!\\x00\\x00\\x00\\x05\\x00\\xfa\\x00\\x00\\x00\\x00\\x00\\x00\\x01\\x0f\\x00\\x08\\x02\\x10\\x00\"\\x00\\x00\\x00\\x05\\x00\\xfa\\x00\\x00\\x00\\x00\\x00\\x00\\x01\\x0f\\x00\\x08\\x02\\x10\\x00#\\x00\\x00\\x00\\x05\\x00\\xfa\\x00\\x00\\x00\\x00\\x00\\x00\\x01\\x0f\\x00\\x08\\x02\\x10\\x00$\\x00\\x00\\x00\\x05\\x00\\xfa\\x00\\x00\\x00\\x00\\x00\\x00\\x01\\x0f\\x00\\x08\\x02\\x10\\x00%\\x00\\x00\\x00\\x05\\x00\\xfa\\x00\\x00\\x00\\x00\\x00\\x00\\x01\\x0f\\x00\\x08\\x02\\x10\\x00&\\x00\\x00\\x00\\x05\\x00\\xfa\\x00\\x00\\x00\\x00\\x00\\x00\\x01\\x0f\\x00\\x08\\x02\\x10\\x00\\'\\x00\\x00\\x00\\x05\\x00\\xfa\\x00\\x00\\x00\\x00\\x00\\x00\\x01\\x0f\\x00\\x08\\x02\\x10\\x00(\\x00\\x00\\x00\\x05\\x00\\xfa\\x00\\x00\\x00\\x00\\x00\\x00\\x01\\x0f\\x00\\x08\\x02\\x10\\x00)\\x00\\x00\\x00\\x05\\x00\\xfa\\x00\\x00\\x00\\x00\\x00\\x00\\x01\\x0f\\x00\\x08\\x02\\x10\\x00*\\x00\\x00\\x00\\x05\\x00\\xfa\\x00\\x00\\x00\\x00\\x00\\x00\\x01\\x0f\\x00\\x08\\x02\\x10\\x00+\\x00\\x00\\x00\\x05\\x00\\xfa\\x00\\x00\\x00\\x00\\x00\\x00\\x01\\x0f\\x00\\x08\\x02\\x10\\x00,\\x00\\x00\\x00\\x05\\x00\\xfa\\x00\\x00\\x00\\x00\\x00\\x00\\x01\\x0f\\x00\\x08\\x02\\x10\\x00-\\x00\\x00\\x00\\x05\\x00\\xfa\\x00\\x00\\x00\\x00\\x00\\x00\\x01\\x0f\\x00\\x08\\x02\\x10\\x00.\\x00\\x00\\x00\\x05\\x00\\xfa\\x00\\x00\\x00\\x00\\x00\\x00\\x01\\x0f\\x00\\x08\\x02\\x10\\x00/\\x00\\x00\\x00\\x05\\x00\\xfa\\x00\\x00\\x00\\x00\\x00\\x00\\x01\\x0f\\x00\\x08\\x02\\x10\\x000\\x00\\x00\\x00\\x05\\x00\\xfa\\x00\\x00\\x00\\x00\\x00\\x00\\x01\\x0f\\x00\\x08\\x02\\x10\\x001\\x00\\x00\\x00\\x05\\x00\\xfa\\x00\\x00\\x00\\x00\\x00\\x00\\x01\\x0f\\x00\\x08\\x02\\x10\\x002\\x00\\x00\\x00\\x05\\x00\\xfa\\x00\\x00\\x00\\x00\\x00\\x00\\x01\\x0f\\x00\\x08\\x02\\x10\\x003\\x00\\x00\\x00\\x05\\x00\\xfa\\x00\\x00\\x00\\x00\\x00\\x00\\x01\\x0f\\x00\\x08\\x02\\x10\\x004\\x00\\x00\\x00\\x05\\x00\\xfa\\x00\\x00\\x00\\x00\\x00\\x00\\x01\\x0f\\x00\\x08\\x02\\x10\\x005\\x00\\x00\\x00\\x05\\x00\\xfa\\x00\\x00\\x00\\x00\\x00\\x00\\x01\\x0f\\x00\\x08\\x02\\x10\\x006\\x00\\x00\\x00\\x05\\x00\\xfa\\x00\\x00\\x00\\x00\\x00\\x00\\x01\\x0f\\x00\\x08\\x02\\x10\\x007\\x00\\x00\\x00\\x05\\x00\\xfa\\x00\\x00\\x00\\x00\\x00\\x00\\x01\\x0f\\x00\\x08\\x02\\x10\\x008\\x00\\x00\\x00\\x05\\x00\\xfa\\x00\\x00\\x00\\x00\\x00\\x00\\x01\\x0f\\x00\\x08\\x02\\x10\\x009\\x00\\x00\\x00\\x05\\x00\\xfa\\x00\\x00\\x00\\x00\\x00\\x00\\x01\\x0f\\x00\\x08\\x02\\x10\\x00:\\x00\\x00\\x00\\x05\\x00\\xfa\\x00\\x00\\x00\\x00\\x00\\x00\\x01\\x0f\\x00\\x08\\x02\\x10\\x00;\\x00\\x00\\x00\\x05\\x00\\xfa\\x00\\x00\\x00\\x00\\x00\\x00\\x01\\x0f\\x00\\x08\\x02\\x10\\x00<\\x00\\x00\\x00\\x05\\x00\\xfa\\x00\\x00\\x00\\x00\\x00\\x00\\x01\\x0f\\x00\\x08\\x02\\x10\\x00=\\x00\\x00\\x00\\x05\\x00\\xfa\\x00\\x00\\x00\\x00\\x00\\x00\\x01\\x0f\\x00\\x08\\x02\\x10\\x00>\\x00\\x00\\x00\\x05\\x00\\xfa\\x00\\x00\\x00\\x00\\x00\\x00\\x01\\x0f\\x00\\x08\\x02\\x10\\x00?\\x00\\x00\\x00\\x05\\x00\\xfa\\x00\\x00\\x00\\x00\\x00\\x00\\x01\\x0f\\x00\\xbd\\x00\\x1e\\x00 \\x00\\x00\\x00\\x0f\\x00\\x01\\xe0\\x80@\\x0f\\x00\\x01@u@\\x0f\\x00\\x00\\x00\\xf8?\\x0f\\x00\\x01\\x00D@\\x03\\x00\\xfd\\x00\\n\\x00 \\x00\\x04\\x00\\x0f\\x00\\x04\\x00\\x00\\x00~\\x02\\n\\x00!\\x00\\x00\\x00\\x0f\\x00\\x01@\\x80@\\x03\\x02\\x0e\\x00!\\x00\\x01\\x00\\x0f\\x00ffffff\\x10@\\xbd\\x00\\x12\\x00!\\x00\\x02\\x00\\x0f\\x00\\x00\\x00\\xf8?\\x0f\\x00\\x01\\x00$@\\x03\\x00\\xfd\\x00\\n\\x00!\\x00\\x04\\x00\\x0f\\x00\\x04\\x00\\x00\\x00\\xbd\\x00\\x1e\\x00\"\\x00\\x00\\x00\\x0f\\x00\\x00\\x00\\x16@\\x0f\\x00\\x01@z@\\x0f\\x00\\x01\\x80a@\\x0f\\x00\\x01\\x004@\\x03\\x00\\xfd\\x00\\n\\x00\"\\x00\\x04\\x00\\x0f\\x00\\x04\\x00\\x00\\x00\\x03\\x02\\x0e\\x00#\\x00\\x00\\x00\\x0f\\x00\\x9a\\x99\\x99\\x99\\x99\\x99\\x13@\\xbd\\x00\\x18\\x00#\\x00\\x01\\x00\\x0f\\x00\\x01`s@\\x0f\\x00\\x00\\x00\\xf8?\\x0f\\x00\\x01\\x00$@\\x03\\x00\\xfd\\x00\\n\\x00#\\x00\\x04\\x00\\x0f\\x00\\x04\\x00\\x00\\x00\\xbd\\x00\\x1e\\x00$\\x00\\x00\\x00\\x0f\\x00\\x00\\x00\\x14@\\x0f\\x00\\x01\\x00t@\\x0f\\x00\\x01\\x00^@\\x0f\\x00\\x01\\x004@\\x03\\x00\\xfd\\x00\\n\\x00$\\x00\\x04\\x00\\x0f\\x00\\x04\\x00\\x00\\x00\\xbd\\x00\\x1e\\x00%\\x00\\x00\\x00\\x0f\\x00\\x00\\x00\\x16@\\x0f\\x00\\x00\\x00\\x0c@\\x0f\\x00\\x01@`@\\x0f\\x00\\x01\\x004@\\x03\\x00\\xfd\\x00\\n\\x00%\\x00\\x04\\x00\\x0f\\x00\\x04\\x00\\x00\\x00\\x03\\x02\\x0e\\x00&\\x00\\x00\\x00\\x0f\\x00\\x9a\\x99\\x99\\x99\\x99\\x99\\x13@\\xbd\\x00\\x18\\x00&\\x00\\x01\\x00\\x0f\\x00\\x01`s@\\x0f\\x00\\x00\\x00\\xf8?\\x0f\\x00\\x01\\x00$@\\x03\\x00\\xfd\\x00\\n\\x00&\\x00\\x04\\x00\\x0f\\x00\\x04\\x00\\x00\\x00\\x03\\x02\\x0e\\x00\\'\\x00\\x00\\x00\\x0f\\x00\\x9a\\x99\\x99\\x99\\x99\\x99\\x11@\\xbd\\x00\\x18\\x00\\'\\x00\\x01\\x00\\x0f\\x00\\x00\\x00\\x08@\\x0f\\x00\\x01@`@\\x0f\\x00\\x01\\x004@\\x03\\x00\\xfd\\x00\\n\\x00\\'\\x00\\x04\\x00\\x0f\\x00\\x04\\x00\\x00\\x00\\xbd\\x00\\x18\\x00(\\x00\\x01\\x00\\x0f\\x00\\x01@u@\\x0f\\x00\\x00\\x00\\xf8?\\x0f\\x00\\x01\\x004@\\x03\\x00\\xfd\\x00\\n\\x00(\\x00\\x04\\x00\\x0f\\x00\\x04\\x00\\x00\\x00\\xbd\\x00\\x1e\\x00)\\x00\\x00\\x00\\x0f\\x00\\x00\\x00\\x14@\\x0f\\x00\\x00\\x00\\x0c@\\x0f\\x00\\x01@`@\\x0f\\x00\\x01\\x00>@\\x03\\x00\\xfd\\x00\\n\\x00)\\x00\\x04\\x00\\x0f\\x00\\x04\\x00\\x00\\x00~\\x02\\n\\x00*\\x00\\x00\\x00\\x0f\\x00\\x00\\x00\\x12@\\x03\\x02\\x0e\\x00*\\x00\\x01\\x00\\x0f\\x00ffffff\\x02@\\xbd\\x00\\x12\\x00*\\x00\\x02\\x00\\x0f\\x00\\x01@`@\\x0f\\x00\\x01\\x00>@\\x03\\x00\\xfd\\x00\\n\\x00*\\x00\\x04\\x00\\x0f\\x00\\x04\\x00\\x00\\x00\\x03\\x02\\x0e\\x00+\\x00\\x00\\x00\\x0f\\x00\\x9a\\x99\\x99\\x99\\x99\\x99\\x11@~\\x02\\n\\x00+\\x00\\x01\\x00\\x0f\\x00\\x01\\x00t@~\\x02\\n\\x00+\\x00\\x03\\x00\\x0f\\x00\\x01\\x004@\\xfd\\x00\\n\\x00+\\x00\\x04\\x00\\x0f\\x00\\x04\\x00\\x00\\x00~\\x02\\n\\x00,\\x00\\x00\\x00\\x0f\\x00\\x00\\x00\\x14@\\xbd\\x00\\x12\\x00,\\x00\\x02\\x00\\x0f\\x00\\x01\\x00d@\\x0f\\x00\\x01\\x00N@\\x03\\x00\\xfd\\x00\\n\\x00,\\x00\\x04\\x00\\x0f\\x00\\x04\\x00\\x00\\x00\\x03\\x02\\x0e\\x00-\\x00\\x00\\x00\\x0f\\x00ffffff\\x14@\\xbd\\x00\\x18\\x00-\\x00\\x01\\x00\\x0f\\x00\\x01\\xc0w@\\x0f\\x00\\x01\\xc0g@\\x0f\\x00\\x01\\x00D@\\x03\\x00\\xfd\\x00\\n\\x00-\\x00\\x04\\x00\\x0f\\x00\\x04\\x00\\x00\\x00\\xbd\\x00\\x1e\\x00.\\x00\\x00\\x00\\x0f\\x00\\x01\\x00~@\\x0f\\x00\\x00\\x00\\x08@\\x0f\\x00\\x01\\x80a@\\x0f\\x00\\x01\\x00>@\\x03\\x00\\xfd\\x00\\n\\x00.\\x00\\x04\\x00\\x0f\\x00\\x04\\x00\\x00\\x00\\x03\\x02\\x0e\\x00/\\x00\\x00\\x00\\x0f\\x00ffffff\\x14@\\xbd\\x00\\x18\\x00/\\x00\\x01\\x00\\x0f\\x00\\x01\\xc0w@\\x0f\\x00\\x01\\x00d@\\x0f\\x00\\x01\\x004@\\x03\\x00\\xfd\\x00\\n\\x00/\\x00\\x04\\x00\\x0f\\x00\\x04\\x00\\x00\\x00\\x03\\x02\\x0e\\x000\\x00\\x00\\x00\\x0f\\x00ffffff\\x12@\\xbd\\x00\\x18\\x000\\x00\\x01\\x00\\x0f\\x00\\x01\\x00t@\\x0f\\x00\\x01\\x80a@\\x0f\\x00\\x01\\x004@\\x03\\x00\\xfd\\x00\\n\\x000\\x00\\x04\\x00\\x0f\\x00\\x04\\x00\\x00\\x00\\xbd\\x00\\x1e\\x001\\x00\\x00\\x00\\x0f\\x00\\x01\\x90\\x80@\\x0f\\x00\\x01 w@\\x0f\\x00\\x00\\x00\\xf8?\\x0f\\x00\\x01\\x004@\\x03\\x00\\xfd\\x00\\n\\x001\\x00\\x04\\x00\\x0f\\x00\\x04\\x00\\x00\\x00\\xbd\\x00\\x1e\\x002\\x00\\x00\\x00\\x0f\\x00\\x00\\x00\\x14@\\x0f\\x00\\x01\\xa0t@\\x0f\\x00\\x01\\x80a@\\x0f\\x00\\x01\\x004@\\x03\\x00\\xfd\\x00\\n\\x002\\x00\\x04\\x00\\x0f\\x00\\x04\\x00\\x00\\x00\\xbd\\x00\\x1e\\x003\\x00\\x00\\x00\\x0f\\x00\\x00\\x00\\x1c@\\x0f\\x00\\x01\\x00t@\\x0f\\x00\\x01`}@\\x0f\\x00\\x01\\x80a@\\x03\\x00\\xfd\\x00\\n\\x003\\x00\\x04\\x00\\x0f\\x00\\x05\\x00\\x00\\x00\\xbd\\x00\\x18\\x004\\x00\\x01\\x00\\x0f\\x00\\x01\\x00t@\\x0f\\x00\\x00\\x00\\x12@\\x0f\\x00\\x00\\x00\\xf8?\\x03\\x00\\xfd\\x00\\n\\x004\\x00\\x04\\x00\\x0f\\x00\\x05\\x00\\x00\\x00\\xbd\\x00\\x12\\x005\\x00\\x00\\x00\\x0f\\x00\\x01\\x90\\x85@\\x0f\\x00\\x01`s@\\x01\\x00\\x03\\x02\\x0e\\x005\\x00\\x02\\x00\\x0f\\x00\\x9a\\x99\\x99\\x99\\x99\\x99\\x13@~\\x02\\n\\x005\\x00\\x03\\x00\\x0f\\x00\\x00\\x00\\xf8?\\xfd\\x00\\n\\x005\\x00\\x04\\x00\\x0f\\x00\\x05\\x00\\x00\\x00~\\x02\\n\\x006\\x00\\x00\\x00\\x0f\\x00\\x00\\x00\\x16@\\x03\\x02\\x0e\\x006\\x00\\x01\\x00\\x0f\\x00ffffff\\x02@\\xbd\\x00\\x12\\x006\\x00\\x02\\x00\\x0f\\x00\\x00\\x00\\x10@\\x0f\\x00\\x01@`@\\x03\\x00\\xfd\\x00\\n\\x006\\x00\\x04\\x00\\x0f\\x00\\x05\\x00\\x00\\x00\\xbd\\x00\\x12\\x007\\x00\\x00\\x00\\x0f\\x00\\x00\\x00\\x1a@\\x0f\\x00\\x01\\x80q@\\x01\\x00\\x03\\x02\\x0e\\x007\\x00\\x02\\x00\\x0f\\x00ffffff\\x12@~\\x02\\n\\x007\\x00\\x03\\x00\\x0f\\x00\\x00\\x00\\xf8?\\xfd\\x00\\n\\x007\\x00\\x04\\x00\\x0f\\x00\\x05\\x00\\x00\\x00\\xbd\\x00\\x1e\\x008\\x00\\x00\\x00\\x0f\\x00\\x01\\xd0\\x81@\\x0f\\x00\\x01\\x80q@\\x0f\\x00\\x00\\x00\\x12@\\x0f\\x00\\x01@`@\\x03\\x00\\xfd\\x00\\n\\x008\\x00\\x04\\x00\\x0f\\x00\\x05\\x00\\x00\\x00\\xbd\\x00\\x12\\x009\\x00\\x00\\x00\\x0f\\x00\\x01\\xb0\\x83@\\x0f\\x00\\x01\\xa0t@\\x01\\x00~\\x02\\n\\x009\\x00\\x03\\x00\\x0f\\x00\\x01\\x00d@\\xfd\\x00\\n\\x009\\x00\\x04\\x00\\x0f\\x00\\x05\\x00\\x00\\x00\\x03\\x02\\x0e\\x00:\\x00\\x00\\x00\\x0f\\x00\\x9a\\x99\\x99\\x99\\x99\\x99\\x13@\\xbd\\x00\\x18\\x00:\\x00\\x01\\x00\\x0f\\x00\\x01\\x00n@\\x0f\\x00\\x01\\xa0t@\\x0f\\x00\\x00\\x00\\xf0?\\x03\\x00\\xfd\\x00\\n\\x00:\\x00\\x04\\x00\\x0f\\x00\\x05\\x00\\x00\\x00\\xbd\\x00\\x12\\x00;\\x00\\x00\\x00\\x0f\\x00\\x01\\xa0\\x84@\\x0f\\x00\\x01 r@\\x01\\x00\\x03\\x02\\x0e\\x00;\\x00\\x02\\x00\\x0f\\x00ffffff\\x12@~\\x02\\n\\x00;\\x00\\x03\\x00\\x0f\\x00\\x01@`@\\xfd\\x00\\n\\x00;\\x00\\x04\\x00\\x0f\\x00\\x05\\x00\\x00\\x00\\xbd\\x00\\x1e\\x00<\\x00\\x00\\x00\\x0f\\x00\\x01@\\x80@\\x0f\\x00\\x01\\xe0p@\\x0f\\x00\\x01`x@\\x0f\\x00\\x01\\x80a@\\x03\\x00\\xfd\\x00\\n\\x00<\\x00\\x04\\x00\\x0f\\x00\\x05\\x00\\x00\\x00\\xbd\\x00\\x1e\\x00=\\x00\\x00\\x00\\x0f\\x00\\x00\\x00\\x14@\\x0f\\x00\\x00\\x00\\x00@\\x0f\\x00\\x00\\x00\\x0c@\\x0f\\x00\\x00\\x00\\xf0?\\x03\\x00\\xfd\\x00\\n\\x00=\\x00\\x04\\x00\\x0f\\x00\\x05\\x00\\x00\\x00\\xbd\\x00\\x1e\\x00>\\x00\\x00\\x00\\x0f\\x00\\x01p\\x82@\\x0f\\x00\\x00\\x00\\x08@\\x0f\\x00\\x01@z@\\x0f\\x00\\x00\\x00\\xf8?\\x03\\x00\\xfd\\x00\\n\\x00>\\x00\\x04\\x00\\x0f\\x00\\x05\\x00\\x00\\x00~\\x02\\n\\x00?\\x00\\x00\\x00\\x0f\\x00\\x00\\x00\\x18@\\x03\\x02\\x0e\\x00?\\x00\\x01\\x00\\x0f\\x00\\x9a\\x99\\x99\\x99\\x99\\x99\\x01@\\xbd\\x00\\x12\\x00?\\x00\\x02\\x00\\x0f\\x00\\x00\\x00\\x10@\\x0f\\x00\\x00\\x00\\xf0?\\x03\\x00\\xfd\\x00\\n\\x00?\\x00\\x04\\x00\\x0f\\x00\\x05\\x00\\x00\\x00\\xd7\\x00D\\x00d\\t\\x00\\x00l\\x020\\x00D\\x000\\x00<\\x000\\x000\\x00<\\x00<\\x00*\\x000\\x00D\\x00<\\x002\\x00<\\x000\\x00<\\x00<\\x000\\x000\\x000\\x00*\\x00D\\x00D\\x00D\\x000\\x002\\x00<\\x00D\\x000\\x000\\x000\\x00\\x08\\x02\\x10\\x00@\\x00\\x00\\x00\\x05\\x00\\xfa\\x00\\x00\\x00\\x00\\x00\\x00\\x01\\x0f\\x00\\x08\\x02\\x10\\x00A\\x00\\x00\\x00\\x05\\x00\\xfa\\x00\\x00\\x00\\x00\\x00\\x00\\x01\\x0f\\x00\\x08\\x02\\x10\\x00B\\x00\\x00\\x00\\x05\\x00\\xfa\\x00\\x00\\x00\\x00\\x00\\x00\\x01\\x0f\\x00\\x08\\x02\\x10\\x00C\\x00\\x00\\x00\\x05\\x00\\xfa\\x00\\x00\\x00\\x00\\x00\\x00\\x01\\x0f\\x00\\x08\\x02\\x10\\x00D\\x00\\x00\\x00\\x05\\x00\\xfa\\x00\\x00\\x00\\x00\\x00\\x00\\x01\\x0f\\x00\\x08\\x02\\x10\\x00E\\x00\\x00\\x00\\x05\\x00\\xfa\\x00\\x00\\x00\\x00\\x00\\x00\\x01\\x0f\\x00\\x08\\x02\\x10\\x00F\\x00\\x00\\x00\\x05\\x00\\xfa\\x00\\x00\\x00\\x00\\x00\\x00\\x01\\x0f\\x00\\x08\\x02\\x10\\x00G\\x00\\x00\\x00\\x05\\x00\\xfa\\x00\\x00\\x00\\x00\\x00\\x00\\x01\\x0f\\x00\\x08\\x02\\x10\\x00H\\x00\\x00\\x00\\x05\\x00\\xfa\\x00\\x00\\x00\\x00\\x00\\x00\\x01\\x0f\\x00\\x08\\x02\\x10\\x00I\\x00\\x00\\x00\\x05\\x00\\xfa\\x00\\x00\\x00\\x00\\x00\\x00\\x01\\x0f\\x00\\x08\\x02\\x10\\x00J\\x00\\x00\\x00\\x05\\x00\\xfa\\x00\\x00\\x00\\x00\\x00\\x00\\x01\\x0f\\x00\\x08\\x02\\x10\\x00K\\x00\\x00\\x00\\x05\\x00\\xfa\\x00\\x00\\x00\\x00\\x00\\x00\\x01\\x0f\\x00\\x08\\x02\\x10\\x00L\\x00\\x00\\x00\\x05\\x00\\xfa\\x00\\x00\\x00\\x00\\x00\\x00\\x01\\x0f\\x00\\x08\\x02\\x10\\x00M\\x00\\x00\\x00\\x05\\x00\\xfa\\x00\\x00\\x00\\x00\\x00\\x00\\x01\\x0f\\x00\\x08\\x02\\x10\\x00N\\x00\\x00\\x00\\x05\\x00\\xfa\\x00\\x00\\x00\\x00\\x00\\x00\\x01\\x0f\\x00\\x08\\x02\\x10\\x00O\\x00\\x00\\x00\\x05\\x00\\xfa\\x00\\x00\\x00\\x00\\x00\\x00\\x01\\x0f\\x00\\x08\\x02\\x10\\x00P\\x00\\x00\\x00\\x05\\x00\\xfa\\x00\\x00\\x00\\x00\\x00\\x00\\x01\\x0f\\x00\\x08\\x02\\x10\\x00Q\\x00\\x00\\x00\\x05\\x00\\xfa\\x00\\x00\\x00\\x00\\x00\\x00\\x01\\x0f\\x00\\x08\\x02\\x10\\x00R\\x00\\x00\\x00\\x05\\x00\\xfa\\x00\\x00\\x00\\x00\\x00\\x00\\x01\\x0f\\x00\\x08\\x02\\x10\\x00S\\x00\\x00\\x00\\x05\\x00\\xfa\\x00\\x00\\x00\\x00\\x00\\x00\\x01\\x0f\\x00\\x08\\x02\\x10\\x00T\\x00\\x00\\x00\\x05\\x00\\xfa\\x00\\x00\\x00\\x00\\x00\\x00\\x01\\x0f\\x00\\x08\\x02\\x10\\x00U\\x00\\x00\\x00\\x05\\x00\\xfa\\x00\\x00\\x00\\x00\\x00\\x00\\x01\\x0f\\x00\\x08\\x02\\x10\\x00V\\x00\\x00\\x00\\x05\\x00\\xfa\\x00\\x00\\x00\\x00\\x00\\x00\\x01\\x0f\\x00\\x08\\x02\\x10\\x00W\\x00\\x00\\x00\\x05\\x00\\xfa\\x00\\x00\\x00\\x00\\x00\\x00\\x01\\x0f\\x00\\x08\\x02\\x10\\x00X\\x00\\x00\\x00\\x05\\x00\\xfa\\x00\\x00\\x00\\x00\\x00\\x00\\x01\\x0f\\x00\\x08\\x02\\x10\\x00Y\\x00\\x00\\x00\\x05\\x00\\xfa\\x00\\x00\\x00\\x00\\x00\\x00\\x01\\x0f\\x00\\x08\\x02\\x10\\x00Z\\x00\\x00\\x00\\x05\\x00\\xfa\\x00\\x00\\x00\\x00\\x00\\x00\\x01\\x0f\\x00\\x08\\x02\\x10\\x00[\\x00\\x00\\x00\\x05\\x00\\xfa\\x00\\x00\\x00\\x00\\x00\\x00\\x01\\x0f\\x00\\x08\\x02\\x10\\x00\\\\\\x00\\x00\\x00\\x05\\x00\\xfa\\x00\\x00\\x00\\x00\\x00\\x00\\x01\\x0f\\x00\\x08\\x02\\x10\\x00]\\x00\\x00\\x00\\x05\\x00\\xfa\\x00\\x00\\x00\\x00\\x00\\x00\\x01\\x0f\\x00\\x08\\x02\\x10\\x00^\\x00\\x00\\x00\\x05\\x00\\xfa\\x00\\x00\\x00\\x00\\x00\\x00\\x01\\x0f\\x00\\x08\\x02\\x10\\x00_\\x00\\x00\\x00\\x05\\x00\\xfa\\x00\\x00\\x00\\x00\\x00\\x00\\x01\\x0f\\x00\\xbd\\x00\\x1e\\x00@\\x00\\x00\\x00\\x0f\\x00\\x01\\x10\\x83@\\x0f\\x00\\x01 r@\\x0f\\x00\\x01`}@\\x0f\\x00\\x01\\x80a@\\x03\\x00\\xfd\\x00\\n\\x00@\\x00\\x04\\x00\\x0f\\x00\\x05\\x00\\x00\\x00\\xbd\\x00\\x1e\\x00A\\x00\\x00\\x00\\x0f\\x00\\x01\\x80\\x81@\\x0f\\x00\\x01 r@\\x0f\\x00\\x01\\x80v@\\x0f\\x00\\x01@`@\\x03\\x00\\xfd\\x00\\n\\x00A\\x00\\x04\\x00\\x0f\\x00\\x05\\x00\\x00\\x00\\xbd\\x00\\x12\\x00B\\x00\\x00\\x00\\x0f\\x00\\x01\\xf0\\x84@\\x0f\\x00\\x01`s@\\x01\\x00\\x03\\x02\\x0e\\x00B\\x00\\x02\\x00\\x0f\\x00\\x9a\\x99\\x99\\x99\\x99\\x99\\x11@~\\x02\\n\\x00B\\x00\\x03\\x00\\x0f\\x00\\x01\\x80a@\\xfd\\x00\\n\\x00B\\x00\\x04\\x00\\x0f\\x00\\x05\\x00\\x00\\x00\\xbd\\x00\\x1e\\x00C\\x00\\x00\\x00\\x0f\\x00\\x01\\x80\\x81@\\x0f\\x00\\x00\\x00\\x08@\\x0f\\x00\\x00\\x00\\x12@\\x0f\\x00\\x00\\x00\\xf8?\\x03\\x00\\xfd\\x00\\n\\x00C\\x00\\x04\\x00\\x0f\\x00\\x05\\x00\\x00\\x00\\xbd\\x00\\x12\\x00D\\x00\\x00\\x00\\x0f\\x00\\x01 \\x82@\\x0f\\x00\\x01\\xe0p@\\x01\\x00\\x03\\x02\\x0e\\x00D\\x00\\x02\\x00\\x0f\\x00ffffff\\x10@~\\x02\\n\\x00D\\x00\\x03\\x00\\x0f\\x00\\x00\\x00\\xf0?\\xfd\\x00\\n\\x00D\\x00\\x04\\x00\\x0f\\x00\\x05\\x00\\x00\\x00~\\x02\\n\\x00E\\x00\\x00\\x00\\x0f\\x00\\x01`\\x83@\\x03\\x02\\x0e\\x00E\\x00\\x01\\x00\\x0f\\x00\\x9a\\x99\\x99\\x99\\x99\\x99\\x01@\\xbd\\x00\\x12\\x00E\\x00\\x02\\x00\\x0f\\x00\\x00\\x00\\x12@\\x0f\\x00\\x00\\x00\\xf8?\\x03\\x00\\xfd\\x00\\n\\x00E\\x00\\x04\\x00\\x0f\\x00\\x05\\x00\\x00\\x00\\xbd\\x00\\x18\\x00F\\x00\\x00\\x00\\x0f\\x00\\x01\\x80\\x81@\\x0f\\x00\\x00\\x00\\x04@\\x0f\\x00\\x01`x@\\x02\\x00\\x03\\x02\\x0e\\x00F\\x00\\x03\\x00\\x0f\\x00\\x9a\\x99\\x99\\x99\\x99\\x99\\xf1?\\xfd\\x00\\n\\x00F\\x00\\x04\\x00\\x0f\\x00\\x05\\x00\\x00\\x00\\xbd\\x00\\x1e\\x00G\\x00\\x00\\x00\\x0f\\x00\\x01p\\x82@\\x0f\\x00\\x01\\x00t@\\x0f\\x00\\x01\\x00~@\\x0f\\x00\\x01\\x80f@\\x03\\x00\\xfd\\x00\\n\\x00G\\x00\\x04\\x00\\x0f\\x00\\x05\\x00\\x00\\x00\\xbd\\x00\\x1e\\x00H\\x00\\x00\\x00\\x0f\\x00\\x01\\x10\\x83@\\x0f\\x00\\x01\\x80q@\\x0f\\x00\\x00\\x00\\x10@\\x0f\\x00\\x01@`@\\x03\\x00\\xfd\\x00\\n\\x00H\\x00\\x04\\x00\\x0f\\x00\\x05\\x00\\x00\\x00~\\x02\\n\\x00I\\x00\\x00\\x00\\x0f\\x00\\x01\\xb0\\x83@\\x03\\x02\\x0e\\x00I\\x00\\x02\\x00\\x0f\\x00\\x9a\\x99\\x99\\x99\\x99\\x99\\x13@~\\x02\\n\\x00I\\x00\\x03\\x00\\x0f\\x00\\x00\\x00\\xf8?\\xfd\\x00\\n\\x00I\\x00\\x04\\x00\\x0f\\x00\\x05\\x00\\x00\\x00\\xbd\\x00\\x1e\\x00J\\x00\\x00\\x00\\x0f\\x00\\x01\\x10\\x83@\\x0f\\x00\\x01\\x80q@\\x0f\\x00\\x01`}@\\x0f\\x00\\x01\\x00^@\\x03\\x00\\xfd\\x00\\n\\x00J\\x00\\x04\\x00\\x0f\\x00\\x05\\x00\\x00\\x00\\xbd\\x00\\x1e\\x00K\\x00\\x00\\x00\\x0f\\x00\\x01\\x00\\x84@\\x0f\\x00\\x01 r@\\x0f\\x00\\x01\\xe0z@\\x0f\\x00\\x01@`@\\x03\\x00\\xfd\\x00\\n\\x00K\\x00\\x04\\x00\\x0f\\x00\\x05\\x00\\x00\\x00\\xbd\\x00\\x12\\x00L\\x00\\x00\\x00\\x0f\\x00\\x01\\xa0\\x84@\\x0f\\x00\\x00\\x00\\x08@\\x01\\x00\\x03\\x02\\x0e\\x00L\\x00\\x02\\x00\\x0f\\x00\\x9a\\x99\\x99\\x99\\x99\\x99\\x11@~\\x02\\n\\x00L\\x00\\x03\\x00\\x0f\\x00\\x01\\x80a@\\xfd\\x00\\n\\x00L\\x00\\x04\\x00\\x0f\\x00\\x05\\x00\\x00\\x00\\xbd\\x00\\x1e\\x00M\\x00\\x00\\x00\\x0f\\x00\\x01@\\x85@\\x0f\\x00\\x01\\x80q@\\x0f\\x00\\x01\\x00~@\\x0f\\x00\\x01\\x80a@\\x03\\x00\\xfd\\x00\\n\\x00M\\x00\\x04\\x00\\x0f\\x00\\x05\\x00\\x00\\x00\\xbd\\x00\\x1e\\x00N\\x00\\x00\\x00\\x0f\\x00\\x01\\xf0\\x84@\\x0f\\x00\\x00\\x00\\x08@\\x0f\\x00\\x00\\x00\\x14@\\x0f\\x00\\x01@e@\\x03\\x00\\xfd\\x00\\n\\x00N\\x00\\x04\\x00\\x0f\\x00\\x05\\x00\\x00\\x00\\xbd\\x00\\x1e\\x00O\\x00\\x00\\x00\\x0f\\x00\\x00\\x00\\x18@\\x0f\\x00\\x01 r@\\x0f\\x00\\x00\\x00\\x12@\\x0f\\x00\\x00\\x00\\xf8?\\x03\\x00\\xfd\\x00\\n\\x00O\\x00\\x04\\x00\\x0f\\x00\\x05\\x00\\x00\\x00\\xbd\\x00\\x1e\\x00P\\x00\\x00\\x00\\x0f\\x00\\x01\\xd0\\x81@\\x0f\\x00\\x01@p@\\x0f\\x00\\x00\\x00\\x0c@\\x0f\\x00\\x00\\x00\\xf0?\\x03\\x00\\xfd\\x00\\n\\x00P\\x00\\x04\\x00\\x0f\\x00\\x05\\x00\\x00\\x00\\xbd\\x00\\x18\\x00Q\\x00\\x00\\x00\\x0f\\x00\\x00\\x00\\x16@\\x0f\\x00\\x01\\x00n@\\x0f\\x00\\x01\\xc0w@\\x02\\x00\\x03\\x02\\x0e\\x00Q\\x00\\x03\\x00\\x0f\\x00\\x9a\\x99\\x99\\x99\\x99\\x99\\xf1?\\xfd\\x00\\n\\x00Q\\x00\\x04\\x00\\x0f\\x00\\x05\\x00\\x00\\x00\\xbd\\x00\\x1e\\x00R\\x00\\x00\\x00\\x0f\\x00\\x00\\x00\\x16@\\x0f\\x00\\x01\\x00n@\\x0f\\x00\\x01 w@\\x0f\\x00\\x00\\x00\\xf0?\\x03\\x00\\xfd\\x00\\n\\x00R\\x00\\x04\\x00\\x0f\\x00\\x05\\x00\\x00\\x00\\xbd\\x00\\x1e\\x00S\\x00\\x00\\x00\\x0f\\x00\\x01 \\x82@\\x0f\\x00\\x01\\xe0p@\\x0f\\x00\\x01`x@\\x0f\\x00\\x01\\x00^@\\x03\\x00\\xfd\\x00\\n\\x00S\\x00\\x04\\x00\\x0f\\x00\\x05\\x00\\x00\\x00\\xbd\\x00\\x12\\x00T\\x00\\x00\\x00\\x0f\\x00\\x00\\x00\\x18@\\x0f\\x00\\x01\\xe0p@\\x01\\x00\\x03\\x02\\x0e\\x00T\\x00\\x02\\x00\\x0f\\x00ffffff\\x14@~\\x02\\n\\x00T\\x00\\x03\\x00\\x0f\\x00\\x01\\x00d@\\xfd\\x00\\n\\x00T\\x00\\x04\\x00\\x0f\\x00\\x05\\x00\\x00\\x00\\xbd\\x00\\x1e\\x00U\\x00\\x00\\x00\\x0f\\x00\\x01\\xe0\\x80@\\x0f\\x00\\x00\\x00\\x08@\\x0f\\x00\\x00\\x00\\x12@\\x0f\\x00\\x00\\x00\\xf8?\\x03\\x00\\xfd\\x00\\n\\x00U\\x00\\x04\\x00\\x0f\\x00\\x05\\x00\\x00\\x00\\xbd\\x00\\x18\\x00V\\x00\\x01\\x00\\x0f\\x00\\x01@u@\\x0f\\x00\\x00\\x00\\x12@\\x0f\\x00\\x01\\x00d@\\x03\\x00\\xfd\\x00\\n\\x00V\\x00\\x04\\x00\\x0f\\x00\\x05\\x00\\x00\\x00\\xbd\\x00\\x1e\\x00W\\x00\\x00\\x00\\x0f\\x00\\x01\\xf0\\x84@\\x0f\\x00\\x01`s@\\x0f\\x00\\x01`}@\\x0f\\x00\\x00\\x00\\xf8?\\x03\\x00\\xfd\\x00\\n\\x00W\\x00\\x04\\x00\\x0f\\x00\\x05\\x00\\x00\\x00~\\x02\\n\\x00X\\x00\\x00\\x00\\x0f\\x00\\x01\\xb0\\x83@\\x03\\x02\\x0e\\x00X\\x00\\x01\\x00\\x0f\\x00ffffff\\x02@\\x03\\x02\\x0e\\x00X\\x00\\x02\\x00\\x0f\\x00\\x9a\\x99\\x99\\x99\\x99\\x99\\x11@~\\x02\\n\\x00X\\x00\\x03\\x00\\x0f\\x00\\x01@`@\\xfd\\x00\\n\\x00X\\x00\\x04\\x00\\x0f\\x00\\x05\\x00\\x00\\x00\\xbd\\x00\\x12\\x00Y\\x00\\x00\\x00\\x0f\\x00\\x01\\x80\\x81@\\x0f\\x00\\x00\\x00\\x08@\\x01\\x00\\x03\\x02\\x0e\\x00Y\\x00\\x02\\x00\\x0f\\x00ffffff\\x10@~\\x02\\n\\x00Y\\x00\\x03\\x00\\x0f\\x00\\x01@`@\\xfd\\x00\\n\\x00Y\\x00\\x04\\x00\\x0f\\x00\\x05\\x00\\x00\\x00\\xbd\\x00\\x1e\\x00Z\\x00\\x00\\x00\\x0f\\x00\\x00\\x00\\x16@\\x0f\\x00\\x00\\x00\\x04@\\x0f\\x00\\x00\\x00\\x10@\\x0f\\x00\\x01@`@\\x03\\x00\\xfd\\x00\\n\\x00Z\\x00\\x04\\x00\\x0f\\x00\\x05\\x00\\x00\\x00\\xbd\\x00\\x12\\x00[\\x00\\x00\\x00\\x0f\\x00\\x00\\x00\\x16@\\x0f\\x00\\x01@p@\\x01\\x00\\x03\\x02\\x0e\\x00[\\x00\\x02\\x00\\x0f\\x00\\x9a\\x99\\x99\\x99\\x99\\x99\\x11@~\\x02\\n\\x00[\\x00\\x03\\x00\\x0f\\x00\\x01\\x00^@\\xfd\\x00\\n\\x00[\\x00\\x04\\x00\\x0f\\x00\\x05\\x00\\x00\\x00\\xbd\\x00\\x12\\x00\\\\\\x00\\x00\\x00\\x0f\\x00\\x01\\x10\\x83@\\x0f\\x00\\x00\\x00\\x08@\\x01\\x00\\x03\\x02\\x0e\\x00\\\\\\x00\\x02\\x00\\x0f\\x00ffffff\\x12@~\\x02\\n\\x00\\\\\\x00\\x03\\x00\\x0f\\x00\\x01\\x80a@\\xfd\\x00\\n\\x00\\\\\\x00\\x04\\x00\\x0f\\x00\\x05\\x00\\x00\\x00\\xbd\\x00\\x1e\\x00]\\x00\\x00\\x00\\x0f\\x00\\x01 \\x82@\\x0f\\x00\\x01@p@\\x0f\\x00\\x00\\x00\\x10@\\x0f\\x00\\x01\\x00^@\\x03\\x00\\xfd\\x00\\n\\x00]\\x00\\x04\\x00\\x0f\\x00\\x05\\x00\\x00\\x00~\\x02\\n\\x00^\\x00\\x00\\x00\\x0f\\x00\\x00\\x00\\x14@\\x03\\x02\\x0e\\x00^\\x00\\x01\\x00\\x0f\\x00ffffff\\x02@\\xbd\\x00\\x12\\x00^\\x00\\x02\\x00\\x0f\\x00\\x01\\xa0t@\\x0f\\x00\\x00\\x00\\xf0?\\x03\\x00\\xfd\\x00\\n\\x00^\\x00\\x04\\x00\\x0f\\x00\\x05\\x00\\x00\\x00\\xbd\\x00\\x12\\x00_\\x00\\x00\\x00\\x0f\\x00\\x01\\x80\\x81@\\x0f\\x00\\x01\\xe0p@\\x01\\x00~\\x02\\n\\x00_\\x00\\x03\\x00\\x0f\\x00\\x01@`@\\xfd\\x00\\n\\x00_\\x00\\x04\\x00\\x0f\\x00\\x05\\x00\\x00\\x00\\xd7\\x00D\\x00r\\t\\x00\\x00l\\x020\\x000\\x00D\\x000\\x00D\\x00D\\x00<\\x000\\x000\\x00<\\x000\\x000\\x00D\\x000\\x000\\x000\\x000\\x00<\\x000\\x000\\x00D\\x000\\x00*\\x000\\x00N\\x00D\\x000\\x00D\\x00D\\x000\\x00D\\x00\\x08\\x02\\x10\\x00`\\x00\\x00\\x00\\x05\\x00\\xfa\\x00\\x00\\x00\\x00\\x00\\x00\\x01\\x0f\\x00\\x08\\x02\\x10\\x00a\\x00\\x00\\x00\\x05\\x00\\xfa\\x00\\x00\\x00\\x00\\x00\\x00\\x01\\x0f\\x00\\x08\\x02\\x10\\x00b\\x00\\x00\\x00\\x05\\x00\\xfa\\x00\\x00\\x00\\x00\\x00\\x00\\x01\\x0f\\x00\\x08\\x02\\x10\\x00c\\x00\\x00\\x00\\x05\\x00\\xfa\\x00\\x00\\x00\\x00\\x00\\x00\\x01\\x0f\\x00\\x08\\x02\\x10\\x00d\\x00\\x00\\x00\\x05\\x00\\xfa\\x00\\x00\\x00\\x00\\x00\\x00\\x01\\x0f\\x00\\x08\\x02\\x10\\x00e\\x00\\x00\\x00\\x05\\x00\\xfa\\x00\\x00\\x00\\x00\\x00\\x00\\x01\\x0f\\x00\\x08\\x02\\x10\\x00f\\x00\\x00\\x00\\x05\\x00\\xfa\\x00\\x00\\x00\\x00\\x00\\x00\\x01\\x0f\\x00\\x08\\x02\\x10\\x00g\\x00\\x00\\x00\\x05\\x00\\xfa\\x00\\x00\\x00\\x00\\x00\\x00\\x01\\x0f\\x00\\x08\\x02\\x10\\x00h\\x00\\x00\\x00\\x05\\x00\\xfa\\x00\\x00\\x00\\x00\\x00\\x00\\x01\\x0f\\x00\\x08\\x02\\x10\\x00i\\x00\\x00\\x00\\x05\\x00\\xfa\\x00\\x00\\x00\\x00\\x00\\x00\\x01\\x0f\\x00\\x08\\x02\\x10\\x00j\\x00\\x00\\x00\\x05\\x00\\xfa\\x00\\x00\\x00\\x00\\x00\\x00\\x01\\x0f\\x00\\x08\\x02\\x10\\x00k\\x00\\x00\\x00\\x05\\x00\\xfa\\x00\\x00\\x00\\x00\\x00\\x00\\x01\\x0f\\x00\\x08\\x02\\x10\\x00l\\x00\\x00\\x00\\x05\\x00\\xfa\\x00\\x00\\x00\\x00\\x00\\x00\\x01\\x0f\\x00\\x08\\x02\\x10\\x00m\\x00\\x00\\x00\\x05\\x00\\xfa\\x00\\x00\\x00\\x00\\x00\\x00\\x01\\x0f\\x00\\x08\\x02\\x10\\x00n\\x00\\x00\\x00\\x05\\x00\\xfa\\x00\\x00\\x00\\x00\\x00\\x00\\x01\\x0f\\x00\\x08\\x02\\x10\\x00o\\x00\\x00\\x00\\x05\\x00\\xfa\\x00\\x00\\x00\\x00\\x00\\x00\\x01\\x0f\\x00\\x08\\x02\\x10\\x00p\\x00\\x00\\x00\\x05\\x00\\xfa\\x00\\x00\\x00\\x00\\x00\\x00\\x01\\x0f\\x00\\x08\\x02\\x10\\x00q\\x00\\x00\\x00\\x05\\x00\\xfa\\x00\\x00\\x00\\x00\\x00\\x00\\x01\\x0f\\x00\\x08\\x02\\x10\\x00r\\x00\\x00\\x00\\x05\\x00\\xfa\\x00\\x00\\x00\\x00\\x00\\x00\\x01\\x0f\\x00\\x08\\x02\\x10\\x00s\\x00\\x00\\x00\\x05\\x00\\xfa\\x00\\x00\\x00\\x00\\x00\\x00\\x01\\x0f\\x00\\x08\\x02\\x10\\x00t\\x00\\x00\\x00\\x05\\x00\\xfa\\x00\\x00\\x00\\x00\\x00\\x00\\x01\\x0f\\x00\\x08\\x02\\x10\\x00u\\x00\\x00\\x00\\x05\\x00\\xfa\\x00\\x00\\x00\\x00\\x00\\x00\\x01\\x0f\\x00\\x08\\x02\\x10\\x00v\\x00\\x00\\x00\\x05\\x00\\xfa\\x00\\x00\\x00\\x00\\x00\\x00\\x01\\x0f\\x00\\x08\\x02\\x10\\x00w\\x00\\x00\\x00\\x05\\x00\\xfa\\x00\\x00\\x00\\x00\\x00\\x00\\x01\\x0f\\x00\\x08\\x02\\x10\\x00x\\x00\\x00\\x00\\x05\\x00\\xfa\\x00\\x00\\x00\\x00\\x00\\x00\\x01\\x0f\\x00\\x08\\x02\\x10\\x00y\\x00\\x00\\x00\\x05\\x00\\xfa\\x00\\x00\\x00\\x00\\x00\\x00\\x01\\x0f\\x00\\x08\\x02\\x10\\x00z\\x00\\x00\\x00\\x05\\x00\\xfa\\x00\\x00\\x00\\x00\\x00\\x00\\x01\\x0f\\x00\\x08\\x02\\x10\\x00{\\x00\\x00\\x00\\x05\\x00\\xfa\\x00\\x00\\x00\\x00\\x00\\x00\\x01\\x0f\\x00\\x08\\x02\\x10\\x00|\\x00\\x00\\x00\\x05\\x00\\xfa\\x00\\x00\\x00\\x00\\x00\\x00\\x01\\x0f\\x00\\x08\\x02\\x10\\x00}\\x00\\x00\\x00\\x05\\x00\\xfa\\x00\\x00\\x00\\x00\\x00\\x00\\x01\\x0f\\x00\\x08\\x02\\x10\\x00~\\x00\\x00\\x00\\x05\\x00\\xfa\\x00\\x00\\x00\\x00\\x00\\x00\\x01\\x0f\\x00\\x08\\x02\\x10\\x00\\x7f\\x00\\x00\\x00\\x05\\x00\\xfa\\x00\\x00\\x00\\x00\\x00\\x00\\x01\\x0f\\x00\\xbd\\x00\\x1e\\x00`\\x00\\x00\\x00\\x0f\\x00\\x01\\xd0\\x81@\\x0f\\x00\\x00\\x00\\x08@\\x0f\\x00\\x01@z@\\x0f\\x00\\x01\\x00^@\\x03\\x00\\xfd\\x00\\n\\x00`\\x00\\x04\\x00\\x0f\\x00\\x05\\x00\\x00\\x00\\xbd\\x00\\x1e\\x00a\\x00\\x00\\x00\\x0f\\x00\\x01\\xd0\\x81@\\x0f\\x00\\x01 r@\\x0f\\x00\\x01@z@\\x0f\\x00\\x01@`@\\x03\\x00\\xfd\\x00\\n\\x00a\\x00\\x04\\x00\\x0f\\x00\\x05\\x00\\x00\\x00\\xbd\\x00\\x1e\\x00b\\x00\\x00\\x00\\x0f\\x00\\x01`\\x83@\\x0f\\x00\\x01 r@\\x0f\\x00\\x01\\xe0z@\\x0f\\x00\\x01@`@\\x03\\x00\\xfd\\x00\\n\\x00b\\x00\\x04\\x00\\x0f\\x00\\x05\\x00\\x00\\x00\\x03\\x02\\x0e\\x00c\\x00\\x00\\x00\\x0f\\x00ffffff\\x14@~\\x02\\n\\x00c\\x00\\x02\\x00\\x0f\\x00\\x00\\x00\\x08@\\x03\\x02\\x0e\\x00c\\x00\\x03\\x00\\x0f\\x00\\x9a\\x99\\x99\\x99\\x99\\x99\\xf1?\\xfd\\x00\\n\\x00c\\x00\\x04\\x00\\x0f\\x00\\x05\\x00\\x00\\x00\\xbd\\x00\\x12\\x00d\\x00\\x00\\x00\\x0f\\x00\\x01\\xd0\\x81@\\x0f\\x00\\x01\\x80q@\\x01\\x00\\x03\\x02\\x0e\\x00d\\x00\\x02\\x00\\x0f\\x00ffffff\\x10@~\\x02\\n\\x00d\\x00\\x03\\x00\\x0f\\x00\\x01@`@\\xfd\\x00\\n\\x00d\\x00\\x04\\x00\\x0f\\x00\\x05\\x00\\x00\\x00\\xbd\\x00\\x1e\\x00e\\x00\\x00\\x00\\x0f\\x00\\x01\\xb0\\x83@\\x0f\\x00\\x01\\xa0t@\\x0f\\x00\\x00\\x00\\x18@\\x0f\\x00\\x00\\x00\\x04@\\x03\\x00\\xfd\\x00\\n\\x00e\\x00\\x04\\x00\\x0f\\x00\\x06\\x00\\x00\\x00\\xbd\\x00\\x12\\x00f\\x00\\x00\\x00\\x0f\\x00\\x01 \\x82@\\x0f\\x00\\x01\\xe0p@\\x01\\x00\\x03\\x02\\x0e\\x00f\\x00\\x02\\x00\\x0f\\x00ffffff\\x14@~\\x02\\n\\x00f\\x00\\x03\\x00\\x0f\\x00\\x01\\xc0g@\\xfd\\x00\\n\\x00f\\x00\\x04\\x00\\x0f\\x00\\x06\\x00\\x00\\x00\\xbd\\x00\\x1e\\x00g\\x00\\x00\\x00\\x0f\\x00\\x010\\x86@\\x0f\\x00\\x00\\x00\\x08@\\x0f\\x00\\x01p\\x82@\\x0f\\x00\\x01@j@\\x03\\x00\\xfd\\x00\\n\\x00g\\x00\\x04\\x00\\x0f\\x00\\x06\\x00\\x00\\x00\\xbd\\x00\\x1e\\x00h\\x00\\x00\\x00\\x0f\\x00\\x01\\xb0\\x83@\\x0f\\x00\\x01 r@\\x0f\\x00\\x01\\x80\\x81@\\x0f\\x00\\x01\\x80f@\\x03\\x00\\xfd\\x00\\n\\x00h\\x00\\x04\\x00\\x0f\\x00\\x06\\x00\\x00\\x00\\xbd\\x00\\x18\\x00i\\x00\\x00\\x00\\x0f\\x00\\x00\\x00\\x1a@\\x0f\\x00\\x00\\x00\\x08@\\x0f\\x00\\x01 \\x82@\\x02\\x00\\x03\\x02\\x0e\\x00i\\x00\\x03\\x00\\x0f\\x00\\x9a\\x99\\x99\\x99\\x99\\x99\\x01@\\xfd\\x00\\n\\x00i\\x00\\x04\\x00\\x0f\\x00\\x06\\x00\\x00\\x00\\xbd\\x00\\x1e\\x00j\\x00\\x00\\x00\\x0f\\x00\\x01\\xc0\\x87@\\x0f\\x00\\x00\\x00\\x08@\\x0f\\x00\\x01\\xa0\\x84@\\x0f\\x00\\x01@j@\\x03\\x00\\xfd\\x00\\n\\x00j\\x00\\x04\\x00\\x0f\\x00\\x06\\x00\\x00\\x00\\xbd\\x00\\x18\\x00k\\x00\\x01\\x00\\x0f\\x00\\x00\\x00\\x04@\\x0f\\x00\\x00\\x00\\x12@\\x0f\\x00\\x01@e@\\x03\\x00\\xfd\\x00\\n\\x00k\\x00\\x04\\x00\\x0f\\x00\\x06\\x00\\x00\\x00\\xbd\\x00\\x1e\\x00l\\x00\\x00\\x00\\x0f\\x00\\x01\\xd0\\x86@\\x0f\\x00\\x01 r@\\x0f\\x00\\x01\\xb0\\x83@\\x0f\\x00\\x01\\x80f@\\x03\\x00\\xfd\\x00\\n\\x00l\\x00\\x04\\x00\\x0f\\x00\\x06\\x00\\x00\\x00\\xbd\\x00\\x1e\\x00m\\x00\\x00\\x00\\x0f\\x00\\x01\\xf0\\x84@\\x0f\\x00\\x00\\x00\\x04@\\x0f\\x00\\x01 \\x82@\\x0f\\x00\\x01\\x80f@\\x03\\x00\\xfd\\x00\\n\\x00m\\x00\\x04\\x00\\x0f\\x00\\x06\\x00\\x00\\x00\\xbd\\x00\\x12\\x00n\\x00\\x00\\x00\\x0f\\x00\\x01\\x80\\x86@\\x0f\\x00\\x01\\x80v@\\x01\\x00~\\x02\\n\\x00n\\x00\\x03\\x00\\x0f\\x00\\x00\\x00\\x04@\\xfd\\x00\\n\\x00n\\x00\\x04\\x00\\x0f\\x00\\x06\\x00\\x00\\x00\\xbd\\x00\\x12\\x00o\\x00\\x00\\x00\\x0f\\x00\\x00\\x00\\x1a@\\x0f\\x00\\x01\\x00t@\\x01\\x00\\x03\\x02\\x0e\\x00o\\x00\\x02\\x00\\x0f\\x00ffffff\\x14@~\\x02\\n\\x00o\\x00\\x03\\x00\\x0f\\x00\\x00\\x00\\x00@\\xfd\\x00\\n\\x00o\\x00\\x04\\x00\\x0f\\x00\\x06\\x00\\x00\\x00\\xbd\\x00\\x1e\\x00p\\x00\\x00\\x00\\x0f\\x00\\x01\\x00\\x84@\\x0f\\x00\\x01\\xe0p@\\x0f\\x00\\x01\\x90\\x80@\\x0f\\x00\\x01\\xc0g@\\x03\\x00\\xfd\\x00\\n\\x00p\\x00\\x04\\x00\\x0f\\x00\\x06\\x00\\x00\\x00\\xbd\\x00\\x1e\\x00q\\x00\\x00\\x00\\x0f\\x00\\x01@\\x85@\\x0f\\x00\\x00\\x00\\x08@\\x0f\\x00\\x00\\x00\\x16@\\x0f\\x00\\x01@j@\\x03\\x00\\xfd\\x00\\n\\x00q\\x00\\x04\\x00\\x0f\\x00\\x06\\x00\\x00\\x00\\xbd\\x00\\x1e\\x00r\\x00\\x00\\x00\\x0f\\x00\\x01\\xd0\\x81@\\x0f\\x00\\x00\\x00\\x04@\\x0f\\x00\\x00\\x00\\x14@\\x0f\\x00\\x00\\x00\\x00@\\x03\\x00\\xfd\\x00\\n\\x00r\\x00\\x04\\x00\\x0f\\x00\\x06\\x00\\x00\\x00\\xbd\\x00\\x12\\x00s\\x00\\x00\\x00\\x0f\\x00\\x01 \\x82@\\x0f\\x00\\x01\\x80q@\\x01\\x00\\x03\\x02\\x0e\\x00s\\x00\\x02\\x00\\x0f\\x00ffffff\\x14@~\\x02\\n\\x00s\\x00\\x03\\x00\\x0f\\x00\\x01\\x00n@\\xfd\\x00\\n\\x00s\\x00\\x04\\x00\\x0f\\x00\\x06\\x00\\x00\\x00\\xbd\\x00\\x18\\x00t\\x00\\x00\\x00\\x0f\\x00\\x01\\x00\\x84@\\x0f\\x00\\x01\\x00t@\\x0f\\x00\\x01\\x90\\x80@\\x02\\x00\\x03\\x02\\x0e\\x00t\\x00\\x03\\x00\\x0f\\x00ffffff\\x02@\\xfd\\x00\\n\\x00t\\x00\\x04\\x00\\x0f\\x00\\x06\\x00\\x00\\x00\\xbd\\x00\\x1e\\x00u\\x00\\x00\\x00\\x0f\\x00\\x00\\x00\\x1a@\\x0f\\x00\\x00\\x00\\x08@\\x0f\\x00\\x00\\x00\\x16@\\x0f\\x00\\x01\\x80f@\\x03\\x00\\xfd\\x00\\n\\x00u\\x00\\x04\\x00\\x0f\\x00\\x06\\x00\\x00\\x00\\xbd\\x00\\x18\\x00v\\x00\\x00\\x00\\x0f\\x00\\x01\\x10\\x88@\\x0f\\x00\\x01\\xc0w@\\x0f\\x00\\x01\\xf0\\x84@\\x02\\x00\\x03\\x02\\x0e\\x00v\\x00\\x03\\x00\\x0f\\x00\\x9a\\x99\\x99\\x99\\x99\\x99\\x01@\\xfd\\x00\\n\\x00v\\x00\\x04\\x00\\x0f\\x00\\x06\\x00\\x00\\x00\\xbd\\x00\\x18\\x00w\\x00\\x00\\x00\\x0f\\x00\\x01\\x10\\x88@\\x0f\\x00\\x01@p@\\x0f\\x00\\x01\\x90\\x85@\\x02\\x00\\x03\\x02\\x0e\\x00w\\x00\\x03\\x00\\x0f\\x00ffffff\\x02@\\xfd\\x00\\n\\x00w\\x00\\x04\\x00\\x0f\\x00\\x06\\x00\\x00\\x00~\\x02\\n\\x00x\\x00\\x00\\x00\\x0f\\x00\\x00\\x00\\x18@\\x03\\x02\\x0e\\x00x\\x00\\x01\\x00\\x0f\\x00\\x9a\\x99\\x99\\x99\\x99\\x99\\x01@\\xbd\\x00\\x12\\x00x\\x00\\x02\\x00\\x0f\\x00\\x00\\x00\\x14@\\x0f\\x00\\x00\\x00\\xf8?\\x03\\x00\\xfd\\x00\\n\\x00x\\x00\\x04\\x00\\x0f\\x00\\x06\\x00\\x00\\x00\\xbd\\x00\\x18\\x00y\\x00\\x00\\x00\\x0f\\x00\\x01\\x90\\x85@\\x0f\\x00\\x01\\x00t@\\x0f\\x00\\x01\\xd0\\x81@\\x02\\x00\\x03\\x02\\x0e\\x00y\\x00\\x03\\x00\\x0f\\x00ffffff\\x02@\\xfd\\x00\\n\\x00y\\x00\\x04\\x00\\x0f\\x00\\x06\\x00\\x00\\x00\\xbd\\x00\\x12\\x00z\\x00\\x00\\x00\\x0f\\x00\\x01\\x80\\x81@\\x0f\\x00\\x01\\x80q@\\x01\\x00\\x03\\x02\\x0e\\x00z\\x00\\x02\\x00\\x0f\\x00\\x9a\\x99\\x99\\x99\\x99\\x99\\x13@~\\x02\\n\\x00z\\x00\\x03\\x00\\x0f\\x00\\x00\\x00\\x00@\\xfd\\x00\\n\\x00z\\x00\\x04\\x00\\x0f\\x00\\x06\\x00\\x00\\x00\\xbd\\x00\\x1e\\x00{\\x00\\x00\\x00\\x0f\\x00\\x01\\x10\\x88@\\x0f\\x00\\x01\\x80q@\\x0f\\x00\\x01\\xf0\\x84@\\x0f\\x00\\x00\\x00\\x00@\\x03\\x00\\xfd\\x00\\n\\x00{\\x00\\x04\\x00\\x0f\\x00\\x06\\x00\\x00\\x00\\xbd\\x00\\x12\\x00|\\x00\\x00\\x00\\x0f\\x00\\x01\\xb0\\x83@\\x0f\\x00\\x01\\xe0p@\\x01\\x00\\x03\\x02\\x0e\\x00|\\x00\\x02\\x00\\x0f\\x00\\x9a\\x99\\x99\\x99\\x99\\x99\\x13@~\\x02\\n\\x00|\\x00\\x03\\x00\\x0f\\x00\\x01\\x80f@\\xfd\\x00\\n\\x00|\\x00\\x04\\x00\\x0f\\x00\\x06\\x00\\x00\\x00~\\x02\\n\\x00}\\x00\\x00\\x00\\x0f\\x00\\x01\\xf0\\x84@\\xbd\\x00\\x12\\x00}\\x00\\x02\\x00\\x0f\\x00\\x01\\xd0\\x81@\\x0f\\x00\\x01@j@\\x03\\x00\\xfd\\x00\\n\\x00}\\x00\\x04\\x00\\x0f\\x00\\x06\\x00\\x00\\x00\\xbd\\x00\\x1e\\x00~\\x00\\x00\\x00\\x0f\\x00\\x01\\x80\\x86@\\x0f\\x00\\x01\\x00t@\\x0f\\x00\\x00\\x00\\x18@\\x0f\\x00\\x01\\x80f@\\x03\\x00\\xfd\\x00\\n\\x00~\\x00\\x04\\x00\\x0f\\x00\\x06\\x00\\x00\\x00\\xbd\\x00\\x1e\\x00\\x7f\\x00\\x00\\x00\\x0f\\x00\\x01`\\x83@\\x0f\\x00\\x01\\x80q@\\x0f\\x00\\x01\\x00~@\\x0f\\x00\\x01\\x80f@\\x03\\x00\\xfd\\x00\\n\\x00\\x7f\\x00\\x04\\x00\\x0f\\x00\\x06\\x00\\x00\\x00\\xd7\\x00D\\x00V\\t\\x00\\x00l\\x020\\x000\\x000\\x00@\\x00D\\x000\\x00D\\x000\\x000\\x00<\\x000\\x00*\\x000\\x000\\x002\\x00D\\x000\\x000\\x000\\x00D\\x00<\\x000\\x00<\\x00<\\x00D\\x00<\\x00D\\x000\\x00D\\x002\\x000\\x00\\x08\\x02\\x10\\x00\\x80\\x00\\x00\\x00\\x05\\x00\\xfa\\x00\\x00\\x00\\x00\\x00\\x00\\x01\\x0f\\x00\\x08\\x02\\x10\\x00\\x81\\x00\\x00\\x00\\x05\\x00\\xfa\\x00\\x00\\x00\\x00\\x00\\x00\\x01\\x0f\\x00\\x08\\x02\\x10\\x00\\x82\\x00\\x00\\x00\\x05\\x00\\xfa\\x00\\x00\\x00\\x00\\x00\\x00\\x01\\x0f\\x00\\x08\\x02\\x10\\x00\\x83\\x00\\x00\\x00\\x05\\x00\\xfa\\x00\\x00\\x00\\x00\\x00\\x00\\x01\\x0f\\x00\\x08\\x02\\x10\\x00\\x84\\x00\\x00\\x00\\x05\\x00\\xfa\\x00\\x00\\x00\\x00\\x00\\x00\\x01\\x0f\\x00\\x08\\x02\\x10\\x00\\x85\\x00\\x00\\x00\\x05\\x00\\xfa\\x00\\x00\\x00\\x00\\x00\\x00\\x01\\x0f\\x00\\x08\\x02\\x10\\x00\\x86\\x00\\x00\\x00\\x05\\x00\\xfa\\x00\\x00\\x00\\x00\\x00\\x00\\x01\\x0f\\x00\\x08\\x02\\x10\\x00\\x87\\x00\\x00\\x00\\x05\\x00\\xfa\\x00\\x00\\x00\\x00\\x00\\x00\\x01\\x0f\\x00\\x08\\x02\\x10\\x00\\x88\\x00\\x00\\x00\\x05\\x00\\xfa\\x00\\x00\\x00\\x00\\x00\\x00\\x01\\x0f\\x00\\x08\\x02\\x10\\x00\\x89\\x00\\x00\\x00\\x05\\x00\\xfa\\x00\\x00\\x00\\x00\\x00\\x00\\x01\\x0f\\x00\\x08\\x02\\x10\\x00\\x8a\\x00\\x00\\x00\\x05\\x00\\xfa\\x00\\x00\\x00\\x00\\x00\\x00\\x01\\x0f\\x00\\x08\\x02\\x10\\x00\\x8b\\x00\\x00\\x00\\x05\\x00\\xfa\\x00\\x00\\x00\\x00\\x00\\x00\\x01\\x0f\\x00\\x08\\x02\\x10\\x00\\x8c\\x00\\x00\\x00\\x05\\x00\\xfa\\x00\\x00\\x00\\x00\\x00\\x00\\x01\\x0f\\x00\\x08\\x02\\x10\\x00\\x8d\\x00\\x00\\x00\\x05\\x00\\xfa\\x00\\x00\\x00\\x00\\x00\\x00\\x01\\x0f\\x00\\x08\\x02\\x10\\x00\\x8e\\x00\\x00\\x00\\x05\\x00\\xfa\\x00\\x00\\x00\\x00\\x00\\x00\\x01\\x0f\\x00\\x08\\x02\\x10\\x00\\x8f\\x00\\x00\\x00\\x05\\x00\\xfa\\x00\\x00\\x00\\x00\\x00\\x00\\x01\\x0f\\x00\\x08\\x02\\x10\\x00\\x90\\x00\\x00\\x00\\x05\\x00\\xfa\\x00\\x00\\x00\\x00\\x00\\x00\\x01\\x0f\\x00\\x08\\x02\\x10\\x00\\x91\\x00\\x00\\x00\\x05\\x00\\xfa\\x00\\x00\\x00\\x00\\x00\\x00\\x01\\x0f\\x00\\x08\\x02\\x10\\x00\\x92\\x00\\x00\\x00\\x05\\x00\\xfa\\x00\\x00\\x00\\x00\\x00\\x00\\x01\\x0f\\x00\\x08\\x02\\x10\\x00\\x93\\x00\\x00\\x00\\x05\\x00\\xfa\\x00\\x00\\x00\\x00\\x00\\x00\\x01\\x0f\\x00\\x08\\x02\\x10\\x00\\x94\\x00\\x00\\x00\\x05\\x00\\xfa\\x00\\x00\\x00\\x00\\x00\\x00\\x01\\x0f\\x00\\x08\\x02\\x10\\x00\\x95\\x00\\x00\\x00\\x05\\x00\\xfa\\x00\\x00\\x00\\x00\\x00\\x00\\x01\\x0f\\x00\\x08\\x02\\x10\\x00\\x96\\x00\\x00\\x00\\x05\\x00\\xfa\\x00\\x00\\x00\\x00\\x00\\x00\\x01\\x0f\\x00\\xbd\\x00\\x12\\x00\\x80\\x00\\x00\\x00\\x0f\\x00\\x01\\x10\\x83@\\x0f\\x00\\x00\\x00\\x08@\\x01\\x00\\x03\\x02\\x0e\\x00\\x80\\x00\\x02\\x00\\x0f\\x00\\x9a\\x99\\x99\\x99\\x99\\x99\\x13@~\\x02\\n\\x00\\x80\\x00\\x03\\x00\\x0f\\x00\\x01\\x80f@\\xfd\\x00\\n\\x00\\x80\\x00\\x04\\x00\\x0f\\x00\\x06\\x00\\x00\\x00\\xbd\\x00\\x1e\\x00\\x81\\x00\\x00\\x00\\x0f\\x00\\x01\\x00\\x84@\\x0f\\x00\\x01\\x80q@\\x0f\\x00\\x01\\x80\\x81@\\x0f\\x00\\x01@j@\\x03\\x00\\xfd\\x00\\n\\x00\\x81\\x00\\x04\\x00\\x0f\\x00\\x06\\x00\\x00\\x00\\xbd\\x00\\x1e\\x00\\x82\\x00\\x00\\x00\\x0f\\x00\\x01\\x80\\x86@\\x0f\\x00\\x00\\x00\\x08@\\x0f\\x00\\x01 \\x82@\\x0f\\x00\\x01\\x00d@\\x03\\x00\\xfd\\x00\\n\\x00\\x82\\x00\\x04\\x00\\x0f\\x00\\x06\\x00\\x00\\x00\\xbd\\x00\\x1e\\x00\\x83\\x00\\x00\\x00\\x0f\\x00\\x01 \\x87@\\x0f\\x00\\x01\\x80q@\\x0f\\x00\\x01\\x10\\x83@\\x0f\\x00\\x01\\xc0g@\\x03\\x00\\xfd\\x00\\n\\x00\\x83\\x00\\x04\\x00\\x0f\\x00\\x06\\x00\\x00\\x00\\xbd\\x00\\x1e\\x00\\x84\\x00\\x00\\x00\\x0f\\x00\\x01\\xb0\\x88@\\x0f\\x00\\x01\\xc0w@\\x0f\\x00\\x01\\x00\\x84@\\x0f\\x00\\x00\\x00\\x00@\\x03\\x00\\xfd\\x00\\n\\x00\\x84\\x00\\x04\\x00\\x0f\\x00\\x06\\x00\\x00\\x00\\xbd\\x00\\x18\\x00\\x85\\x00\\x00\\x00\\x0f\\x00\\x01\\x00\\x84@\\x0f\\x00\\x01\\x80q@\\x0f\\x00\\x01\\x80\\x81@\\x02\\x00\\x03\\x02\\x0e\\x00\\x85\\x00\\x03\\x00\\x0f\\x00\\x9a\\x99\\x99\\x99\\x99\\x99\\x01@\\xfd\\x00\\n\\x00\\x85\\x00\\x04\\x00\\x0f\\x00\\x06\\x00\\x00\\x00\\xbd\\x00\\x12\\x00\\x86\\x00\\x00\\x00\\x0f\\x00\\x01\\xb0\\x83@\\x0f\\x00\\x01\\x80q@\\x01\\x00\\x03\\x02\\x0e\\x00\\x86\\x00\\x02\\x00\\x0f\\x00ffffff\\x14@~\\x02\\n\\x00\\x86\\x00\\x03\\x00\\x0f\\x00\\x00\\x00\\xf8?\\xfd\\x00\\n\\x00\\x86\\x00\\x04\\x00\\x0f\\x00\\x06\\x00\\x00\\x00\\xbd\\x00\\x1e\\x00\\x87\\x00\\x00\\x00\\x0f\\x00\\x01\\x10\\x83@\\x0f\\x00\\x01@p@\\x0f\\x00\\x01\\x80\\x81@\\x0f\\x00\\x01\\x80a@\\x03\\x00\\xfd\\x00\\n\\x00\\x87\\x00\\x04\\x00\\x0f\\x00\\x06\\x00\\x00\\x00\\xbd\\x00\\x18\\x00\\x88\\x00\\x00\\x00\\x0f\\x00\\x01\\x10\\x88@\\x0f\\x00\\x00\\x00\\x08@\\x0f\\x00\\x01\\x10\\x83@\\x02\\x00\\x03\\x02\\x0e\\x00\\x88\\x00\\x03\\x00\\x0f\\x00ffffff\\x02@\\xfd\\x00\\n\\x00\\x88\\x00\\x04\\x00\\x0f\\x00\\x06\\x00\\x00\\x00\\xbd\\x00\\x1e\\x00\\x89\\x00\\x00\\x00\\x0f\\x00\\x01\\xb0\\x83@\\x0f\\x00\\x01@u@\\x0f\\x00\\x01\\x80\\x81@\\x0f\\x00\\x01\\x00n@\\x03\\x00\\xfd\\x00\\n\\x00\\x89\\x00\\x04\\x00\\x0f\\x00\\x06\\x00\\x00\\x00\\xbd\\x00\\x1e\\x00\\x8a\\x00\\x00\\x00\\x0f\\x00\\x01\\x00\\x84@\\x0f\\x00\\x01`s@\\x0f\\x00\\x00\\x00\\x16@\\x0f\\x00\\x01\\x80f@\\x03\\x00\\xfd\\x00\\n\\x00\\x8a\\x00\\x04\\x00\\x0f\\x00\\x06\\x00\\x00\\x00\\xbd\\x00\\x1e\\x00\\x8b\\x00\\x00\\x00\\x0f\\x00\\x00\\x00\\x18@\\x0f\\x00\\x00\\x00\\x08@\\x0f\\x00\\x01\\x00~@\\x0f\\x00\\x01\\x80f@\\x03\\x00\\xfd\\x00\\n\\x00\\x8b\\x00\\x04\\x00\\x0f\\x00\\x06\\x00\\x00\\x00\\xbd\\x00\\x1e\\x00\\x8c\\x00\\x00\\x00\\x0f\\x00\\x01\\x90\\x85@\\x0f\\x00\\x01`s@\\x0f\\x00\\x01\\xe0\\x80@\\x0f\\x00\\x01@j@\\x03\\x00\\xfd\\x00\\n\\x00\\x8c\\x00\\x04\\x00\\x0f\\x00\\x06\\x00\\x00\\x00\\xbd\\x00\\x1e\\x00\\x8d\\x00\\x00\\x00\\x0f\\x00\\x01\\xf0\\x84@\\x0f\\x00\\x01`s@\\x0f\\x00\\x01\\x80\\x81@\\x0f\\x00\\x01\\x00n@\\x03\\x00\\xfd\\x00\\n\\x00\\x8d\\x00\\x04\\x00\\x0f\\x00\\x06\\x00\\x00\\x00~\\x02\\n\\x00\\x8e\\x00\\x01\\x00\\x0f\\x00\\x01`s@\\x03\\x02\\x0e\\x00\\x8e\\x00\\x02\\x00\\x0f\\x00ffffff\\x14@\\x03\\x02\\x0e\\x00\\x8e\\x00\\x03\\x00\\x0f\\x00ffffff\\x02@\\xfd\\x00\\n\\x00\\x8e\\x00\\x04\\x00\\x0f\\x00\\x06\\x00\\x00\\x00\\xbd\\x00\\x12\\x00\\x8f\\x00\\x00\\x00\\x0f\\x00\\x01 \\x82@\\x0f\\x00\\x01\\xe0p@\\x01\\x00\\x03\\x02\\x0e\\x00\\x8f\\x00\\x02\\x00\\x0f\\x00ffffff\\x14@~\\x02\\n\\x00\\x8f\\x00\\x03\\x00\\x0f\\x00\\x01\\xc0g@\\xfd\\x00\\n\\x00\\x8f\\x00\\x04\\x00\\x0f\\x00\\x06\\x00\\x00\\x00\\xbd\\x00\\x18\\x00\\x90\\x00\\x00\\x00\\x0f\\x00\\x01@\\x85@\\x0f\\x00\\x01\\x00t@\\x0f\\x00\\x01p\\x82@\\x02\\x00\\x03\\x02\\x0e\\x00\\x90\\x00\\x03\\x00\\x0f\\x00ffffff\\x02@\\xfd\\x00\\n\\x00\\x90\\x00\\x04\\x00\\x0f\\x00\\x06\\x00\\x00\\x00\\xbd\\x00\\x1e\\x00\\x91\\x00\\x00\\x00\\x0f\\x00\\x01\\xf0\\x84@\\x0f\\x00\\x01\\xa0t@\\x0f\\x00\\x01\\xd0\\x81@\\x0f\\x00\\x00\\x00\\x04@\\x03\\x00\\xfd\\x00\\n\\x00\\x91\\x00\\x04\\x00\\x0f\\x00\\x06\\x00\\x00\\x00\\xbd\\x00\\x18\\x00\\x92\\x00\\x00\\x00\\x0f\\x00\\x01\\xf0\\x84@\\x0f\\x00\\x00\\x00\\x08@\\x0f\\x00\\x01@\\x80@\\x02\\x00\\x03\\x02\\x0e\\x00\\x92\\x00\\x03\\x00\\x0f\\x00ffffff\\x02@\\xfd\\x00\\n\\x00\\x92\\x00\\x04\\x00\\x0f\\x00\\x06\\x00\\x00\\x00\\xbd\\x00\\x1e\\x00\\x93\\x00\\x00\\x00\\x0f\\x00\\x01\\xb0\\x83@\\x0f\\x00\\x00\\x00\\x04@\\x0f\\x00\\x00\\x00\\x14@\\x0f\\x00\\x01\\xc0g@\\x03\\x00\\xfd\\x00\\n\\x00\\x93\\x00\\x04\\x00\\x0f\\x00\\x06\\x00\\x00\\x00\\xbd\\x00\\x12\\x00\\x94\\x00\\x00\\x00\\x0f\\x00\\x00\\x00\\x1a@\\x0f\\x00\\x00\\x00\\x08@\\x01\\x00~\\x02\\n\\x00\\x94\\x00\\x03\\x00\\x0f\\x00\\x00\\x00\\x00@\\xfd\\x00\\n\\x00\\x94\\x00\\x04\\x00\\x0f\\x00\\x06\\x00\\x00\\x00\\xbd\\x00\\x18\\x00\\x95\\x00\\x00\\x00\\x0f\\x00\\x01`\\x83@\\x0f\\x00\\x01@u@\\x0f\\x00\\x01\\xe0\\x80@\\x02\\x00\\x03\\x02\\x0e\\x00\\x95\\x00\\x03\\x00\\x0f\\x00ffffff\\x02@\\xfd\\x00\\n\\x00\\x95\\x00\\x04\\x00\\x0f\\x00\\x06\\x00\\x00\\x00\\xbd\\x00\\x12\\x00\\x96\\x00\\x00\\x00\\x0f\\x00\\x01p\\x82@\\x0f\\x00\\x00\\x00\\x08@\\x01\\x00\\x03\\x02\\x0e\\x00\\x96\\x00\\x02\\x00\\x0f\\x00ffffff\\x14@~\\x02\\n\\x00\\x96\\x00\\x03\\x00\\x0f\\x00\\x01\\x80f@\\xfd\\x00\\n\\x00\\x96\\x00\\x04\\x00\\x0f\\x00\\x06\\x00\\x00\\x00\\xd7\\x002\\x00\\xba\\x06\\x00\\x00\\xb8\\x01D\\x000\\x000\\x000\\x000\\x00<\\x00D\\x000\\x00<\\x000\\x000\\x000\\x000\\x000\\x00@\\x00D\\x00<\\x000\\x00<\\x000\\x002\\x00<\\x00>\\x02\\x12\\x00\\xb6\\x06\\x00\\x00\\x00\\x00@\\x00\\x00\\x00\\x00\\x00\\x00\\x00\\x96\\x00\\x00\\x00\\x8b\\x08\\x10\\x00\\x8b\\x08\\x00\\x00\\x00\\x00\\x00\\x00\\x00\\x00\\x00\\x00\\x00\\x00\\x92\\x00\\x1d\\x00\\x0f\\x00\\x03\\x00\\x00\\x00\\x00\\x00\\x00\\x01\\x00\\x00\\x00\\x00\\x00\\x00\\x00\\xef\\x00\\x06\\x00\\x00\\x007\\x00\\x00\\x00g\\x08\\x17\\x00g\\x08\\x00\\x00\\x00\\x00\\x00\\x00\\x00\\x00\\x00\\x00\\x02\\x00\\x01\\xff\\xff\\xff\\xff\\x03D\\x00\\x00\\n\\x00\\x00\\x00\\x00\\x00\\x00\\x00\\x00\\x00\\x00\\x00\\x00\\x00\\x00\\x00\\x00\\x00\\x00\\x00\\x00\\x00\\x00\\x00\\x00\\x00\\x00\\x00\\x00\\x00\\x00\\x00\\x00\\x00\\x00\\x00\\x00\\x00\\x00\\x00\\x00\\x00\\x00\\x00\\x00\\x00\\x00\\x00\\x00\\x00\\x00\\x00\\x00\\x00\\x00\\x00\\x00\\xfe\\xff\\x00\\x00\\n\\x00\\x02\\x00\\x00\\x00\\x00\\x00\\x00\\x00\\x00\\x00\\x00\\x00\\x00\\x00\\x00\\x00\\x00\\x00\\x01\\x00\\x00\\x00\\xe0\\x85\\x9f\\xf2\\xf9Oh\\x10\\xab\\x91\\x08\\x00+\\'\\xb3\\xd90\\x00\\x00\\x00\\xb8\\x00\\x00\\x00\\x07\\x00\\x00\\x00\\x01\\x00\\x00\\x00@\\x00\\x00\\x00\\x04\\x00\\x00\\x00H\\x00\\x00\\x00\\x08\\x00\\x00\\x00d\\x00\\x00\\x00\\x12\\x00\\x00\\x00\\x80\\x00\\x00\\x00\\x0c\\x00\\x00\\x00\\x98\\x00\\x00\\x00\\r\\x00\\x00\\x00\\xa4\\x00\\x00\\x00\\x13\\x00\\x00\\x00\\xb0\\x00\\x00\\x00\\x02\\x00\\x00\\x00\\xe4\\x04\\x00\\x00\\x1e\\x00\\x00\\x00\\x14\\x00\\x00\\x00_john aleshunas_\\x00\\x00\\x00\\x00\\x1e\\x00\\x00\\x00\\x14\\x00\\x00\\x00John J Padamadan\\x00\\x00\\x00\\x00\\x1e\\x00\\x00\\x00\\x10\\x00\\x00\\x00Microsoft Excel\\x00@\\x00\\x00\\x00\\x80:\\xafKD\\x16\\xc6\\x01@\\x00\\x00\\x00\\x808yW9\\xa5\\xd7\\x01\\x03\\x00\\x00\\x00\\x00\\x00\\x00\\x00\\x00\\x00\\x00\\x00\\x00\\x00\\x00\\x00\\x00\\x00\\x00\\x00\\x00\\x00\\x00\\x00\\x00\\x00\\x00\\x00\\x00\\x00\\x00\\x00\\x00\\x00\\x00\\x00\\x00\\x00\\x00\\x00\\x00\\x00\\x00\\x00\\x00\\x00\\x00\\x00\\x00\\x00\\x00\\x00\\x00\\x00\\x00\\x00\\x00\\x00\\x00\\x00\\x00\\x00\\x00\\x00\\x00\\x00\\x00\\x00\\x00\\x00\\x00\\x00\\x00\\x00\\x00\\x00\\x00\\x00\\x00\\x00\\x00\\x00\\x00\\x00\\x00\\x00\\x00\\x00\\x00\\x00\\x00\\x00\\x00\\x00\\x00\\x00\\x00\\x00\\x00\\x00\\x00\\x00\\x00\\x00\\x00\\x00\\x00\\x00\\x00\\x00\\x00\\x00\\x00\\x00\\x00\\x00\\x00\\x00\\x00\\x00\\x00\\x00\\x00\\x00\\x00\\x00\\x00\\x00\\x00\\x00\\x00\\x00\\x00\\x00\\x00\\x00\\x00\\x00\\x00\\x00\\x00\\x00\\x00\\x00\\x00\\x00\\x00\\x00\\x00\\x00\\x00\\x00\\x00\\x00\\x00\\x00\\x00\\x00\\x00\\x00\\x00\\x00\\x00\\x00\\x00\\x00\\x00\\x00\\x00\\x00\\x00\\x00\\x00\\x00\\x00\\x00\\x00\\x00\\x00\\x00\\x00\\x00\\x00\\x00\\x00\\x00\\x00\\x00\\x00\\x00\\x00\\x00\\x00\\x00\\x00\\x00\\x00\\x00\\x00\\x00\\x00\\x00\\x00\\x00\\x00\\x00\\x00\\x00\\x00\\x00\\x00\\x00\\x00\\x00\\x00\\x00\\x00\\x00\\x00\\x00\\x00\\x00\\x00\\x00\\x00\\x00\\x00\\x00\\x00\\x00\\x00\\x00\\x00\\x00\\x00\\x00\\x00\\x00\\x00\\x00\\x00\\x00\\x00\\x00\\x00\\x00\\x00\\x00\\x00\\x00\\x00\\x00\\x00\\x00\\x00\\x00\\x00\\x00\\x00\\x00\\x00\\x00\\x00\\x00\\x00\\x00\\x00\\x00\\x00\\x00\\x00\\x00\\x00\\x00\\x00\\x00\\x00\\x00\\x00\\x00\\x00\\x00\\x00\\x00\\x00\\x00\\x00\\x00\\x00\\x00\\x00\\x00\\x00\\x00\\x00\\x00\\x00\\x00\\x00\\x00\\x00\\x00\\x00\\x00\\x00\\x00\\x00\\x00\\x00\\x00\\x00\\x00\\x00\\x00\\x00\\x00\\x00\\x00\\x00\\x00\\x00\\x00\\x00\\x00\\x00\\x00\\x00\\x00\\x00\\x00\\x00\\x00\\x00\\x00\\x00\\x00\\x00\\x00\\x00\\x00\\x00\\x00\\x00\\x00\\x00\\x00\\x00\\x00\\x00\\x00\\x00\\x00\\x00\\x00\\x00\\x00\\x00\\x00\\x00\\x00\\x00\\x00\\x00\\x00\\x00\\x00\\x00\\x00\\x00\\x00\\x00\\x00\\x00\\x00\\x00\\x00\\x00\\x00\\x00\\x00\\x00\\x00\\x00\\x00\\x00\\x00\\x00\\x00\\x00\\x00\\x00\\x00\\x00\\x00\\x00\\x00\\x00\\x00\\x00\\x00\\x00\\x00\\x00\\x00\\x00\\x00\\x00\\x00\\x00\\x00\\x00\\x00\\x00\\x00\\x00\\x00\\x00\\x00\\x00\\x00\\x00\\x00\\x00\\x00\\x00\\x00\\x00\\x00\\x00\\x00\\x00\\x00\\x00\\x00\\x00\\x00\\x00\\x00\\x00\\x00\\x00\\x00\\x00\\x00\\x00\\x00\\x00\\x00\\x00\\x00\\x00\\x00\\x00\\x00\\x00\\x00\\x00\\x00\\x00\\x00\\x00\\x00\\x00\\x00\\x00\\x00\\x00\\x00\\x00\\x00\\x00\\x00\\x00\\x00\\x00\\x00\\x00\\x00\\x00\\x00\\x00\\x00\\x00\\x00\\x00\\x00\\x00\\x00\\x00\\x00\\x00\\x00\\x00\\x00\\x00\\x00\\x00\\x00\\x00\\x00\\x00\\x00\\x00\\x00\\x00\\x00\\x00\\x00\\x00\\x00\\x00\\x00\\x00\\x00\\x00\\x00\\x00\\x00\\x00\\x00\\x00\\x00\\x00\\x00\\x00\\x00\\x00\\x00\\x00\\x00\\x00\\x00\\x00\\x00\\x00\\x00\\x00\\x00\\x00\\x00\\x00\\x00\\x00\\x00\\x00\\x00\\x00\\x00\\x00\\x00\\x00\\x00\\x00\\x00\\x00\\x00\\x00\\x00\\x00\\x00\\x00\\x00\\x00\\x00\\x00\\x00\\x00\\x00\\x00\\x00\\x00\\x00\\x00\\x00\\x00\\x00\\x00\\x00\\x00\\x00\\x00\\x00\\x00\\x00\\x00\\x00\\x00\\x00\\x00\\x00\\x00\\x00\\x00\\x00\\x00\\x00\\x00\\x00\\x00\\x00\\x00\\x00\\x00\\x00\\x00\\x00\\x00\\x00\\x00\\x00\\x00\\x00\\x00\\x00\\x00\\x00\\x00\\x00\\x00\\x00\\x00\\x00\\x00\\x00\\x00\\x00\\x00\\x00\\x00\\x00\\x00\\x00\\x00\\x00\\x00\\x00\\x00\\x00\\x00\\x00\\x00\\x00\\x00\\x00\\x00\\x00\\x00\\x00\\x00\\x00\\x00\\x00\\x00\\x00\\x00\\x00\\x00\\x00\\x00\\x00\\x00\\x00\\x00\\x00\\x00\\x00\\x00\\x00\\x00\\x00\\x00\\x00\\x00\\x00\\x00\\x00\\x00\\x00\\x00\\x00\\x00\\x00\\x00\\x00\\x00\\x00\\x00\\x00\\x00\\x00\\x00\\x00\\x00\\x00\\x00\\x00\\x00\\x00\\x00\\x00\\x00\\x00\\x00\\x00\\x00\\x00\\x00\\x00\\x00\\x00\\x00\\x00\\x00\\x00\\x00\\x00\\x00\\x00\\x00\\x00\\x00\\x00\\x00\\x00\\x00\\x00\\x00\\x00\\x00\\x00\\x00\\x00\\x00\\x00\\x00\\x00\\x00\\x00\\x00\\x00\\x00\\x00\\x00\\x00\\x00\\x00\\x00\\x00\\x00\\x00\\x00\\x00\\x00\\x00\\x00\\x00\\x00\\x00\\x00\\x00\\x00\\x00\\x00\\x00\\x00\\x00\\x00\\x00\\x00\\x00\\x00\\x00\\x00\\x00\\x00\\x00\\x00\\x00\\x00\\x00\\x00\\x00\\x00\\x00\\x00\\x00\\x00\\x00\\x00\\x00\\x00\\x00\\x00\\x00\\x00\\x00\\x00\\x00\\x00\\x00\\x00\\x00\\x00\\x00\\x00\\x00\\x00\\x00\\x00\\x00\\x00\\x00\\x00\\x00\\x00\\x00\\x00\\x00\\x00\\x00\\x00\\x00\\x00\\x00\\x00\\x00\\x00\\x00\\x00\\x00\\x00\\x00\\x00\\x00\\x00\\x00\\x00\\x00\\x00\\x00\\x00\\x00\\x00\\x00\\x00\\x00\\x00\\x00\\x00\\x00\\x00\\x00\\x00\\x00\\x00\\x00\\x00\\x00\\x00\\x00\\x00\\x00\\x00\\x00\\x00\\x00\\x00\\x00\\x00\\x00\\x00\\x00\\x00\\x00\\x00\\x00\\x00\\x00\\x00\\x00\\x00\\x00\\x00\\x00\\x00\\x00\\x00\\x00\\x00\\x00\\x00\\x00\\x00\\x00\\x00\\x00\\x00\\x00\\x00\\x00\\x00\\x00\\x00\\x00\\x00\\x00\\x00\\x00\\x00\\x00\\x00\\x00\\x00\\x00\\x00\\x00\\x00\\x00\\x00\\x00\\x00\\x00\\x00\\x00\\x00\\x00\\x00\\x00\\x00\\x00\\x00\\x00\\x00\\x00\\x00\\x00\\x00\\x00\\x00\\x00\\x00\\x00\\x00\\x00\\x00\\x00\\x00\\x00\\x00\\x00\\x00\\x00\\x00\\x00\\x00\\x00\\x00\\x00\\x00\\x00\\x00\\x00\\x00\\x00\\x00\\x00\\x00\\x00\\x00\\x00\\x00\\x00\\x00\\x00\\x00\\x00\\x00\\x00\\x00\\x00\\x00\\x00\\x00\\x00\\x00\\x00\\x00\\x00\\x00\\x00\\x00\\x00\\x00\\x00\\x00\\x00\\x00\\x00\\x00\\x00\\x00\\x00\\x00\\x00\\x00\\x00\\x00\\x00\\x00\\x00\\x00\\x00\\x00\\x00\\x00\\x00\\x00\\x00\\x00\\x00\\x00\\x00\\x00\\x00\\x00\\x00\\x00\\x00\\x00\\x00\\x00\\x00\\x00\\x00\\x00\\x00\\x00\\x00\\x00\\x00\\x00\\x00\\x00\\x00\\x00\\x00\\x00\\x00\\x00\\x00\\x00\\x00\\x00\\x00\\x00\\x00\\x00\\x00\\x00\\x00\\x00\\x00\\x00\\x00\\x00\\x00\\x00\\x00\\x00\\x00\\x00\\x00\\x00\\x00\\x00\\x00\\x00\\x00\\x00\\x00\\x00\\x00\\x00\\x00\\x00\\x00\\x00\\x00\\x00\\x00\\x00\\x00\\x00\\x00\\x00\\x00\\x00\\x00\\x00\\x00\\x00\\x00\\x00\\x00\\x00\\x00\\x00\\x00\\x00\\x00\\x00\\x00\\x00\\x00\\x00\\x00\\x00\\x00\\x00\\x00\\x00\\x00\\x00\\x00\\x00\\x00\\x00\\x00\\x00\\x00\\x00\\x00\\x00\\x00\\x00\\x00\\x00\\x00\\x00\\x00\\x00\\x00\\x00\\x00\\x00\\x00\\x00\\x00\\x00\\x00\\x00\\x00\\x00\\x00\\x00\\x00\\x00\\x00\\x00\\x00\\x00\\x00\\x00\\x00\\x00\\x00\\x00\\x00\\x00\\x00\\x00\\x00\\x00\\x00\\x00\\x00\\x00\\x00\\x00\\x00\\x00\\x00\\x00\\x00\\x00\\x00\\x00\\x00\\x00\\x00\\x00\\x00\\x00\\x00\\x00\\x00\\x00\\x00\\x00\\x00\\x00\\x00\\x00\\x00\\x00\\x00\\x00\\x00\\x00\\x00\\x00\\x00\\x00\\x00\\x00\\x00\\x00\\x00\\x00\\x00\\x00\\x00\\x00\\x00\\x00\\x00\\x00\\x00\\x00\\x00\\x00\\x00\\x00\\x00\\x00\\x00\\x00\\x00\\x00\\x00\\x00\\x00\\x00\\x00\\x00\\x00\\x00\\x00\\x00\\x00\\x00\\x00\\x00\\x00\\x00\\x00\\x00\\x00\\x00\\x00\\x00\\x00\\x00\\x00\\x00\\x00\\x00\\x00\\x00\\x00\\x00\\x00\\x00\\x00\\x00\\x00\\x00\\x00\\x00\\x00\\x00\\x00\\x00\\x00\\x00\\x00\\x00\\x00\\x00\\x00\\x00\\x00\\x00\\x00\\x00\\x00\\x00\\x00\\x00\\x00\\x00\\x00\\x00\\x00\\x00\\x00\\x00\\x00\\x00\\x00\\x00\\x00\\x00\\x00\\x00\\x00\\x00\\x00\\x00\\x00\\x00\\x00\\x00\\x00\\x00\\x00\\x00\\x00\\x00\\x00\\x00\\x00\\x00\\x00\\x00\\x00\\x00\\x00\\x00\\x00\\x00\\x00\\x00\\x00\\x00\\x00\\x00\\x00\\x00\\x00\\x00\\x00\\x00\\x00\\x00\\x00\\x00\\x00\\x00\\x00\\x00\\x00\\x00\\x00\\x00\\x00\\x00\\x00\\x00\\x00\\x00\\x00\\x00\\x00\\x00\\x00\\x00\\x00\\x00\\x00\\x00\\x00\\x00\\x00\\x00\\x00\\x00\\x00\\x00\\x00\\x00\\x00\\x00\\x00\\x00\\x00\\x00\\x00\\x00\\x00\\x00\\x00\\x00\\x00\\x00\\x00\\x00\\x00\\x00\\x00\\x00\\x00\\x00\\x00\\x00\\x00\\x00\\x00\\x00\\x00\\x00\\x00\\x00\\x00\\x00\\x00\\x00\\x00\\x00\\x00\\x00\\x00\\x00\\x00\\x00\\x00\\x00\\x00\\x00\\x00\\x00\\x00\\x00\\x00\\x00\\x00\\x00\\x00\\x00\\x00\\x00\\x00\\x00\\x00\\x00\\x00\\x00\\x00\\x00\\x00\\x00\\x00\\x00\\x00\\x00\\x00\\x00\\x00\\x00\\x00\\x00\\x00\\x00\\x00\\x00\\x00\\x00\\x00\\x00\\x00\\x00\\x00\\x00\\x00\\x00\\x00\\x00\\x00\\x00\\x00\\x00\\x00\\x00\\x00\\x00\\x00\\x00\\x00\\x00\\x00\\x00\\x00\\x00\\x00\\x00\\x00\\x00\\x00\\x00\\x00\\x00\\x00\\x00\\x00\\x00\\x00\\x00\\x00\\x00\\x00\\x00\\x00\\x00\\x00\\x00\\x00\\x00\\x00\\x00\\x00\\x00\\x00\\x00\\x00\\x00\\x00\\x00\\x00\\x00\\x00\\x00\\x00\\x00\\x00\\x00\\x00\\x00\\x00\\x00\\x00\\x00\\x00\\x00\\x00\\x00\\x00\\x00\\x00\\x00\\x00\\x00\\x00\\x00\\x00\\x00\\x00\\x00\\x00\\x00\\x00\\x00\\x00\\x00\\x00\\x00\\x00\\x00\\x00\\x00\\x00\\x00\\x00\\x00\\x00\\x00\\x00\\x00\\x00\\x00\\x00\\x00\\x00\\x00\\x00\\x00\\x00\\x00\\x00\\x00\\x00\\x00\\x00\\x00\\x00\\x00\\x00\\x00\\x00\\x00\\x00\\x00\\x00\\x00\\x00\\x00\\x00\\x00\\x00\\x00\\x00\\x00\\x00\\x00\\x00\\x00\\x00\\x00\\x00\\x00\\x00\\x00\\x00\\x00\\x00\\x00\\x00\\x00\\x00\\x00\\x00\\x00\\x00\\x00\\x00\\x00\\x00\\x00\\x00\\x00\\x00\\x00\\x00\\x00\\x00\\x00\\x00\\x00\\x00\\x00\\x00\\x00\\x00\\x00\\x00\\x00\\x00\\x00\\x00\\x00\\x00\\x00\\x00\\x00\\x00\\x00\\x00\\x00\\x00\\x00\\x00\\x00\\x00\\x00\\x00\\x00\\x00\\x00\\x00\\x00\\x00\\x00\\x00\\x00\\x00\\x00\\x00\\x00\\x00\\x00\\x00\\x00\\x00\\x00\\x00\\x00\\x00\\x00\\x00\\x00\\x00\\x00\\x00\\x00\\x00\\x00\\x00\\x00\\x00\\x00\\x00\\x00\\x00\\x00\\x00\\x00\\x00\\x00\\x00\\x00\\x00\\x00\\x00\\x00\\x00\\x00\\x00\\x00\\x00\\x00\\x00\\x00\\x00\\x00\\x00\\x00\\x00\\x00\\x00\\x00\\x00\\x00\\x00\\x00\\x00\\x00\\x00\\x00\\x00\\x00\\x00\\x00\\x00\\x00\\x00\\x00\\x00\\x00\\x00\\x00\\x00\\x00\\x00\\x00\\x00\\x00\\x00\\x00\\x00\\x00\\x00\\x00\\x00\\x00\\x00\\x00\\x00\\x00\\x00\\x00\\x00\\x00\\x00\\x00\\x00\\x00\\x00\\x00\\x00\\x00\\x00\\x00\\x00\\x00\\x00\\x00\\x00\\x00\\x00\\x00\\x00\\x00\\x00\\x00\\x00\\x00\\x00\\x00\\x00\\x00\\x00\\x00\\x00\\x00\\x00\\x00\\x00\\x00\\x00\\x00\\x00\\x00\\x00\\x00\\x00\\x00\\x00\\x00\\x00\\x00\\x00\\x00\\x00\\x00\\x00\\x00\\x00\\x00\\x00\\x00\\x00\\x00\\x00\\x00\\x00\\x00\\x00\\x00\\x00\\x00\\x00\\x00\\x00\\x00\\x00\\x00\\x00\\x00\\x00\\x00\\x00\\x00\\x00\\x00\\x00\\x00\\x00\\x00\\x00\\x00\\x00\\x00\\x00\\x00\\x00\\x00\\x00\\x00\\x00\\x00\\x00\\x00\\x00\\x00\\x00\\x00\\x00\\x00\\x00\\x00\\x00\\x00\\x00\\x00\\x00\\x00\\x00\\x00\\x00\\x00\\x00\\x00\\x00\\x00\\x00\\x00\\x00\\x00\\x00\\x00\\x00\\x00\\x00\\x00\\x00\\x00\\x00\\x00\\x00\\x00\\x00\\x00\\x00\\x00\\x00\\x00\\x00\\x00\\x00\\x00\\x00\\x00\\x00\\x00\\x00\\x00\\x00\\x00\\x00\\x00\\x00\\x00\\x00\\x00\\x00\\x00\\x00\\x00\\x00\\x00\\x00\\x00\\x00\\x00\\x00\\x00\\x00\\x00\\x00\\x00\\x00\\x00\\x00\\x00\\x00\\x00\\x00\\x00\\x00\\x00\\x00\\x00\\x00\\x00\\x00\\x00\\x00\\x00\\x00\\x00\\x00\\x00\\x00\\x00\\x00\\x00\\x00\\x00\\x00\\x00\\x00\\x00\\x00\\x00\\x00\\x00\\x00\\x00\\x00\\x00\\x00\\x00\\x00\\x00\\x00\\x00\\x00\\x00\\x00\\x00\\x00\\x00\\x00\\x00\\x00\\x00\\x00\\x00\\x00\\x00\\x00\\x00\\x00\\x00\\x00\\x00\\x00\\x00\\x00\\x00\\x00\\x00\\x00\\x00\\x00\\x00\\x00\\x00\\x00\\x00\\x00\\x00\\x00\\x00\\x00\\x00\\x00\\x00\\x00\\x00\\x00\\x00\\x00\\x00\\x00\\x00\\x00\\x00\\x00\\x00\\x00\\x00\\x00\\x00\\x00\\x00\\x00\\x00\\x00\\x00\\x00\\x00\\x00\\x00\\x00\\x00\\x00\\x00\\x00\\x00\\x00\\x00\\x00\\x00\\x00\\x00\\x00\\x00\\x00\\x00\\x00\\x00\\x00\\x00\\x00\\x00\\x00\\x00\\x00\\x00\\x00\\x00\\x00\\x00\\x00\\x00\\x00\\x00\\x00\\x00\\x00\\x00\\x00\\x00\\x00\\x00\\x00\\x00\\x00\\x00\\x00\\x00\\x00\\x00\\x00\\x00\\x00\\x00\\x00\\x00\\x00\\x00\\x00\\x00\\x00\\x00\\x00\\x00\\x00\\x00\\x00\\x00\\x00\\x00\\x00\\x00\\x00\\x00\\x00\\x00\\x00\\x00\\x00\\x00\\x00\\x00\\x00\\x00\\x00\\x00\\x00\\x00\\x00\\x00\\x00\\x00\\x00\\x00\\x00\\x00\\x00\\x00\\x00\\x00\\x00\\x00\\x00\\x00\\x00\\x00\\x00\\x00\\x00\\x00\\x00\\x00\\x00\\x00\\x00\\x00\\x00\\x00\\x00\\x00\\x00\\x00\\x00\\x00\\x00\\x00\\x00\\x00\\x00\\x00\\x00\\x00\\x00\\x00\\x00\\x00\\x00\\x00\\x00\\x00\\x00\\x00\\x00\\x00\\x00\\x00\\x00\\x00\\x00\\x00\\x00\\x00\\x00\\x00\\x00\\x00\\x00\\x00\\x00\\x00\\x00\\x00\\x00\\x00\\x00\\x00\\x00\\x00\\x00\\x00\\x00\\x00\\x00\\x00\\x00\\x00\\x00\\x00\\x00\\x00\\x00\\x00\\x00\\x00\\x00\\x00\\x00\\x00\\x00\\x00\\x00\\x00\\x00\\x00\\x00\\x00\\x00\\x00\\x00\\x00\\x00\\x00\\x00\\x00\\x00\\x00\\x00\\x00\\x00\\x00\\x00\\x00\\x00\\x00\\x00\\x00\\x00\\x00\\x00\\x00\\x00\\x00\\x00\\x00\\x00\\x00\\x00\\x00\\x00\\x00\\x00\\x00\\x00\\x00\\x00\\x00\\x00\\x00\\x00\\x00\\x00\\x00\\x00\\x00\\x00\\x00\\x00\\x00\\x00\\x00\\x00\\x00\\x00\\x00\\x00\\x00\\x00\\x00\\x00\\x00\\x00\\x00\\x00\\x00\\x00\\x00\\x00\\x00\\x00\\x00\\x00\\x00\\x00\\x00\\x00\\x00\\x00\\x00\\x00\\x00\\x00\\x00\\x00\\x00\\x00\\x00\\x00\\x00\\x00\\x00\\x00\\x00\\x00\\x00\\x00\\x00\\x00\\x00\\x00\\x00\\x00\\x00\\x00\\x00\\x00\\x00\\x00\\x00\\x00\\x00\\x00\\x00\\x00\\x00\\x00\\x00\\x00\\x00\\x00\\x00\\x00\\x00\\x00\\x00\\x00\\x00\\x00\\x00\\x00\\x00\\x00\\x00\\x00\\x00\\x00\\x00\\x00\\x00\\x00\\x00\\x00\\x00\\x00\\x00\\x00\\x00\\x00\\x00\\x00\\x00\\x00\\x00\\x00\\x00\\x00\\x00\\x00\\x00\\x00\\x00\\x00\\x00\\x00\\x00\\x00\\x00\\x00\\x00\\x00\\x00\\x00\\x00\\x00\\x00\\x00\\x00\\x00\\x00\\x00\\x00\\x00\\x00\\x00\\x00\\x00\\x00\\x00\\x00\\x00\\x00\\x00\\x00\\x00\\x00\\x00\\x00\\x00\\x00\\x00\\x00\\x00\\x00\\x00\\x00\\x00\\x00\\x00\\x00\\x00\\x00\\x00\\x00\\x00\\x00\\x00\\x00\\x00\\x00\\x00\\x00\\x00\\x00\\x00\\x00\\x00\\x00\\x00\\x00\\x00\\x00\\x00\\x00\\x00\\x00\\x00\\x00\\x00\\x00\\x00\\x00\\x00\\x00\\x00\\x00\\x00\\x00\\x00\\x00\\x00\\x00\\x00\\x00\\x00\\x00\\x00\\x00\\x00\\x00\\x00\\x00\\x00\\x00\\x00\\x00\\x00\\x00\\x00\\x00\\x00\\x00\\x00\\x00\\x00\\x00\\x00\\x00\\x00\\x00\\x00\\x00\\x00\\x00\\x00\\x00\\x00\\x00\\x00\\x00\\x00\\x00\\x00\\x00\\x00\\x00\\x00\\x00\\x00\\x00\\x00\\x00\\x00\\x00\\x00\\x00\\x00\\x00\\x00\\x00\\x00\\x00\\x00\\x00\\x00\\x00\\x00\\x00\\x00\\x00\\x00\\x00\\x00\\x00\\x00\\x00\\x00\\x00\\x00\\x00\\x00\\x00\\x00\\x00\\x00\\x00\\x00\\x00\\x00\\x00\\x00\\x00\\x00\\x00\\x00\\x00\\x00\\x00\\x00\\x00\\x00\\x00\\x00\\x00\\x00\\x00\\x00\\x00\\x00\\x00\\x00\\x00\\x00\\x00\\x00\\x00\\x00\\x00\\x00\\x00\\x00\\x00\\x00\\x00\\x00\\x00\\x00\\x00\\x00\\x00\\x00\\x00\\x00\\x00\\x00\\x00\\x00\\x00\\x00\\x00\\x00\\x00\\x00\\x00\\x00\\x00\\x00\\x00\\x00\\x00\\x00\\x00\\x00\\x00\\x00\\x00\\x00\\x00\\x00\\x00\\x00\\x00\\x00\\x00\\x00\\x00\\x00\\x00\\x00\\x00\\x00\\x00\\x00\\x00\\x00\\x00\\x00\\x00\\x00\\x00\\x00\\x00\\x00\\x00\\x00\\x00\\x00\\x00\\x00\\x00\\x00\\x00\\x00\\x00\\x00\\x00\\x00\\x00\\x00\\x00\\x00\\x00\\x00\\x00\\x00\\x00\\x00\\x00\\x00\\x00\\x00\\x00\\x00\\x00\\x00\\x00\\x00\\x00\\x00\\x00\\x00\\x00\\x00\\x00\\x00\\x00\\x00\\x00\\x00\\x00\\x00\\x00\\x00\\x00\\x00\\x00\\x00\\x00\\x00\\x00\\x00\\x00\\x00\\x00\\x00\\x00\\x00\\x00\\x00\\x00\\x00\\x00\\x00\\x00\\x00\\x00\\x00\\x00\\x00\\x00\\x00\\x00\\x00\\x00\\x00\\x00\\x00\\x00\\x00\\x00\\x00\\x00\\x00\\x00\\x00\\x00\\x00\\x00\\x00\\x00\\x00\\x00\\x00\\x00\\x00\\x00\\x00\\x00\\x00\\x00\\x00\\x00\\x00\\x00\\x00\\x00\\x00\\x00\\x00\\x00\\x00\\x00\\x00\\x00\\x00\\x00\\x00\\x00\\x00\\x00\\x00\\x00\\x00\\x00\\x00\\x00\\x00\\x00\\x00\\x00\\x00\\x00\\x00\\x00\\x00\\x00\\x00\\x00\\x00\\x00\\x00\\x00\\x00\\x00\\x00\\x00\\x00\\x00\\x00\\x00\\x00\\x00\\x00\\x00\\x00\\x00\\x00\\x00\\x00\\x00\\x00\\x00\\x00\\x00\\x00\\x00\\x00\\x00\\x00\\x00\\x00\\x00\\x00\\x00\\x00\\x00\\x00\\x00\\x00\\x00\\x00\\x00\\x00\\x00\\x00\\x00\\x00\\x00\\x00\\x00\\x00\\x00\\x00\\x00\\x00\\x00\\x00\\x00\\x00\\x00\\x00\\x00\\x00\\x00\\x00\\x00\\x00\\x00\\x00\\x00\\x00\\x00\\x00\\x00\\x00\\x00\\x00\\x00\\x00\\x00\\x00\\x00\\x00\\x00\\x00\\x00\\x00\\x00\\x00\\x00\\x00\\x00\\x00\\x00\\x00\\x00\\x00\\x00\\x00\\x00\\x00\\x00\\x00\\x00\\x00\\x00\\x00\\x00\\x00\\x00\\x00\\x00\\x00\\x00\\x00\\x00\\x00\\x00\\x00\\x00\\x00\\x00\\x00\\x00\\x00\\x00\\x00\\x00\\x00\\x00\\x00\\x00\\x00\\x00\\x00\\x00\\x00\\x00\\x00\\x00\\x00\\x00\\x00\\x00\\x00\\x00\\x00\\x00\\x00\\x00\\x00\\x00\\x00\\x00\\x00\\x00\\x00\\x00\\x00\\x00\\x00\\x00\\x00\\x00\\x00\\x00\\x00\\x00\\x00\\x00\\x00\\x00\\x00\\x00\\x00\\x00\\x00\\x00\\x00\\x00\\x00\\x00\\x00\\x00\\x00\\x00\\x00\\x00\\x00\\x00\\x00\\x00\\x00\\x00\\x00\\x00\\x00\\x00\\x00\\x00\\x00\\x00\\x00\\x00\\x00\\x00\\x00\\x00\\x00\\x00\\x00\\x00\\x00\\x00\\x00\\x00\\x00\\x00\\x00\\x00\\x00\\x00\\x00\\x00\\x00\\x00\\x00\\x00\\x00\\x00\\x00\\x00\\x00\\x00\\x00\\x00\\x00\\x00\\x00\\x00\\x00\\x00\\x00\\x00\\x00\\x00\\x00\\x00\\x00\\x00\\x00\\x00\\x00\\x00\\x00\\x00\\x00\\x00\\x00\\x00\\x00\\x00\\x00\\x00\\x00\\x00\\x00\\x00\\x00\\x00\\x00\\x00\\x00\\x00\\x00\\x00\\x00\\x00\\x00\\x00\\x00\\x00\\x00\\x00\\x00\\x00\\x00\\x00\\x00\\x00\\x00\\x00\\x00\\x00\\x00\\x00\\x00\\x00\\x00\\x00\\x00\\x00\\x00\\x00\\x00\\x00\\x00\\x00\\x00\\x00\\x00\\x00\\x00\\x00\\x00\\x00\\x00\\x00\\x00\\x00\\x00\\x00\\x00\\x00\\x00\\x00\\x00\\x00\\x00\\x00\\x00\\x00\\x00\\x00\\x00\\x00\\x00\\x00\\x00\\x00\\x00\\x00\\x00\\x00\\x00\\x00\\x00\\x00\\x00\\x00\\x00\\x00\\x00\\x00\\x00\\x00\\x00\\x00\\x00\\x00\\x00\\x00\\x00\\x00\\x00\\x00\\x00\\x00\\x00\\x00\\x00\\x00\\x00\\x00\\x00\\x00\\x00\\x00\\x00\\x00\\x00\\x00\\x00\\x00\\x00\\x00\\x00\\x00\\x00\\x00\\x00\\x00\\x00\\x00\\x00\\x00\\x00\\x00\\x00\\x00\\x00\\x00\\x00\\x00\\x00\\x00\\x00\\x00\\x00\\x00\\x00\\x00\\x00\\x00\\x00\\x00\\x00\\x00\\x00\\x00\\x00\\x00\\x00\\x00\\x00\\x00\\x00\\x00\\x00\\x00\\x00\\x00\\x00\\x00\\x00\\x00\\x00\\x00\\x00\\x00\\x00\\x00\\x00\\x00\\x00\\x00\\x00\\x00\\x00\\x00\\x00\\x00\\x00\\x00\\x00\\x00\\x00\\x00\\x00\\x00\\x00\\x00\\x00\\x00\\x00\\x00\\x00\\x00\\x00\\x00\\x00\\x00\\x00\\x00\\x00\\x00\\x00\\x00\\x00\\x00\\x00\\x00\\x00\\x00\\x00\\x00\\x00\\x00\\x00\\x00\\x00\\x00\\x00\\x00\\x00\\x00\\x00\\x00\\x00\\x00\\x00\\x00\\x00\\x00\\x00\\x00\\x00\\x00\\x00\\x00\\x00\\x00\\x00\\x00\\x00\\x00\\x00\\x00\\x00\\x00\\x00\\x00\\x00\\x00\\x00\\x00\\x00\\x00\\x00\\x00\\x00\\x00\\x00\\x00\\x00\\x00\\x00\\x00\\x00\\x00\\x00\\x00\\x00\\x00\\x00\\x00\\x00\\x00\\x00\\x00\\x00\\x00\\x00\\x00\\x00\\x00\\x00\\x00\\x00\\x00\\x00\\x00\\x00\\x00\\x00\\x00\\x00\\x00\\x00\\x00\\x00\\x00\\x00\\x00\\x00\\x00\\x00\\x00\\x00\\x00\\x00\\x00\\x00\\x00\\x00\\x00\\x00\\x00\\x00\\x00\\x00\\x00\\x00\\x00\\x00\\x00\\x00\\x00\\x00\\x00\\x00\\x00\\x00\\x00\\x00\\x00\\x00\\x00\\x00\\x00\\x00\\x00\\x00\\x00\\x00\\x00\\x00\\x00\\x00\\x00\\x00\\x00\\x00\\x00\\x00\\x00\\x00\\x00\\x00\\x00\\x00\\x00\\x00\\x00\\x00\\x00\\x00\\x00\\x00\\x00\\x00\\x00\\x00\\x00\\x00\\x00\\x00\\x00\\x00\\x00\\x00\\x00\\x00\\x00\\x00\\x00\\x00\\x00\\x00\\x00\\x00\\x00\\x00\\x00\\x00\\x00\\x00\\x00\\x00\\x00\\x00\\x00\\x00\\x00\\x00\\x00\\x00\\x00\\x00\\x00\\x00\\x00\\x00\\x00\\x00\\x00\\x00\\x00\\x00\\x00\\x00\\x00\\x00\\x00\\x00\\x00\\x00\\x00\\x00\\x00\\x00\\x00\\x00\\x00\\x00\\x00\\x00\\x00\\x00\\x00\\x00\\x00\\x00\\x00\\x00\\x00\\x00\\x00\\x00\\x00\\x00\\x00\\x00\\x00\\x00\\x00\\x00\\x00\\x00\\x00\\x00\\x00\\x00\\x00\\x00\\x00\\x00\\x00\\x00\\x00\\x00\\x00\\x00\\x00\\x00\\x00\\x00\\x00\\x00\\x00\\x00\\x00\\x00\\x00\\x00\\x00\\x00\\x00\\x00\\x00\\x00\\x00\\x00\\x00\\x00\\x00\\x00\\x00\\x00\\x00\\x00\\x00\\x00\\x00\\x00\\x00\\x00\\x00\\x00\\x00\\x00\\x00\\x00\\x00\\x00\\x00\\x00\\x00\\x00\\x00\\x00\\x00\\x00\\x00\\x00\\x00\\x00\\x00\\x00\\x00\\x00\\x00\\x00\\x00\\x00\\x00\\x00\\x00\\x00\\x00\\x00\\x00\\x00\\x00\\x00\\x00\\x00\\x00\\x00\\x00\\x00\\x00\\x00\\x00\\x00\\x00\\x00\\x00\\x00\\x00\\x00\\x00\\x00\\x00\\x00\\x00\\x00\\x00\\x00\\x00\\x00\\x00\\x00\\x00\\x00\\x00\\x00\\x00\\x00\\x00\\x00\\x00\\x00\\x00\\x00\\x00\\x00\\x00\\x00\\x00\\x00\\x00\\x00\\x00\\x00\\x00\\x00\\x00\\x00\\x00\\x00\\x00\\x00\\x00\\x00\\x00\\x00\\x00\\x00\\x00\\x00\\x00\\x00\\x00\\x00\\x00\\x00\\x00\\x00\\x00\\x00\\x00\\x00\\x00\\x00\\x00\\x00\\x00\\x00\\x00\\x00\\x00\\x00\\x00\\x00\\x00\\x00\\x00\\x00\\x00\\x00\\x00\\x00\\x00\\x00\\x00\\x00\\x00\\x00\\x00\\x00\\x00\\x00\\x00\\x00\\x00\\x00\\x00\\x00\\x00\\x00\\x00\\x00\\x00\\x00\\x00\\x00\\x00\\x00\\x00\\x00\\x00\\x00\\x00\\x00\\x00\\x00\\x00\\x00\\x00\\x00\\x00\\x00\\x00\\x00\\x00\\x00\\x00\\x00\\x00\\x00\\x00\\x00\\x00\\x00\\x00\\x00\\x00\\x00\\x00\\x00\\x00\\x00\\x00\\x00\\x00\\x00\\x00\\x00\\x00\\x00\\x00\\x00\\x00\\x00\\x00\\x00\\x00\\x00\\x00\\x00\\x00\\x00\\x00\\x00\\x00\\x00\\x00\\x00\\x00\\x00\\x00\\x00\\x00\\x00\\x00\\x00\\x00\\x00\\x00\\x00\\xfe\\xff\\x00\\x00\\n\\x00\\x02\\x00\\x00\\x00\\x00\\x00\\x00\\x00\\x00\\x00\\x00\\x00\\x00\\x00\\x00\\x00\\x00\\x00\\x01\\x00\\x00\\x00\\x02\\xd5\\xcd\\xd5\\x9c.\\x1b\\x10\\x93\\x97\\x08\\x00+,\\xf9\\xae0\\x00\\x00\\x00\\xd4\\x00\\x00\\x00\\t\\x00\\x00\\x00\\x01\\x00\\x00\\x00P\\x00\\x00\\x00\\x0f\\x00\\x00\\x00X\\x00\\x00\\x00\\x17\\x00\\x00\\x00t\\x00\\x00\\x00\\x0b\\x00\\x00\\x00|\\x00\\x00\\x00\\x10\\x00\\x00\\x00\\x84\\x00\\x00\\x00\\x13\\x00\\x00\\x00\\x8c\\x00\\x00\\x00\\x16\\x00\\x00\\x00\\x94\\x00\\x00\\x00\\r\\x00\\x00\\x00\\x9c\\x00\\x00\\x00\\x0c\\x00\\x00\\x00\\xaf\\x00\\x00\\x00\\x02\\x00\\x00\\x00\\xe4\\x04\\x00\\x00\\x1e\\x00\\x00\\x00\\x14\\x00\\x00\\x00Webster University\\x00\\x00\\x03\\x00\\x00\\x00\\x00\\x00\\x10\\x00\\x0b\\x00\\x00\\x00\\x00\\x00\\x00\\x00\\x0b\\x00\\x00\\x00\\x00\\x00\\x00\\x00\\x0b\\x00\\x00\\x00\\x00\\x00\\x00\\x00\\x0b\\x00\\x00\\x00\\x00\\x00\\x00\\x00\\x1e\\x10\\x00\\x00\\x01\\x00\\x00\\x00\\x07\\x00\\x00\\x00Sheet1\\x00\\x0c\\x10\\x00\\x00\\x02\\x00\\x00\\x00\\x1e\\x00\\x00\\x00\\x0b\\x00\\x00\\x00Worksheets\\x00\\x03\\x00\\x00\\x00\\x01\\x00\\x00\\x00\\x00\\x00\\x00\\x00\\x00\\x00\\x00\\x00\\x00\\x00\\x00\\x00\\x00\\x00\\x00\\x00\\x00\\x00\\x00\\x00\\x00\\x00\\x00\\x00\\x00\\x00\\x00\\x00\\x00\\x00\\x00\\x00\\x00\\x00\\x00\\x00\\x00\\x00\\x00\\x00\\x00\\x00\\x00\\x00\\x00\\x00\\x00\\x00\\x00\\x00\\x00\\x00\\x00\\x00\\x00\\x00\\x00\\x00\\x00\\x00\\x00\\x00\\x00\\x00\\x00\\x00\\x00\\x00\\x00\\x00\\x00\\x00\\x00\\x00\\x00\\x00\\x00\\x00\\x00\\x00\\x00\\x00\\x00\\x00\\x00\\x00\\x00\\x00\\x00\\x00\\x00\\x00\\x00\\x00\\x00\\x00\\x00\\x00\\x00\\x00\\x00\\x00\\x00\\x00\\x00\\x00\\x00\\x00\\x00\\x00\\x00\\x00\\x00\\x00\\x00\\x00\\x00\\x00\\x00\\x00\\x00\\x00\\x00\\x00\\x00\\x00\\x00\\x00\\x00\\x00\\x00\\x00\\x00\\x00\\x00\\x00\\x00\\x00\\x00\\x00\\x00\\x00\\x00\\x00\\x00\\x00\\x00\\x00\\x00\\x00\\x00\\x00\\x00\\x00\\x00\\x00\\x00\\x00\\x00\\x00\\x00\\x00\\x00\\x00\\x00\\x00\\x00\\x00\\x00\\x00\\x00\\x00\\x00\\x00\\x00\\x00\\x00\\x00\\x00\\x00\\x00\\x00\\x00\\x00\\x00\\x00\\x00\\x00\\x00\\x00\\x00\\x00\\x00\\x00\\x00\\x00\\x00\\x00\\x00\\x00\\x00\\x00\\x00\\x00\\x00\\x00\\x00\\x00\\x00\\x00\\x00\\x00\\x00\\x00\\x00\\x00\\x00\\x00\\x00\\x00\\x00\\x00\\x00\\x00\\x00\\x00\\x00\\x00\\x00\\x00\\x00\\x00\\x00\\x00\\x00\\x00\\x00\\x00\\x00\\x00\\x00\\x00\\x00\\x00\\x00\\x00\\x00\\x00\\x00\\x00\\x00\\x00\\x00\\x00\\x00\\x00\\x00\\x00\\x00\\x00\\x00\\x00\\x00\\x00\\x00\\x00\\x00\\x00\\x00\\x00\\x00\\x00\\x00\\x00\\x00\\x00\\x00\\x00\\x00\\x00\\x00\\x00\\x00\\x00\\x00\\x00\\x00\\x00\\x00\\x00\\x00\\x00\\x00\\x00\\x00\\x00\\x00\\x00\\x00\\x00\\x00\\x00\\x00\\x00\\x00\\x00\\x00\\x00\\x00\\x00\\x00\\x00\\x00\\x00\\x00\\x00\\x00\\x00\\x00\\x00\\x00\\x00\\x00\\x00\\x00\\x00\\x00\\x00\\x00\\x00\\x00\\x00\\x00\\x00\\x00\\x00\\x00\\x00\\x00\\x00\\x00\\x00\\x00\\x00\\x00\\x00\\x00\\x00\\x00\\x00\\x00\\x00\\x00\\x00\\x00\\x00\\x00\\x00\\x00\\x00\\x00\\x00\\x00\\x00\\x00\\x00\\x00\\x00\\x00\\x00\\x00\\x00\\x00\\x00\\x00\\x00\\x00\\x00\\x00\\x00\\x00\\x00\\x00\\x00\\x00\\x00\\x00\\x00\\x00\\x00\\x00\\x00\\x00\\x00\\x00\\x00\\x00\\x00\\x00\\x00\\x00\\x00\\x00\\x00\\x00\\x00\\x00\\x00\\x00\\x00\\x00\\x00\\x00\\x00\\x00\\x00\\x00\\x00\\x00\\x00\\x00\\x00\\x00\\x00\\x00\\x00\\x00\\x00\\x00\\x00\\x00\\x00\\x00\\x00\\x00\\x00\\x00\\x00\\x00\\x00\\x00\\x00\\x00\\x00\\x00\\x00\\x00\\x00\\x00\\x00\\x00\\x00\\x00\\x00\\x00\\x00\\x00\\x00\\x00\\x00\\x00\\x00\\x00\\x00\\x00\\x00\\x00\\x00\\x00\\x00\\x00\\x00\\x00\\x00\\x00\\x00\\x00\\x00\\x00\\x00\\x00\\x00\\x00\\x00\\x00\\x00\\x00\\x00\\x00\\x00\\x00\\x00\\x00\\x00\\x00\\x00\\x00\\x00\\x00\\x00\\x00\\x00\\x00\\x00\\x00\\x00\\x00\\x00\\x00\\x00\\x00\\x00\\x00\\x00\\x00\\x00\\x00\\x00\\x00\\x00\\x00\\x00\\x00\\x00\\x00\\x00\\x00\\x00\\x00\\x00\\x00\\x00\\x00\\x00\\x00\\x00\\x00\\x00\\x00\\x00\\x00\\x00\\x00\\x00\\x00\\x00\\x00\\x00\\x00\\x00\\x00\\x00\\x00\\x00\\x00\\x00\\x00\\x00\\x00\\x00\\x00\\x00\\x00\\x00\\x00\\x00\\x00\\x00\\x00\\x00\\x00\\x00\\x00\\x00\\x00\\x00\\x00\\x00\\x00\\x00\\x00\\x00\\x00\\x00\\x00\\x00\\x00\\x00\\x00\\x00\\x00\\x00\\x00\\x00\\x00\\x00\\x00\\x00\\x00\\x00\\x00\\x00\\x00\\x00\\x00\\x00\\x00\\x00\\x00\\x00\\x00\\x00\\x00\\x00\\x00\\x00\\x00\\x00\\x00\\x00\\x00\\x00\\x00\\x00\\x00\\x00\\x00\\x00\\x00\\x00\\x00\\x00\\x00\\x00\\x00\\x00\\x00\\x00\\x00\\x00\\x00\\x00\\x00\\x00\\x00\\x00\\x00\\x00\\x00\\x00\\x00\\x00\\x00\\x00\\x00\\x00\\x00\\x00\\x00\\x00\\x00\\x00\\x00\\x00\\x00\\x00\\x00\\x00\\x00\\x00\\x00\\x00\\x00\\x00\\x00\\x00\\x00\\x00\\x00\\x00\\x00\\x00\\x00\\x00\\x00\\x00\\x00\\x00\\x00\\x00\\x00\\x00\\x00\\x00\\x00\\x00\\x00\\x00\\x00\\x00\\x00\\x00\\x00\\x00\\x00\\x00\\x00\\x00\\x00\\x00\\x00\\x00\\x00\\x00\\x00\\x00\\x00\\x00\\x00\\x00\\x00\\x00\\x00\\x00\\x00\\x00\\x00\\x00\\x00\\x00\\x00\\x00\\x00\\x00\\x00\\x00\\x00\\x00\\x00\\x00\\x00\\x00\\x00\\x00\\x00\\x00\\x00\\x00\\x00\\x00\\x00\\x00\\x00\\x00\\x00\\x00\\x00\\x00\\x00\\x00\\x00\\x00\\x00\\x00\\x00\\x00\\x00\\x00\\x00\\x00\\x00\\x00\\x00\\x00\\x00\\x00\\x00\\x00\\x00\\x00\\x00\\x00\\x00\\x00\\x00\\x00\\x00\\x00\\x00\\x00\\x00\\x00\\x00\\x00\\x00\\x00\\x00\\x00\\x00\\x00\\x00\\x00\\x00\\x00\\x00\\x00\\x00\\x00\\x00\\x00\\x00\\x00\\x00\\x00\\x00\\x00\\x00\\x00\\x00\\x00\\x00\\x00\\x00\\x00\\x00\\x00\\x00\\x00\\x00\\x00\\x00\\x00\\x00\\x00\\x00\\x00\\x00\\x00\\x00\\x00\\x00\\x00\\x00\\x00\\x00\\x00\\x00\\x00\\x00\\x00\\x00\\x00\\x00\\x00\\x00\\x00\\x00\\x00\\x00\\x00\\x00\\x00\\x00\\x00\\x00\\x00\\x00\\x00\\x00\\x00\\x00\\x00\\x00\\x00\\x00\\x00\\x00\\x00\\x00\\x00\\x00\\x00\\x00\\x00\\x00\\x00\\x00\\x00\\x00\\x00\\x00\\x00\\x00\\x00\\x00\\x00\\x00\\x00\\x00\\x00\\x00\\x00\\x00\\x00\\x00\\x00\\x00\\x00\\x00\\x00\\x00\\x00\\x00\\x00\\x00\\x00\\x00\\x00\\x00\\x00\\x00\\x00\\x00\\x00\\x00\\x00\\x00\\x00\\x00\\x00\\x00\\x00\\x00\\x00\\x00\\x00\\x00\\x00\\x00\\x00\\x00\\x00\\x00\\x00\\x00\\x00\\x00\\x00\\x00\\x00\\x00\\x00\\x00\\x00\\x00\\x00\\x00\\x00\\x00\\x00\\x00\\x00\\x00\\x00\\x00\\x00\\x00\\x00\\x00\\x00\\x00\\x00\\x00\\x00\\x00\\x00\\x00\\x00\\x00\\x00\\x00\\x00\\x00\\x00\\x00\\x00\\x00\\x00\\x00\\x00\\x00\\x00\\x00\\x00\\x00\\x00\\x00\\x00\\x00\\x00\\x00\\x00\\x00\\x00\\x00\\x00\\x00\\x00\\x00\\x00\\x00\\x00\\x00\\x00\\x00\\x00\\x00\\x00\\x00\\x00\\x00\\x00\\x00\\x00\\x00\\x00\\x00\\x00\\x00\\x00\\x00\\x00\\x00\\x00\\x00\\x00\\x00\\x00\\x00\\x00\\x00\\x00\\x00\\x00\\x00\\x00\\x00\\x00\\x00\\x00\\x00\\x00\\x00\\x00\\x00\\x00\\x00\\x00\\x00\\x00\\x00\\x00\\x00\\x00\\x00\\x00\\x00\\x00\\x00\\x00\\x00\\x00\\x00\\x00\\x00\\x00\\x00\\x00\\x00\\x00\\x00\\x00\\x00\\x00\\x00\\x00\\x00\\x00\\x00\\x00\\x00\\x00\\x00\\x00\\x00\\x00\\x00\\x00\\x00\\x00\\x00\\x00\\x00\\x00\\x00\\x00\\x00\\x00\\x00\\x00\\x00\\x00\\x00\\x00\\x00\\x00\\x00\\x00\\x00\\x00\\x00\\x00\\x00\\x00\\x00\\x00\\x00\\x00\\x00\\x00\\x00\\x00\\x00\\x00\\x00\\x00\\x00\\x00\\x00\\x00\\x00\\x00\\x00\\x00\\x00\\x00\\x00\\x00\\x00\\x00\\x00\\x00\\x00\\x00\\x00\\x00\\x00\\x00\\x00\\x00\\x00\\x00\\x00\\x00\\x00\\x00\\x00\\x00\\x00\\x00\\x00\\x00\\x00\\x00\\x00\\x00\\x00\\x00\\x00\\x00\\x00\\x00\\x00\\x00\\x00\\x00\\x00\\x00\\x00\\x00\\x00\\x00\\x00\\x00\\x00\\x00\\x00\\x00\\x00\\x00\\x00\\x00\\x00\\x00\\x00\\x00\\x00\\x00\\x00\\x00\\x00\\x00\\x00\\x00\\x00\\x00\\x00\\x00\\x00\\x00\\x00\\x00\\x00\\x00\\x00\\x00\\x00\\x00\\x00\\x00\\x00\\x00\\x00\\x00\\x00\\x00\\x00\\x00\\x00\\x00\\x00\\x00\\x00\\x00\\x00\\x00\\x00\\x00\\x00\\x00\\x00\\x00\\x00\\x00\\x00\\x00\\x00\\x00\\x00\\x00\\x00\\x00\\x00\\x00\\x00\\x00\\x00\\x00\\x00\\x00\\x00\\x00\\x00\\x00\\x00\\x00\\x00\\x00\\x00\\x00\\x00\\x00\\x00\\x00\\x00\\x00\\x00\\x00\\x00\\x00\\x00\\x00\\x00\\x00\\x00\\x00\\x00\\x00\\x00\\x00\\x00\\x00\\x00\\x00\\x00\\x00\\x00\\x00\\x00\\x00\\x00\\x00\\x00\\x00\\x00\\x00\\x00\\x00\\x00\\x00\\x00\\x00\\x00\\x00\\x00\\x00\\x00\\x00\\x00\\x00\\x00\\x00\\x00\\x00\\x00\\x00\\x00\\x00\\x00\\x00\\x00\\x00\\x00\\x00\\x00\\x00\\x00\\x00\\x00\\x00\\x00\\x00\\x00\\x00\\x00\\x00\\x00\\x00\\x00\\x00\\x00\\x00\\x00\\x00\\x00\\x00\\x00\\x00\\x00\\x00\\x00\\x00\\x00\\x00\\x00\\x00\\x00\\x00\\x00\\x00\\x00\\x00\\x00\\x00\\x00\\x00\\x00\\x00\\x00\\x00\\x00\\x00\\x00\\x00\\x00\\x00\\x00\\x00\\x00\\x00\\x00\\x00\\x00\\x00\\x00\\x00\\x00\\x00\\x00\\x00\\x00\\x00\\x00\\x00\\x00\\x00\\x00\\x00\\x00\\x00\\x00\\x00\\x00\\x00\\x00\\x00\\x00\\x00\\x00\\x00\\x00\\x00\\x00\\x00\\x00\\x00\\x00\\x00\\x00\\x00\\x00\\x00\\x00\\x00\\x00\\x00\\x00\\x00\\x00\\x00\\x00\\x00\\x00\\x00\\x00\\x00\\x00\\x00\\x00\\x00\\x00\\x00\\x00\\x00\\x00\\x00\\x00\\x00\\x00\\x00\\x00\\x00\\x00\\x00\\x00\\x00\\x00\\x00\\x00\\x00\\x00\\x00\\x00\\x00\\x00\\x00\\x00\\x00\\x00\\x00\\x00\\x00\\x00\\x00\\x00\\x00\\x00\\x00\\x00\\x00\\x00\\x00\\x00\\x00\\x00\\x00\\x00\\x00\\x00\\x00\\x00\\x00\\x00\\x00\\x00\\x00\\x00\\x00\\x00\\x00\\x00\\x00\\x00\\x00\\x00\\x00\\x00\\x00\\x00\\x00\\x00\\x00\\x00\\x00\\x00\\x00\\x00\\x00\\x00\\x00\\x00\\x00\\x00\\x00\\x00\\x00\\x00\\x00\\x00\\x00\\x00\\x00\\x00\\x00\\x00\\x00\\x00\\x00\\x00\\x00\\x00\\x00\\x00\\x00\\x00\\x00\\x00\\x00\\x00\\x00\\x00\\x00\\x00\\x00\\x00\\x00\\x00\\x00\\x00\\x00\\x00\\x00\\x00\\x00\\x00\\x00\\x00\\x00\\x00\\x00\\x00\\x00\\x00\\x00\\x00\\x00\\x00\\x00\\x00\\x00\\x00\\x00\\x00\\x00\\x00\\x00\\x00\\x00\\x00\\x00\\x00\\x00\\x00\\x00\\x00\\x00\\x00\\x00\\x00\\x00\\x00\\x00\\x00\\x00\\x00\\x00\\x00\\x00\\x00\\x00\\x00\\x00\\x00\\x00\\x00\\x00\\x00\\x00\\x00\\x00\\x00\\x00\\x00\\x00\\x00\\x00\\x00\\x00\\x00\\x00\\x00\\x00\\x00\\x00\\x00\\x00\\x00\\x00\\x00\\x00\\x00\\x00\\x00\\x00\\x00\\x00\\x00\\x00\\x00\\x00\\x00\\x00\\x00\\x00\\x00\\x00\\x00\\x00\\x00\\x00\\x00\\x00\\x00\\x00\\x00\\x00\\x00\\x00\\x00\\x00\\x00\\x00\\x00\\x00\\x00\\x00\\x00\\x00\\x00\\x00\\x00\\x00\\x00\\x00\\x00\\x00\\x00\\x00\\x00\\x00\\x00\\x00\\x00\\x00\\x00\\x00\\x00\\x00\\x00\\x00\\x00\\x00\\x00\\x00\\x00\\x00\\x00\\x00\\x00\\x00\\x00\\x00\\x00\\x00\\x00\\x00\\x00\\x00\\x00\\x00\\x00\\x00\\x00\\x00\\x00\\x00\\x00\\x00\\x00\\x00\\x00\\x00\\x00\\x00\\x00\\x00\\x00\\x00\\x00\\x00\\x00\\x00\\x00\\x00\\x00\\x00\\x00\\x00\\x00\\x00\\x00\\x00\\x00\\x00\\x00\\x00\\x00\\x00\\x00\\x00\\x00\\x00\\x00\\x00\\x00\\x00\\x00\\x00\\x00\\x00\\x00\\x00\\x00\\x00\\x00\\x00\\x00\\x00\\x00\\x00\\x00\\x00\\x00\\x00\\x00\\x00\\x00\\x00\\x00\\x00\\x00\\x00\\x00\\x00\\x00\\x00\\x00\\x00\\x00\\x00\\x00\\x00\\x00\\x00\\x00\\x00\\x00\\x00\\x00\\x00\\x00\\x00\\x00\\x00\\x00\\x00\\x00\\x00\\x00\\x00\\x00\\x00\\x00\\x00\\x00\\x00\\x00\\x00\\x00\\x00\\x00\\x00\\x00\\x00\\x00\\x00\\x00\\x00\\x00\\x00\\x00\\x00\\x00\\x00\\x00\\x00\\x00\\x00\\x00\\x00\\x00\\x00\\x00\\x00\\x00\\x00\\x00\\x00\\x00\\x00\\x00\\x00\\x00\\x00\\x00\\x00\\x00\\x00\\x00\\x00\\x00\\x00\\x00\\x00\\x00\\x00\\x00\\x00\\x00\\x00\\x00\\x00\\x00\\x00\\x00\\x00\\x00\\x00\\x00\\x00\\x00\\x00\\x00\\x00\\x00\\x00\\x00\\x00\\x00\\x00\\x00\\x00\\x00\\x00\\x00\\x00\\x00\\x00\\x00\\x00\\x00\\x00\\x00\\x00\\x00\\x00\\x00\\x00\\x00\\x00\\x00\\x00\\x00\\x00\\x00\\x00\\x00\\x00\\x00\\x00\\x00\\x00\\x00\\x00\\x00\\x00\\x00\\x00\\x00\\x00\\x00\\x00\\x00\\x00\\x00\\x00\\x00\\x00\\x00\\x00\\x00\\x00\\x00\\x00\\x00\\x00\\x00\\x00\\x00\\x00\\x00\\x00\\x00\\x00\\x00\\x00\\x00\\x00\\x00\\x00\\x00\\x00\\x00\\x00\\x00\\x00\\x00\\x00\\x00\\x00\\x00\\x00\\x00\\x00\\x00\\x00\\x00\\x00\\x00\\x00\\x00\\x00\\x00\\x00\\x00\\x00\\x00\\x00\\x00\\x00\\x00\\x00\\x00\\x00\\x00\\x00\\x00\\x00\\x00\\x00\\x00\\x00\\x00\\x00\\x00\\x00\\x00\\x00\\x00\\x00\\x00\\x00\\x00\\x00\\x00\\x00\\x00\\x00\\x00\\x00\\x00\\x00\\x00\\x00\\x00\\x00\\x00\\x00\\x00\\x00\\x00\\x00\\x00\\x00\\x00\\x00\\x00\\x00\\x00\\x00\\x00\\x00\\x00\\x00\\x00\\x00\\x00\\x00\\x00\\x00\\x00\\x00\\x00\\x00\\x00\\x00\\x00\\x00\\x00\\x00\\x00\\x00\\x00\\x00\\x00\\x00\\x00\\x00\\x00\\x00\\x00\\x00\\x00\\x00\\x00\\x00\\x00\\x00\\x00\\x00\\x00\\x00\\x00\\x00\\x00\\x00\\x00\\x00\\x00\\x00\\x00\\x00\\x00\\x00\\x00\\x00\\x00\\x00\\x00\\x00\\x00\\x00\\x00\\x00\\x00\\x00\\x00\\x00\\x00\\x00\\x00\\x00\\x00\\x00\\x00\\x00\\x00\\x00\\x00\\x00\\x00\\x00\\x00\\x00\\x00\\x00\\x00\\x00\\x00\\x00\\x00\\x00\\x00\\x00\\x00\\x00\\x00\\x00\\x00\\x00\\x00\\x00\\x00\\x00\\x00\\x00\\x00\\x00\\x00\\x00\\x00\\x00\\x00\\x00\\x00\\x00\\x00\\x00\\x00\\x00\\x00\\x00\\x00\\x00\\x00\\x00\\x00\\x00\\x00\\x00\\x00\\x00\\x00\\x00\\x00\\x00\\x00\\x00\\x00\\x00\\x00\\x00\\x00\\x00\\x00\\x00\\x00\\x00\\x00\\x00\\x00\\x00\\x00\\x00\\x00\\x00\\x00\\x00\\x00\\x00\\x00\\x00\\x00\\x00\\x00\\x00\\x00\\x00\\x00\\x00\\x00\\x00\\x00\\x00\\x00\\x00\\x00\\x00\\x00\\x00\\x00\\x00\\x00\\x00\\x00\\x00\\x00\\x00\\x00\\x00\\x00\\x00\\x00\\x00\\x00\\x00\\x00\\x00\\x00\\x00\\x00\\x00\\x00\\x00\\x00\\x00\\x00\\x00\\x00\\x00\\x00\\x00\\x00\\x00\\x00\\x00\\x00\\x00\\x00\\x00\\x00\\x00\\x00\\x00\\x00\\x00\\x00\\x00\\x00\\x00\\x00\\x00\\x00\\x00\\x00\\x00\\x00\\x00\\x00\\x00\\x00\\x00\\x00\\x00\\x00\\x00\\x00\\x00\\x00\\x00\\x00\\x00\\x00\\x00\\x00\\x00\\x00\\x00\\x00\\x00\\x00\\x00\\x00\\x00\\x00\\x00\\x00\\x00\\x00\\x00\\x00\\x00\\x00\\x00\\x00\\x00\\x00\\x00\\x00\\x00\\x00\\x00\\x00\\x00\\x00\\x00\\x00\\x00\\x00\\x00\\x00\\x00\\x00\\x00\\x00\\x00\\x00\\x00\\x00\\x00\\x00\\x00\\x00\\x00\\x00\\x00\\x00\\x00\\x00\\x00\\x00\\x00\\x00\\x00\\x00\\x00\\x00\\x00\\x00\\x00\\x00\\x00\\x00\\x00\\x00\\x00\\x00\\x00\\x00\\x00\\x00\\x00\\x00\\x00\\x00\\x00\\x00\\x00\\x00\\x00\\x00\\x00\\x00\\x00\\x00\\x00\\x00\\x00\\x00\\x00\\x00\\x00\\x00\\x00\\x00\\x00\\x00\\x00\\x00\\x00\\x00\\x00\\x00\\x00\\x00\\x00\\x00\\x00\\x00\\x00\\x00\\x00\\x00\\x00\\x00\\x00\\x00\\x00\\x00\\x00\\x00\\x00\\x00\\x00\\x00\\x00\\x00\\x00\\x00\\x00\\x00\\x00\\x00\\x00\\x00\\x00\\x00\\x00\\x00\\x00\\x00\\x00\\x00\\x00\\x00\\x00\\x00\\x00\\x00\\x00\\x00\\x00\\x00\\x00\\x00\\x00\\x00\\x00\\x00\\x00\\x00\\x00\\x00\\x00\\x00\\x00\\x00\\x00\\x00\\x00\\x00\\x00\\x00\\x00\\x00\\x00\\x00\\x00\\x00\\x00\\x00\\x00\\x00\\x00\\x00\\x00\\x00\\x00\\x00\\x00\\x00\\x00\\x00\\x00\\x00\\x00\\x00\\x00\\x00\\x00\\x00\\x00\\x00\\x00\\x00\\x00\\x00\\x00\\x00\\x00\\x00\\x00\\x00\\x00\\x00\\x00\\x00\\x00\\x00\\x00\\x00\\x00\\x00\\x00\\x00\\x00\\x00\\x00\\x00\\x00\\x00\\x00\\x00\\x00\\x00\\x00\\x00\\x00\\x00\\x00\\x00\\x00\\x00\\x00\\x00\\x00\\x00\\x00\\x00\\x00\\x00\\x00\\x00\\x00\\x00\\x00\\x00\\x00\\x00\\x00\\x00\\x00\\x00\\x00\\x00\\x00\\x00\\x00\\x00\\x00\\x00\\x00\\x00\\x00\\x00\\x00\\x00\\x00\\x00\\x00\\x00\\x00\\x00\\x00\\x00\\x00\\x00\\x00\\x00\\x00\\x00\\x00\\x00\\x00\\x00\\x00\\x00\\x00\\x00\\x00\\x00\\x00\\x00\\x00\\x00\\x00\\x00\\x00\\x00\\x00\\x00\\x00\\x00\\x00\\x00\\x00\\x00\\x00\\x00\\x00\\x00\\x00\\x00\\x00\\x00\\x00\\x00\\x00\\x00\\x00\\x00\\x00\\x00\\x00\\x00\\x00\\x00\\x00\\x00\\x00\\x00\\x00\\x00\\x00\\x00\\x00\\x00\\x00\\x00\\x00\\x00\\x00\\x00\\x00\\x00\\x00\\x00\\x00\\x00\\x00\\x00\\x00\\x00\\x00\\x00\\x00\\x00\\x00\\x00\\x00\\x00\\x00\\x00\\x00\\x00\\x00\\x00\\x00\\x00\\x00\\x00\\x00\\x00\\x00\\x00\\x00\\x00\\x00\\x00\\x00\\x00\\x00\\x00\\x00\\x00\\x00\\x00\\x00\\x00\\x00\\x00\\x00\\x00\\x00\\x00\\x00\\x00\\x00\\x00\\x00\\x00\\x00\\x00\\x00\\x00\\x00\\x00\\x00\\x00\\x00\\x00\\x00\\x00\\x00\\x00\\x00\\x00\\x00\\x00\\x00\\x00\\x00\\x00\\x00\\x00\\x00\\x00\\x00\\x00\\x00\\x00\\x00\\x00\\x00\\x00\\x00\\x00\\x00\\x00\\x00\\x00\\x00\\x00\\x00\\x00\\x00\\x00\\x00\\x00\\x00\\x00\\x00\\x00\\x00\\x00\\x00\\x00\\x00\\x00\\x00\\x00\\x00\\x00\\x00\\x00\\x00\\x00\\x00\\x00\\x00\\x00\\x00\\x00\\x00\\x00\\x00\\x00\\x00\\x00\\x00\\x00\\x00\\x00\\x00\\x00\\x00\\x00\\x00\\x00\\x00\\x00\\x00\\x00\\x00\\x00\\x00\\x00\\x00\\x00\\x00\\x00\\x00\\x00\\x00\\x00\\x00\\x00\\x00\\x00\\x00\\x00\\x00\\x00\\x00\\x00\\x00\\x00\\x00\\x00\\x00\\x00\\x00\\x00\\x00\\x00\\x00\\x00\\x00\\x00\\x00\\x00\\x00\\x00\\x00\\x00\\x00\\x00\\x00\\x00\\x00\\x00\\x00\\x00\\x00\\x00\\x00\\x00\\x00\\x00\\x00\\x00\\x00\\x00\\x00\\x00\\x00\\x00\\x00\\x00\\x00\\x00\\x00\\x00\\x00\\x00\\x00\\x00\\x00\\x00\\x00\\x00\\x00\\x00\\x00\\x00\\x00\\x00\\x00\\x00\\x00\\x00\\x00\\x00\\x00\\x00\\x00\\x00\\x00\\x00\\x00\\x00\\x00\\x00\\x00\\x00\\x00\\x00\\x00\\x00\\x00\\x00\\x00\\x00\\x00\\x00\\x00\\x00\\x00\\x00\\x00\\x00\\x00\\x00\\x00\\x00\\x00\\x00\\x00\\x00\\x00\\x00\\x00\\x00\\x00\\x00\\x00\\x00\\x00\\x00\\x00\\x00\\x00\\x00\\x00\\x00\\x00\\x00\\x00\\x00\\x00\\x00\\x00\\x00\\x00\\x00\\x00\\x00\\x00\\x00\\x00\\x00\\x00\\x00\\x00\\x00\\x00\\x00\\x00\\x00\\x00\\x00\\x00\\x00\\x00\\x00\\x00\\x00\\x00\\x00\\x00\\x00\\x00\\x00\\x00\\x00\\x00\\x00\\x00\\x00\\x00\\x00\\x00\\x00\\x00\\x00\\x00\\x00\\x00\\x00\\x00\\x00\\x00\\x00\\x00\\x00\\x00\\x00\\x00\\x00\\x00\\x00\\x00\\x00\\x00\\x00\\x00\\x00\\x00\\x00\\x00\\x00\\x00\\x00\\x00\\x00\\x00\\x00\\x00\\x00\\x00\\x00\\x00\\x00\\x00\\x00\\x00\\x00\\x00\\x00\\x00\\x00\\x00\\x00\\x00\\x00\\x00\\x00\\x00\\x00\\x00\\x00\\x00\\x00\\x00\\x00\\x00\\x00\\x00\\x00\\x00\\x00\\x00\\x00\\x00\\x00\\x00\\x00\\x00\\x00\\x00\\x00\\x00\\x00\\x00\\x00\\x00\\x00\\x00\\x00\\x00\\x00\\x00\\x00\\x00\\x00\\x00\\x00\\x00\\x00\\x00\\x00\\x00\\x00\\x00\\x00\\x00\\x00\\x00\\x00\\x00\\x00\\x00\\x00\\x00\\x00\\x00\\x00\\x00\\x00\\x00\\x00\\x00\\x00\\x00\\x00\\x00\\x00\\x00\\x00\\x00\\x00\\x00\\x00\\x00\\x00\\x00\\x00\\x00\\x00\\x00\\x00\\x00\\x00\\x00\\x00\\x00\\x00\\x00\\x00\\x00\\x00\\x00\\x00\\x00\\x00\\x00\\x00\\x00\\x00\\x00\\x00\\x00\\x00\\x00\\x00\\x00\\x00\\x00\\x00\\x00\\x00\\x00\\x00\\x00\\x00\\x00\\x00\\x00\\x00\\x00\\x00\\x00\\x00\\x00\\x00\\x00\\x00\\x00\\x00\\x00\\x00\\x00\\x00\\x00\\x00\\x00\\x00\\x00\\x00\\x00\\x00\\x00\\x00\\x00\\x00\\x00\\x00\\x00\\x00\\x00\\x00\\x00\\x00\\x00\\x00\\x00\\x00\\x00\\x00\\x00\\x00\\x00\\x00\\x00\\x00\\x00\\x00\\x00\\x00\\x00\\x00\\x00\\x00\\x00\\x00\\x00\\x00\\x00\\x00\\x00\\x00\\x00\\x00\\x00\\x00\\x00\\x00\\x00\\x00\\x00\\x00\\x00\\x00\\x00\\x00\\x00\\x00\\x00\\x00\\x00\\x00\\x00\\x00\\x00\\x00\\x00\\x00\\x00\\x00\\x00\\x00\\x00\\x00\\x00\\x00\\x00\\x00\\x00\\x00\\x00\\x00\\x00\\x00\\x00\\x00\\x00\\x00\\x00\\x00\\x00\\x00\\x00\\x00\\x00\\x00\\x00\\x00\\x00\\x00\\x00\\x00\\x00\\x00\\x00\\x00\\x00\\x00\\x00\\x00\\x00\\x00\\x00\\x00\\x00\\x00\\x00\\x00\\x00\\x00\\x00\\x00\\x00\\x00\\x00\\x00\\x00\\x00\\x00\\x00\\x00\\x00\\x00\\x00\\x00\\x00\\x00\\x00\\x00\\x00\\x00\\x00\\x00\\x00\\x00\\x00\\x00\\x00\\x00\\x00\\x00\\x00\\x00\\x00\\x00\\x00\\x00\\x00\\x00\\x00\\x00\\x00\\x00\\x00\\x00\\x00\\x00\\x00\\x00\\x00\\x00\\x00\\x00\\x00\\x00\\x00\\x00\\x00\\x00\\x00\\x00\\x00\\x00\\x00\\x00\\x00\\x00\\x00\\x00\\x00\\x00\\x00\\x00\\x00\\x00\\x00\\x00\\x00\\x00\\x00\\x00\\x00\\x00\\x00\\x00\\x00\\x00\\x00\\x00\\x00\\x00\\x00\\x00\\x00\\x00\\x00\\x00\\x00\\x00\\x00\\x00\\x00\\x00\\x00\\x00\\x00\\x00\\x00\\x00\\x00\\x00\\x00\\x00\\x00\\x00\\x00\\x00\\x00\\x00\\x00\\x00\\x00\\x00\\x00\\x00\\x00\\x00\\x00\\x00\\x00\\x00\\x00\\x00\\x00\\x00\\x00\\x00\\x00\\x00\\x00\\x00\\x00\\x00\\x00\\x00\\x00\\x00\\x00\\x00\\x00\\x00\\x00\\x00\\x00\\x00\\x00\\x00\\x00\\x00\\x00\\x00\\x00\\x00\\x00\\x00\\x00\\x00\\x00\\x00\\x00\\x00\\x00\\x00\\x00\\x00\\x00\\x00\\x00\\x00\\x00\\x00\\x00\\x00\\x00\\x00\\x00\\x00\\x00\\x00\\x00\\x00\\x00\\x00\\x00\\x00\\x00\\x00\\x00\\x00\\x00\\x00\\x00\\x00\\x00\\x00\\x00\\x00\\x00\\x00\\x00\\x00\\x00\\x00\\x00\\x00\\x00\\x00\\x00\\x00\\x00\\x00\\x00\\x00\\x00\\x00\\x00\\x00\\x00\\x00\\x00\\x00\\x00\\x00\\x00\\x00\\x00\\x00\\x00\\x00\\x00\\x00\\x00\\x00\\x00\\x00\\x00\\x00\\x00\\x00\\x00\\x00\\x00\\x00\\x00\\x00\\x00\\x00\\x00\\x00\\x00\\x00\\x00\\x00\\x00\\x00\\x00\\x00\\x00\\x00\\x00\\x00\\x00\\x00\\x00\\x00\\x00\\x00\\x00\\x00\\x00\\x00\\x00\\x00\\x00\\x00\\x00\\x00\\x00\\x00\\x00\\x00\\x00\\x00\\x00\\x00\\x00\\x00\\x00\\x00\\x00\\x00\\x00\\x00\\x00\\x00\\x00\\x00\\x00\\x00\\x00\\x00\\x00\\x00\\x00\\x00\\x00\\x00\\x00\\x00\\x00\\x00\\x00\\x00\\x00\\x00\\x00\\x00\\x00\\x00\\x00\\x00\\x00\\x00\\x00\\x00\\x00\\x00\\x00\\x00\\x00\\x00\\x00\\x00\\x00\\x00\\x00\\x00\\x00\\x00\\x00\\x00\\x00\\x00\\x00\\x00\\x00\\x00\\x00\\x00\\x00\\x00\\x00\\x00\\x00\\x00\\x00\\x00\\x00\\x00\\x00\\x00\\x00\\x00\\x00\\x00\\x00\\x00\\x00\\x00\\x00\\x00\\x00\\x00\\x00\\x00\\x00\\x00\\x00\\x00\\x00\\x00\\x00\\x00\\x00\\x00\\x00\\x00\\x00\\x00\\x00\\x00\\x00\\x00\\x00\\x00\\x00\\x00\\x00\\x00\\x00\\x00\\x00\\x00\\x00\\x00\\x00\\x00\\x00\\x00\\x00\\x00\\x00\\x00\\x00\\x00\\x00\\x00\\x00\\x00\\x00\\x00\\x00\\x00\\x00\\x00\\x00\\x00\\x00\\x00\\x00\\x00\\x00\\x00\\x00\\x00\\x00\\x00\\x00\\x00\\x00\\x00\\x00\\x00\\x00\\x00\\x00\\x00\\x00\\x00\\x00\\x00\\x00\\x00\\x00\\x00\\x00\\x00\\x00\\x00\\x00\\x00\\x00\\x00\\x00\\x00\\x00\\x00\\x00\\x00\\x00\\x00\\x00\\x00\\x00\\x00\\x00\\x00\\x00\\x00\\x00\\x00\\x00\\x00\\x00\\x00\\x00\\x00\\x00\\x00\\x01\\x00\\x00\\x00\\x02\\x00\\x00\\x00\\x03\\x00\\x00\\x00\\x04\\x00\\x00\\x00\\x05\\x00\\x00\\x00\\x06\\x00\\x00\\x00\\x07\\x00\\x00\\x00\\x08\\x00\\x00\\x00\\t\\x00\\x00\\x00\\n\\x00\\x00\\x00\\x0b\\x00\\x00\\x00\\x0c\\x00\\x00\\x00\\r\\x00\\x00\\x00\\x0e\\x00\\x00\\x00\\x0f\\x00\\x00\\x00\\x10\\x00\\x00\\x00\\x11\\x00\\x00\\x00\\x12\\x00\\x00\\x00\\x13\\x00\\x00\\x00\\x14\\x00\\x00\\x00\\x15\\x00\\x00\\x00\\x16\\x00\\x00\\x00\\x17\\x00\\x00\\x00\\x18\\x00\\x00\\x00\\x19\\x00\\x00\\x00\\x1a\\x00\\x00\\x00\\x1b\\x00\\x00\\x00\\x1c\\x00\\x00\\x00\\x1d\\x00\\x00\\x00\\x1e\\x00\\x00\\x00\\x1f\\x00\\x00\\x00 \\x00\\x00\\x00!\\x00\\x00\\x00\"\\x00\\x00\\x00#\\x00\\x00\\x00$\\x00\\x00\\x00%\\x00\\x00\\x00&\\x00\\x00\\x00\\'\\x00\\x00\\x00(\\x00\\x00\\x00)\\x00\\x00\\x00*\\x00\\x00\\x00+\\x00\\x00\\x00,\\x00\\x00\\x00-\\x00\\x00\\x00.\\x00\\x00\\x00/\\x00\\x00\\x000\\x00\\x00\\x001\\x00\\x00\\x002\\x00\\x00\\x00\\xfe\\xff\\xff\\xff4\\x00\\x00\\x005\\x00\\x00\\x006\\x00\\x00\\x007\\x00\\x00\\x008\\x00\\x00\\x009\\x00\\x00\\x00:\\x00\\x00\\x00\\xfe\\xff\\xff\\xff<\\x00\\x00\\x00=\\x00\\x00\\x00>\\x00\\x00\\x00?\\x00\\x00\\x00@\\x00\\x00\\x00A\\x00\\x00\\x00B\\x00\\x00\\x00\\xfe\\xff\\xff\\xff\\xfd\\xff\\xff\\xff\\xfe\\xff\\xff\\xff\\xff\\xff\\xff\\xff\\xff\\xff\\xff\\xff\\xff\\xff\\xff\\xff\\xff\\xff\\xff\\xff\\xff\\xff\\xff\\xff\\xff\\xff\\xff\\xff\\xff\\xff\\xff\\xff\\xff\\xff\\xff\\xff\\xff\\xff\\xff\\xff\\xff\\xff\\xff\\xff\\xff\\xff\\xff\\xff\\xff\\xff\\xff\\xff\\xff\\xff\\xff\\xff\\xff\\xff\\xff\\xff\\xff\\xff\\xff\\xff\\xff\\xff\\xff\\xff\\xff\\xff\\xff\\xff\\xff\\xff\\xff\\xff\\xff\\xff\\xff\\xff\\xff\\xff\\xff\\xff\\xff\\xff\\xff\\xff\\xff\\xff\\xff\\xff\\xff\\xff\\xff\\xff\\xff\\xff\\xff\\xff\\xff\\xff\\xff\\xff\\xff\\xff\\xff\\xff\\xff\\xff\\xff\\xff\\xff\\xff\\xff\\xff\\xff\\xff\\xff\\xff\\xff\\xff\\xff\\xff\\xff\\xff\\xff\\xff\\xff\\xff\\xff\\xff\\xff\\xff\\xff\\xff\\xff\\xff\\xff\\xff\\xff\\xff\\xff\\xff\\xff\\xff\\xff\\xff\\xff\\xff\\xff\\xff\\xff\\xff\\xff\\xff\\xff\\xff\\xff\\xff\\xff\\xff\\xff\\xff\\xff\\xff\\xff\\xff\\xff\\xff\\xff\\xff\\xff\\xff\\xff\\xff\\xff\\xff\\xff\\xff\\xff\\xff\\xff\\xff\\xff\\xff\\xff\\xff\\xff\\xff\\xff\\xff\\xff\\xff\\xff\\xff\\xff\\xff\\xff\\xff\\xff\\xff\\xff\\xff\\xff\\xff\\xff\\xff\\xff\\xff\\xff\\xff\\xff\\xff\\xff\\xff\\xff\\xff\\xff\\xff\\xff\\xff\\xff\\xff\\xff\\xff\\xff\\xff\\xff\\xff\\xff\\xff\\xff\\xff\\xff\\xff\\xff\\xff\\xff\\xffR\\x00o\\x00o\\x00t\\x00 \\x00E\\x00n\\x00t\\x00r\\x00y\\x00\\x00\\x00\\x00\\x00\\x00\\x00\\x00\\x00\\x00\\x00\\x00\\x00\\x00\\x00\\x00\\x00\\x00\\x00\\x00\\x00\\x00\\x00\\x00\\x00\\x00\\x00\\x00\\x00\\x00\\x00\\x00\\x00\\x00\\x00\\x00\\x00\\x00\\x00\\x00\\x00\\x00\\x00\\x00\\x00\\x16\\x00\\x05\\x01\\xff\\xff\\xff\\xff\\xff\\xff\\xff\\xff\\x02\\x00\\x00\\x00 \\x08\\x02\\x00\\x00\\x00\\x00\\x00\\xc0\\x00\\x00\\x00\\x00\\x00\\x00F\\x00\\x00\\x00\\x00\\x00\\x00\\x00\\x00\\x00\\x00\\x00\\x00\\x00\\x00\\x00\\x00\\x00\\x00\\x00\\x00\\xfe\\xff\\xff\\xff\\x00\\x00\\x00\\x00\\x00\\x00\\x00\\x00W\\x00o\\x00r\\x00k\\x00b\\x00o\\x00o\\x00k\\x00\\x00\\x00\\x00\\x00\\x00\\x00\\x00\\x00\\x00\\x00\\x00\\x00\\x00\\x00\\x00\\x00\\x00\\x00\\x00\\x00\\x00\\x00\\x00\\x00\\x00\\x00\\x00\\x00\\x00\\x00\\x00\\x00\\x00\\x00\\x00\\x00\\x00\\x00\\x00\\x00\\x00\\x00\\x00\\x00\\x00\\x00\\x00\\x00\\x12\\x00\\x02\\x01\\xff\\xff\\xff\\xff\\xff\\xff\\xff\\xff\\xff\\xff\\xff\\xff\\x00\\x00\\x00\\x00\\x00\\x00\\x00\\x00\\x00\\x00\\x00\\x00\\x00\\x00\\x00\\x00\\x00\\x00\\x00\\x00\\x00\\x00\\x00\\x00\\x00\\x00\\x00\\x00\\x00\\x00\\x00\\x00\\x00\\x00\\x00\\x00\\x00\\x00\\x00\\x00\\xcbe\\x00\\x00\\x00\\x00\\x00\\x00\\x05\\x00S\\x00u\\x00m\\x00m\\x00a\\x00r\\x00y\\x00I\\x00n\\x00f\\x00o\\x00r\\x00m\\x00a\\x00t\\x00i\\x00o\\x00n\\x00\\x00\\x00\\x00\\x00\\x00\\x00\\x00\\x00\\x00\\x00\\x00\\x00\\x00\\x00\\x00\\x00\\x00\\x00\\x00\\x00\\x00\\x00\\x00\\x00\\x00\\x00(\\x00\\x02\\x01\\x01\\x00\\x00\\x00\\x03\\x00\\x00\\x00\\xff\\xff\\xff\\xff\\x00\\x00\\x00\\x00\\x00\\x00\\x00\\x00\\x00\\x00\\x00\\x00\\x00\\x00\\x00\\x00\\x00\\x00\\x00\\x00\\x00\\x00\\x00\\x00\\x00\\x00\\x00\\x00\\x00\\x00\\x00\\x00\\x00\\x00\\x00\\x003\\x00\\x00\\x00\\x00\\x10\\x00\\x00\\x00\\x00\\x00\\x00\\x05\\x00D\\x00o\\x00c\\x00u\\x00m\\x00e\\x00n\\x00t\\x00S\\x00u\\x00m\\x00m\\x00a\\x00r\\x00y\\x00I\\x00n\\x00f\\x00o\\x00r\\x00m\\x00a\\x00t\\x00i\\x00o\\x00n\\x00\\x00\\x00\\x00\\x00\\x00\\x00\\x00\\x00\\x00\\x008\\x00\\x02\\x01\\xff\\xff\\xff\\xff\\xff\\xff\\xff\\xff\\xff\\xff\\xff\\xff\\x00\\x00\\x00\\x00\\x00\\x00\\x00\\x00\\x00\\x00\\x00\\x00\\x00\\x00\\x00\\x00\\x00\\x00\\x00\\x00\\x00\\x00\\x00\\x00\\x00\\x00\\x00\\x00\\x00\\x00\\x00\\x00\\x00\\x00\\x00\\x00;\\x00\\x00\\x00\\x00\\x10\\x00\\x00\\x00\\x00\\x00\\x00'}"
            ]
          },
          "metadata": {},
          "execution_count": 2
        }
      ]
    },
    {
      "cell_type": "code",
      "source": [
        "data=pd.read_excel('iris (4).xls')"
      ],
      "metadata": {
        "id": "fd6yFcpUdWgV"
      },
      "execution_count": 3,
      "outputs": []
    },
    {
      "cell_type": "code",
      "source": [
        "data.shape"
      ],
      "metadata": {
        "colab": {
          "base_uri": "https://localhost:8080/"
        },
        "id": "kZkjnkaHiAMy",
        "outputId": "5764f239-d3db-493d-ea31-765e1f894863"
      },
      "execution_count": 4,
      "outputs": [
        {
          "output_type": "execute_result",
          "data": {
            "text/plain": [
              "(150, 5)"
            ]
          },
          "metadata": {},
          "execution_count": 4
        }
      ]
    },
    {
      "cell_type": "code",
      "source": [
        "data.head()"
      ],
      "metadata": {
        "colab": {
          "base_uri": "https://localhost:8080/",
          "height": 206
        },
        "id": "DHqhgfBrdwax",
        "outputId": "e116138c-3878-4549-98e4-f030b5c64bfb"
      },
      "execution_count": 5,
      "outputs": [
        {
          "output_type": "execute_result",
          "data": {
            "text/plain": [
              "    SL   SW   PL   PW Classification\n",
              "0  5.1  3.5  1.4  0.2    Iris-setosa\n",
              "1  4.9  3.0  1.4  0.2    Iris-setosa\n",
              "2  NaN  3.2  1.3  0.2    Iris-setosa\n",
              "3  4.6  3.1  1.5  0.2    Iris-setosa\n",
              "4  5.0  3.6  1.4  0.2    Iris-setosa"
            ],
            "text/html": [
              "\n",
              "  <div id=\"df-af94e06d-0dbb-4032-916c-904ff3d28e56\">\n",
              "    <div class=\"colab-df-container\">\n",
              "      <div>\n",
              "<style scoped>\n",
              "    .dataframe tbody tr th:only-of-type {\n",
              "        vertical-align: middle;\n",
              "    }\n",
              "\n",
              "    .dataframe tbody tr th {\n",
              "        vertical-align: top;\n",
              "    }\n",
              "\n",
              "    .dataframe thead th {\n",
              "        text-align: right;\n",
              "    }\n",
              "</style>\n",
              "<table border=\"1\" class=\"dataframe\">\n",
              "  <thead>\n",
              "    <tr style=\"text-align: right;\">\n",
              "      <th></th>\n",
              "      <th>SL</th>\n",
              "      <th>SW</th>\n",
              "      <th>PL</th>\n",
              "      <th>PW</th>\n",
              "      <th>Classification</th>\n",
              "    </tr>\n",
              "  </thead>\n",
              "  <tbody>\n",
              "    <tr>\n",
              "      <th>0</th>\n",
              "      <td>5.1</td>\n",
              "      <td>3.5</td>\n",
              "      <td>1.4</td>\n",
              "      <td>0.2</td>\n",
              "      <td>Iris-setosa</td>\n",
              "    </tr>\n",
              "    <tr>\n",
              "      <th>1</th>\n",
              "      <td>4.9</td>\n",
              "      <td>3.0</td>\n",
              "      <td>1.4</td>\n",
              "      <td>0.2</td>\n",
              "      <td>Iris-setosa</td>\n",
              "    </tr>\n",
              "    <tr>\n",
              "      <th>2</th>\n",
              "      <td>NaN</td>\n",
              "      <td>3.2</td>\n",
              "      <td>1.3</td>\n",
              "      <td>0.2</td>\n",
              "      <td>Iris-setosa</td>\n",
              "    </tr>\n",
              "    <tr>\n",
              "      <th>3</th>\n",
              "      <td>4.6</td>\n",
              "      <td>3.1</td>\n",
              "      <td>1.5</td>\n",
              "      <td>0.2</td>\n",
              "      <td>Iris-setosa</td>\n",
              "    </tr>\n",
              "    <tr>\n",
              "      <th>4</th>\n",
              "      <td>5.0</td>\n",
              "      <td>3.6</td>\n",
              "      <td>1.4</td>\n",
              "      <td>0.2</td>\n",
              "      <td>Iris-setosa</td>\n",
              "    </tr>\n",
              "  </tbody>\n",
              "</table>\n",
              "</div>\n",
              "      <button class=\"colab-df-convert\" onclick=\"convertToInteractive('df-af94e06d-0dbb-4032-916c-904ff3d28e56')\"\n",
              "              title=\"Convert this dataframe to an interactive table.\"\n",
              "              style=\"display:none;\">\n",
              "        \n",
              "  <svg xmlns=\"http://www.w3.org/2000/svg\" height=\"24px\"viewBox=\"0 0 24 24\"\n",
              "       width=\"24px\">\n",
              "    <path d=\"M0 0h24v24H0V0z\" fill=\"none\"/>\n",
              "    <path d=\"M18.56 5.44l.94 2.06.94-2.06 2.06-.94-2.06-.94-.94-2.06-.94 2.06-2.06.94zm-11 1L8.5 8.5l.94-2.06 2.06-.94-2.06-.94L8.5 2.5l-.94 2.06-2.06.94zm10 10l.94 2.06.94-2.06 2.06-.94-2.06-.94-.94-2.06-.94 2.06-2.06.94z\"/><path d=\"M17.41 7.96l-1.37-1.37c-.4-.4-.92-.59-1.43-.59-.52 0-1.04.2-1.43.59L10.3 9.45l-7.72 7.72c-.78.78-.78 2.05 0 2.83L4 21.41c.39.39.9.59 1.41.59.51 0 1.02-.2 1.41-.59l7.78-7.78 2.81-2.81c.8-.78.8-2.07 0-2.86zM5.41 20L4 18.59l7.72-7.72 1.47 1.35L5.41 20z\"/>\n",
              "  </svg>\n",
              "      </button>\n",
              "      \n",
              "  <style>\n",
              "    .colab-df-container {\n",
              "      display:flex;\n",
              "      flex-wrap:wrap;\n",
              "      gap: 12px;\n",
              "    }\n",
              "\n",
              "    .colab-df-convert {\n",
              "      background-color: #E8F0FE;\n",
              "      border: none;\n",
              "      border-radius: 50%;\n",
              "      cursor: pointer;\n",
              "      display: none;\n",
              "      fill: #1967D2;\n",
              "      height: 32px;\n",
              "      padding: 0 0 0 0;\n",
              "      width: 32px;\n",
              "    }\n",
              "\n",
              "    .colab-df-convert:hover {\n",
              "      background-color: #E2EBFA;\n",
              "      box-shadow: 0px 1px 2px rgba(60, 64, 67, 0.3), 0px 1px 3px 1px rgba(60, 64, 67, 0.15);\n",
              "      fill: #174EA6;\n",
              "    }\n",
              "\n",
              "    [theme=dark] .colab-df-convert {\n",
              "      background-color: #3B4455;\n",
              "      fill: #D2E3FC;\n",
              "    }\n",
              "\n",
              "    [theme=dark] .colab-df-convert:hover {\n",
              "      background-color: #434B5C;\n",
              "      box-shadow: 0px 1px 3px 1px rgba(0, 0, 0, 0.15);\n",
              "      filter: drop-shadow(0px 1px 2px rgba(0, 0, 0, 0.3));\n",
              "      fill: #FFFFFF;\n",
              "    }\n",
              "  </style>\n",
              "\n",
              "      <script>\n",
              "        const buttonEl =\n",
              "          document.querySelector('#df-af94e06d-0dbb-4032-916c-904ff3d28e56 button.colab-df-convert');\n",
              "        buttonEl.style.display =\n",
              "          google.colab.kernel.accessAllowed ? 'block' : 'none';\n",
              "\n",
              "        async function convertToInteractive(key) {\n",
              "          const element = document.querySelector('#df-af94e06d-0dbb-4032-916c-904ff3d28e56');\n",
              "          const dataTable =\n",
              "            await google.colab.kernel.invokeFunction('convertToInteractive',\n",
              "                                                     [key], {});\n",
              "          if (!dataTable) return;\n",
              "\n",
              "          const docLinkHtml = 'Like what you see? Visit the ' +\n",
              "            '<a target=\"_blank\" href=https://colab.research.google.com/notebooks/data_table.ipynb>data table notebook</a>'\n",
              "            + ' to learn more about interactive tables.';\n",
              "          element.innerHTML = '';\n",
              "          dataTable['output_type'] = 'display_data';\n",
              "          await google.colab.output.renderOutput(dataTable, element);\n",
              "          const docLink = document.createElement('div');\n",
              "          docLink.innerHTML = docLinkHtml;\n",
              "          element.appendChild(docLink);\n",
              "        }\n",
              "      </script>\n",
              "    </div>\n",
              "  </div>\n",
              "  "
            ]
          },
          "metadata": {},
          "execution_count": 5
        }
      ]
    },
    {
      "cell_type": "code",
      "source": [
        "data.describe()"
      ],
      "metadata": {
        "colab": {
          "base_uri": "https://localhost:8080/",
          "height": 300
        },
        "id": "v7PnUDkbd8pX",
        "outputId": "4dd766d4-76c6-42fd-c3ba-8e7953b29089"
      },
      "execution_count": 6,
      "outputs": [
        {
          "output_type": "execute_result",
          "data": {
            "text/plain": [
              "               SL          SW          PL          PW\n",
              "count  143.000000  144.000000  144.000000  150.000000\n",
              "mean     5.855944    3.049306    3.756250    1.198667\n",
              "std      0.828168    0.430644    1.761306    0.763161\n",
              "min      4.300000    2.000000    1.000000    0.100000\n",
              "25%      5.100000    2.800000    1.600000    0.300000\n",
              "50%      5.800000    3.000000    4.350000    1.300000\n",
              "75%      6.400000    3.300000    5.100000    1.800000\n",
              "max      7.900000    4.400000    6.900000    2.500000"
            ],
            "text/html": [
              "\n",
              "  <div id=\"df-5b10eb5d-318f-44d8-b1be-257fc4180ca5\">\n",
              "    <div class=\"colab-df-container\">\n",
              "      <div>\n",
              "<style scoped>\n",
              "    .dataframe tbody tr th:only-of-type {\n",
              "        vertical-align: middle;\n",
              "    }\n",
              "\n",
              "    .dataframe tbody tr th {\n",
              "        vertical-align: top;\n",
              "    }\n",
              "\n",
              "    .dataframe thead th {\n",
              "        text-align: right;\n",
              "    }\n",
              "</style>\n",
              "<table border=\"1\" class=\"dataframe\">\n",
              "  <thead>\n",
              "    <tr style=\"text-align: right;\">\n",
              "      <th></th>\n",
              "      <th>SL</th>\n",
              "      <th>SW</th>\n",
              "      <th>PL</th>\n",
              "      <th>PW</th>\n",
              "    </tr>\n",
              "  </thead>\n",
              "  <tbody>\n",
              "    <tr>\n",
              "      <th>count</th>\n",
              "      <td>143.000000</td>\n",
              "      <td>144.000000</td>\n",
              "      <td>144.000000</td>\n",
              "      <td>150.000000</td>\n",
              "    </tr>\n",
              "    <tr>\n",
              "      <th>mean</th>\n",
              "      <td>5.855944</td>\n",
              "      <td>3.049306</td>\n",
              "      <td>3.756250</td>\n",
              "      <td>1.198667</td>\n",
              "    </tr>\n",
              "    <tr>\n",
              "      <th>std</th>\n",
              "      <td>0.828168</td>\n",
              "      <td>0.430644</td>\n",
              "      <td>1.761306</td>\n",
              "      <td>0.763161</td>\n",
              "    </tr>\n",
              "    <tr>\n",
              "      <th>min</th>\n",
              "      <td>4.300000</td>\n",
              "      <td>2.000000</td>\n",
              "      <td>1.000000</td>\n",
              "      <td>0.100000</td>\n",
              "    </tr>\n",
              "    <tr>\n",
              "      <th>25%</th>\n",
              "      <td>5.100000</td>\n",
              "      <td>2.800000</td>\n",
              "      <td>1.600000</td>\n",
              "      <td>0.300000</td>\n",
              "    </tr>\n",
              "    <tr>\n",
              "      <th>50%</th>\n",
              "      <td>5.800000</td>\n",
              "      <td>3.000000</td>\n",
              "      <td>4.350000</td>\n",
              "      <td>1.300000</td>\n",
              "    </tr>\n",
              "    <tr>\n",
              "      <th>75%</th>\n",
              "      <td>6.400000</td>\n",
              "      <td>3.300000</td>\n",
              "      <td>5.100000</td>\n",
              "      <td>1.800000</td>\n",
              "    </tr>\n",
              "    <tr>\n",
              "      <th>max</th>\n",
              "      <td>7.900000</td>\n",
              "      <td>4.400000</td>\n",
              "      <td>6.900000</td>\n",
              "      <td>2.500000</td>\n",
              "    </tr>\n",
              "  </tbody>\n",
              "</table>\n",
              "</div>\n",
              "      <button class=\"colab-df-convert\" onclick=\"convertToInteractive('df-5b10eb5d-318f-44d8-b1be-257fc4180ca5')\"\n",
              "              title=\"Convert this dataframe to an interactive table.\"\n",
              "              style=\"display:none;\">\n",
              "        \n",
              "  <svg xmlns=\"http://www.w3.org/2000/svg\" height=\"24px\"viewBox=\"0 0 24 24\"\n",
              "       width=\"24px\">\n",
              "    <path d=\"M0 0h24v24H0V0z\" fill=\"none\"/>\n",
              "    <path d=\"M18.56 5.44l.94 2.06.94-2.06 2.06-.94-2.06-.94-.94-2.06-.94 2.06-2.06.94zm-11 1L8.5 8.5l.94-2.06 2.06-.94-2.06-.94L8.5 2.5l-.94 2.06-2.06.94zm10 10l.94 2.06.94-2.06 2.06-.94-2.06-.94-.94-2.06-.94 2.06-2.06.94z\"/><path d=\"M17.41 7.96l-1.37-1.37c-.4-.4-.92-.59-1.43-.59-.52 0-1.04.2-1.43.59L10.3 9.45l-7.72 7.72c-.78.78-.78 2.05 0 2.83L4 21.41c.39.39.9.59 1.41.59.51 0 1.02-.2 1.41-.59l7.78-7.78 2.81-2.81c.8-.78.8-2.07 0-2.86zM5.41 20L4 18.59l7.72-7.72 1.47 1.35L5.41 20z\"/>\n",
              "  </svg>\n",
              "      </button>\n",
              "      \n",
              "  <style>\n",
              "    .colab-df-container {\n",
              "      display:flex;\n",
              "      flex-wrap:wrap;\n",
              "      gap: 12px;\n",
              "    }\n",
              "\n",
              "    .colab-df-convert {\n",
              "      background-color: #E8F0FE;\n",
              "      border: none;\n",
              "      border-radius: 50%;\n",
              "      cursor: pointer;\n",
              "      display: none;\n",
              "      fill: #1967D2;\n",
              "      height: 32px;\n",
              "      padding: 0 0 0 0;\n",
              "      width: 32px;\n",
              "    }\n",
              "\n",
              "    .colab-df-convert:hover {\n",
              "      background-color: #E2EBFA;\n",
              "      box-shadow: 0px 1px 2px rgba(60, 64, 67, 0.3), 0px 1px 3px 1px rgba(60, 64, 67, 0.15);\n",
              "      fill: #174EA6;\n",
              "    }\n",
              "\n",
              "    [theme=dark] .colab-df-convert {\n",
              "      background-color: #3B4455;\n",
              "      fill: #D2E3FC;\n",
              "    }\n",
              "\n",
              "    [theme=dark] .colab-df-convert:hover {\n",
              "      background-color: #434B5C;\n",
              "      box-shadow: 0px 1px 3px 1px rgba(0, 0, 0, 0.15);\n",
              "      filter: drop-shadow(0px 1px 2px rgba(0, 0, 0, 0.3));\n",
              "      fill: #FFFFFF;\n",
              "    }\n",
              "  </style>\n",
              "\n",
              "      <script>\n",
              "        const buttonEl =\n",
              "          document.querySelector('#df-5b10eb5d-318f-44d8-b1be-257fc4180ca5 button.colab-df-convert');\n",
              "        buttonEl.style.display =\n",
              "          google.colab.kernel.accessAllowed ? 'block' : 'none';\n",
              "\n",
              "        async function convertToInteractive(key) {\n",
              "          const element = document.querySelector('#df-5b10eb5d-318f-44d8-b1be-257fc4180ca5');\n",
              "          const dataTable =\n",
              "            await google.colab.kernel.invokeFunction('convertToInteractive',\n",
              "                                                     [key], {});\n",
              "          if (!dataTable) return;\n",
              "\n",
              "          const docLinkHtml = 'Like what you see? Visit the ' +\n",
              "            '<a target=\"_blank\" href=https://colab.research.google.com/notebooks/data_table.ipynb>data table notebook</a>'\n",
              "            + ' to learn more about interactive tables.';\n",
              "          element.innerHTML = '';\n",
              "          dataTable['output_type'] = 'display_data';\n",
              "          await google.colab.output.renderOutput(dataTable, element);\n",
              "          const docLink = document.createElement('div');\n",
              "          docLink.innerHTML = docLinkHtml;\n",
              "          element.appendChild(docLink);\n",
              "        }\n",
              "      </script>\n",
              "    </div>\n",
              "  </div>\n",
              "  "
            ]
          },
          "metadata": {},
          "execution_count": 6
        }
      ]
    },
    {
      "cell_type": "code",
      "source": [
        "data.dtypes"
      ],
      "metadata": {
        "colab": {
          "base_uri": "https://localhost:8080/"
        },
        "id": "aatJ6VCreor5",
        "outputId": "4ffb9e8c-bc6a-432d-f80b-b730492d380e"
      },
      "execution_count": 7,
      "outputs": [
        {
          "output_type": "execute_result",
          "data": {
            "text/plain": [
              "SL                float64\n",
              "SW                float64\n",
              "PL                float64\n",
              "PW                float64\n",
              "Classification     object\n",
              "dtype: object"
            ]
          },
          "metadata": {},
          "execution_count": 7
        }
      ]
    },
    {
      "cell_type": "code",
      "source": [
        "data['Classification'].nunique()"
      ],
      "metadata": {
        "colab": {
          "base_uri": "https://localhost:8080/"
        },
        "id": "k0J-5hUVeqR6",
        "outputId": "81536305-abe2-4d31-90da-97248b646ef0"
      },
      "execution_count": 8,
      "outputs": [
        {
          "output_type": "execute_result",
          "data": {
            "text/plain": [
              "3"
            ]
          },
          "metadata": {},
          "execution_count": 8
        }
      ]
    },
    {
      "cell_type": "code",
      "source": [
        "data.isna().sum() # missing values"
      ],
      "metadata": {
        "colab": {
          "base_uri": "https://localhost:8080/"
        },
        "id": "wwh1toQrex_f",
        "outputId": "0f9f42cc-f092-4bf7-8af5-ed2ef6f7a0a5"
      },
      "execution_count": 9,
      "outputs": [
        {
          "output_type": "execute_result",
          "data": {
            "text/plain": [
              "SL                7\n",
              "SW                6\n",
              "PL                6\n",
              "PW                0\n",
              "Classification    0\n",
              "dtype: int64"
            ]
          },
          "metadata": {},
          "execution_count": 9
        }
      ]
    },
    {
      "cell_type": "code",
      "source": [
        "for i in ['SL','SW','PL']:\n",
        "  data[i]=data[i].fillna(data[i].median()) # replace the missing values with median"
      ],
      "metadata": {
        "id": "oOHQkXnie4gA"
      },
      "execution_count": 10,
      "outputs": []
    },
    {
      "cell_type": "code",
      "source": [
        "data.isna().sum()  #there is no missing values"
      ],
      "metadata": {
        "colab": {
          "base_uri": "https://localhost:8080/"
        },
        "id": "LVQHQh7QfQPE",
        "outputId": "0863fce8-a411-431d-925a-600026244337"
      },
      "execution_count": 11,
      "outputs": [
        {
          "output_type": "execute_result",
          "data": {
            "text/plain": [
              "SL                0\n",
              "SW                0\n",
              "PL                0\n",
              "PW                0\n",
              "Classification    0\n",
              "dtype: int64"
            ]
          },
          "metadata": {},
          "execution_count": 11
        }
      ]
    },
    {
      "cell_type": "code",
      "source": [
        "#boxplot\n",
        "for i in ['SL','SW','PL','PW']:\n",
        "  plt.figure()\n",
        "  plt.boxplot(data[i])\n",
        "  plt.title(i)"
      ],
      "metadata": {
        "colab": {
          "base_uri": "https://localhost:8080/",
          "height": 1000
        },
        "id": "pYAzlhTpfSiD",
        "outputId": "8216f7c9-0c79-4c9e-a9d6-b9581e5444a6"
      },
      "execution_count": 12,
      "outputs": [
        {
          "output_type": "display_data",
          "data": {
            "text/plain": [
              "<Figure size 640x480 with 1 Axes>"
            ],
            "image/png": "[encoded data removed]"
          },
          "metadata": {}
        },
        {
          "output_type": "display_data",
          "data": {
            "text/plain": [
              "<Figure size 640x480 with 1 Axes>"
            ],
            "image/png": "[encoded data removed]"
          },
          "metadata": {}
        },
        {
          "output_type": "display_data",
          "data": {
            "text/plain": [
              "<Figure size 640x480 with 1 Axes>"
            ],
            "image/png": "[encoded data removed]"
          },
          "metadata": {}
        },
        {
          "output_type": "display_data",
          "data": {
            "text/plain": [
              "<Figure size 640x480 with 1 Axes>"
            ],
            "image/png": "[encoded data removed]"
          },
          "metadata": {}
        }
      ]
    },
    {
      "cell_type": "code",
      "source": [
        "Q1=np.percentile(data['SW'],25,interpolation='midpoint')\n",
        "Q2=np.percentile(data['SW'],50,interpolation='midpoint')\n",
        "Q3=np.percentile(data['SW'],75,interpolation='midpoint')\n",
        "print(Q1)\n",
        "print(Q2)\n",
        "print(Q3)"
      ],
      "metadata": {
        "colab": {
          "base_uri": "https://localhost:8080/"
        },
        "id": "s-4MSGrHf8jK",
        "outputId": "e8e0feb0-48f8-4f15-8077-b38ca46df7a8"
      },
      "execution_count": 13,
      "outputs": [
        {
          "output_type": "stream",
          "name": "stdout",
          "text": [
            "2.8\n",
            "3.0\n",
            "3.25\n"
          ]
        },
        {
          "output_type": "stream",
          "name": "stderr",
          "text": [
            "<ipython-input-13-25d59a0cb96a>:1: DeprecationWarning: the `interpolation=` argument to percentile was renamed to `method=`, which has additional options.\n",
            "Users of the modes 'nearest', 'lower', 'higher', or 'midpoint' are encouraged to review the method they. (Deprecated NumPy 1.22)\n",
            "  Q1=np.percentile(data['SW'],25,interpolation='midpoint')\n",
            "<ipython-input-13-25d59a0cb96a>:2: DeprecationWarning: the `interpolation=` argument to percentile was renamed to `method=`, which has additional options.\n",
            "Users of the modes 'nearest', 'lower', 'higher', or 'midpoint' are encouraged to review the method they. (Deprecated NumPy 1.22)\n",
            "  Q2=np.percentile(data['SW'],50,interpolation='midpoint')\n",
            "<ipython-input-13-25d59a0cb96a>:3: DeprecationWarning: the `interpolation=` argument to percentile was renamed to `method=`, which has additional options.\n",
            "Users of the modes 'nearest', 'lower', 'higher', or 'midpoint' are encouraged to review the method they. (Deprecated NumPy 1.22)\n",
            "  Q3=np.percentile(data['SW'],75,interpolation='midpoint')\n"
          ]
        }
      ]
    },
    {
      "cell_type": "code",
      "source": [
        "IQR=Q3-Q1\n",
        "IQR"
      ],
      "metadata": {
        "colab": {
          "base_uri": "https://localhost:8080/"
        },
        "id": "wxOBA1xfgj9u",
        "outputId": "d64d980f-eab9-4ab9-d8eb-0153686ee2c7"
      },
      "execution_count": 14,
      "outputs": [
        {
          "output_type": "execute_result",
          "data": {
            "text/plain": [
              "0.4500000000000002"
            ]
          },
          "metadata": {},
          "execution_count": 14
        }
      ]
    },
    {
      "cell_type": "code",
      "source": [
        "low_lim=Q1-1.5*IQR\n",
        "upper_lim=Q3+1.5*IQR\n",
        "print(low_lim)\n",
        "print(upper_lim)"
      ],
      "metadata": {
        "colab": {
          "base_uri": "https://localhost:8080/"
        },
        "id": "3b3UnWU1gxSF",
        "outputId": "7b68ec10-6eb9-4fe5-eb4b-a8f54743160a"
      },
      "execution_count": 15,
      "outputs": [
        {
          "output_type": "stream",
          "name": "stdout",
          "text": [
            "2.1249999999999996\n",
            "3.9250000000000003\n"
          ]
        }
      ]
    },
    {
      "cell_type": "code",
      "source": [
        "outlier=[]\n",
        "for x in data['SW']:\n",
        "  if ((x>upper_lim) or (x<low_lim)):\n",
        "    outlier.append(x)\n"
      ],
      "metadata": {
        "id": "O6FvtdR2g1rd"
      },
      "execution_count": 16,
      "outputs": []
    },
    {
      "cell_type": "code",
      "source": [
        "outlier"
      ],
      "metadata": {
        "colab": {
          "base_uri": "https://localhost:8080/"
        },
        "id": "078GbSfNhCt8",
        "outputId": "46df7025-c41e-45df-aefd-cb343eab14c7"
      },
      "execution_count": 17,
      "outputs": [
        {
          "output_type": "execute_result",
          "data": {
            "text/plain": [
              "[4.0, 4.4, 4.1, 4.2, 2.0]"
            ]
          },
          "metadata": {},
          "execution_count": 17
        }
      ]
    },
    {
      "cell_type": "code",
      "source": [
        "ind1=data['SW']<low_lim\n",
        "data.loc[ind1].index"
      ],
      "metadata": {
        "colab": {
          "base_uri": "https://localhost:8080/"
        },
        "id": "TGlyI8WLhFiz",
        "outputId": "a2153492-9bbe-44a9-ca42-ab64160ff912"
      },
      "execution_count": 18,
      "outputs": [
        {
          "output_type": "execute_result",
          "data": {
            "text/plain": [
              "Int64Index([60], dtype='int64')"
            ]
          },
          "metadata": {},
          "execution_count": 18
        }
      ]
    },
    {
      "cell_type": "code",
      "source": [
        "ind2=data['SW']>upper_lim\n",
        "data.loc[ind2].index"
      ],
      "metadata": {
        "colab": {
          "base_uri": "https://localhost:8080/"
        },
        "id": "s_ZSOVORhZ9S",
        "outputId": "af92e2ef-f040-4165-af16-5a9e869e41ea"
      },
      "execution_count": 19,
      "outputs": [
        {
          "output_type": "execute_result",
          "data": {
            "text/plain": [
              "Int64Index([14, 15, 32, 33], dtype='int64')"
            ]
          },
          "metadata": {},
          "execution_count": 19
        }
      ]
    },
    {
      "cell_type": "code",
      "source": [],
      "metadata": {
        "id": "9Tu2jXj4hnU0"
      },
      "execution_count": 19,
      "outputs": []
    },
    {
      "cell_type": "code",
      "source": [
        "data.drop([14,15,32,33,60],inplace=True)"
      ],
      "metadata": {
        "id": "dPxzJNWVhsZz"
      },
      "execution_count": 20,
      "outputs": []
    },
    {
      "cell_type": "code",
      "source": [
        "data.shape"
      ],
      "metadata": {
        "colab": {
          "base_uri": "https://localhost:8080/"
        },
        "id": "ucAjYGhbh40z",
        "outputId": "8bf61e1d-8bbb-48e7-dbd4-7e85f2ff0dbf"
      },
      "execution_count": 21,
      "outputs": [
        {
          "output_type": "execute_result",
          "data": {
            "text/plain": [
              "(145, 5)"
            ]
          },
          "metadata": {},
          "execution_count": 21
        }
      ]
    },
    {
      "cell_type": "code",
      "source": [
        "#  label encoding\n",
        "from sklearn.preprocessing import LabelEncoder\n",
        "label_encoder=LabelEncoder()\n",
        "data['Classification']=label_encoder.fit_transform(data['Classification'])"
      ],
      "metadata": {
        "id": "6_U8I-l4h8tj"
      },
      "execution_count": 22,
      "outputs": []
    },
    {
      "cell_type": "code",
      "source": [
        "data.dtypes"
      ],
      "metadata": {
        "colab": {
          "base_uri": "https://localhost:8080/"
        },
        "id": "6xRfx3I1kaPM",
        "outputId": "66dece44-c4f2-40b2-91f3-0934c9ba8840"
      },
      "execution_count": 23,
      "outputs": [
        {
          "output_type": "execute_result",
          "data": {
            "text/plain": [
              "SL                float64\n",
              "SW                float64\n",
              "PL                float64\n",
              "PW                float64\n",
              "Classification      int64\n",
              "dtype: object"
            ]
          },
          "metadata": {},
          "execution_count": 23
        }
      ]
    },
    {
      "cell_type": "code",
      "source": [
        "## correlation\n",
        "corrmatrix=data.corr()\n",
        "plt.subplots(figsize=(10,4))\n",
        "sns.heatmap(corrmatrix,annot=True,vmin=-0.2,vmax=1,cmap='YlGnBu')"
      ],
      "metadata": {
        "colab": {
          "base_uri": "https://localhost:8080/",
          "height": 391
        },
        "id": "tkAo3pwRkgKK",
        "outputId": "59138731-c8f2-4faf-86b4-0a49acfeb6e0"
      },
      "execution_count": 24,
      "outputs": [
        {
          "output_type": "execute_result",
          "data": {
            "text/plain": [
              "<Axes: >"
            ]
          },
          "metadata": {},
          "execution_count": 24
        },
        {
          "output_type": "display_data",
          "data": {
            "text/plain": [
              "<Figure size 1000x400 with 2 Axes>"
            ],
            "image/png": "[encoded data removed]"
          },
          "metadata": {}
        }
      ]
    },
    {
      "cell_type": "code",
      "source": [
        "y=data['Classification'] # target\n",
        "x=data.drop(['Classification','PL'],axis=1) # feature"
      ],
      "metadata": {
        "id": "2drXkRpPk9de"
      },
      "execution_count": 25,
      "outputs": []
    },
    {
      "cell_type": "code",
      "source": [
        "from sklearn.model_selection import train_test_split # train test split\n",
        "x_train,x_test,y_train,y_test=train_test_split(x,y,random_state=42,test_size=0.25)"
      ],
      "metadata": {
        "id": "ujUZZTOpmykh"
      },
      "execution_count": 26,
      "outputs": []
    },
    {
      "cell_type": "code",
      "source": [
        "#logistic regression\n",
        "from sklearn.linear_model import LogisticRegression\n",
        "logit_model=LogisticRegression()\n",
        "logit_model.fit(x_train,y_train)\n",
        "y_pred=logit_model.predict(x_test)"
      ],
      "metadata": {
        "id": "QjVq5H_Tm133"
      },
      "execution_count": 27,
      "outputs": []
    },
    {
      "cell_type": "code",
      "source": [
        "from sklearn.metrics import confusion_matrix, accuracy_score,precision_score,recall_score,f1_score\n",
        "print('Accuracy is ',accuracy_score(y_test,y_pred))\n",
        "print('Precision is ',precision_score(y_test,y_pred,average='macro'))\n",
        "print('Recall is ',recall_score(y_test,y_pred,average='macro'))\n",
        "print('f1 is ',f1_score(y_test,y_pred,average='macro'))"
      ],
      "metadata": {
        "colab": {
          "base_uri": "https://localhost:8080/"
        },
        "id": "hXmqAIkUnL_m",
        "outputId": "4d2851b6-8d8e-4130-96b5-f6d78a4b1052"
      },
      "execution_count": 28,
      "outputs": [
        {
          "output_type": "stream",
          "name": "stdout",
          "text": [
            "Accuracy is  0.9459459459459459\n",
            "Precision is  0.9393939393939394\n",
            "Recall is  0.9523809523809524\n",
            "f1 is  0.9410256410256409\n"
          ]
        }
      ]
    },
    {
      "cell_type": "code",
      "source": [
        "#KNN\n",
        "from sklearn.neighbors import KNeighborsClassifier\n",
        "metric_k=[]\n",
        "neighbors=np.arange(3,15)\n",
        "\n",
        "for k in neighbors:\n",
        "  classifier = KNeighborsClassifier(n_neighbors=k,metric='minkowski',p=2)\n",
        "  classifier.fit(x_train,y_train)\n",
        "  y_pred = classifier.predict(x_test)\n",
        "  acc = accuracy_score(y_test,y_pred)\n",
        "  metric_k.append(acc)"
      ],
      "metadata": {
        "id": "Z1MC9bxinbom"
      },
      "execution_count": 29,
      "outputs": []
    },
    {
      "cell_type": "code",
      "source": [
        "plt.plot(neighbors,metric_k,'o-')\n",
        "plt.xlabel('k value')\n",
        "plt.ylabel('accuracy')\n",
        "plt.grid()"
      ],
      "metadata": {
        "colab": {
          "base_uri": "https://localhost:8080/",
          "height": 449
        },
        "id": "IRWNXbv5rDa_",
        "outputId": "69f328d0-b40a-4d3c-ce2c-43cf026a0f28"
      },
      "execution_count": 30,
      "outputs": [
        {
          "output_type": "display_data",
          "data": {
            "text/plain": [
              "<Figure size 640x480 with 1 Axes>"
            ],
            "image/png": "[encoded data removed]"
          },
          "metadata": {}
        }
      ]
    },
    {
      "cell_type": "code",
      "source": [
        "classifier = KNeighborsClassifier(n_neighbors=4,metric='minkowski',p=2)\n",
        "classifier.fit(x_train,y_train)\n",
        "y_pred=classifier.predict(x_test)\n",
        "y_pred"
      ],
      "metadata": {
        "colab": {
          "base_uri": "https://localhost:8080/"
        },
        "id": "Ifmw0YOnrQHj",
        "outputId": "1e4d4dee-d0ac-4cd3-d01e-a808af68b4aa"
      },
      "execution_count": 31,
      "outputs": [
        {
          "output_type": "execute_result",
          "data": {
            "text/plain": [
              "array([1, 2, 0, 0, 0, 2, 2, 2, 1, 0, 0, 1, 1, 1, 1, 0, 2, 2, 2, 2, 1, 2,\n",
              "       0, 1, 0, 0, 1, 1, 2, 0, 0, 0, 2, 2, 0, 0, 2])"
            ]
          },
          "metadata": {},
          "execution_count": 31
        }
      ]
    },
    {
      "cell_type": "code",
      "source": [
        "print('Accuracy is', accuracy_score(y_test,y_pred))\n",
        "print('Precision is', precision_score(y_test,y_pred,average='macro'))\n",
        "print('Recall is', recall_score(y_test,y_pred,average='macro'))\n",
        "print('f1 score is', f1_score(y_test,y_pred,average='macro'))\n",
        "confusion_matrix(y_test,y_pred) "
      ],
      "metadata": {
        "colab": {
          "base_uri": "https://localhost:8080/"
        },
        "id": "_Eb8E26UrhS0",
        "outputId": "00e86f9f-a68a-4086-836c-8ba0325ffecf"
      },
      "execution_count": 32,
      "outputs": [
        {
          "output_type": "stream",
          "name": "stdout",
          "text": [
            "Accuracy is 0.972972972972973\n",
            "Precision is 0.9666666666666667\n",
            "Recall is 0.9761904761904763\n",
            "f1 score is 0.9701104613385315\n"
          ]
        },
        {
          "output_type": "execute_result",
          "data": {
            "text/plain": [
              "array([[14,  0,  0],\n",
              "       [ 0,  9,  0],\n",
              "       [ 0,  1, 13]])"
            ]
          },
          "metadata": {},
          "execution_count": 32
        }
      ]
    },
    {
      "cell_type": "code",
      "source": [
        "#SVM using rbf\n",
        "from sklearn.svm import SVC\n",
        "svmclf=SVC(kernel='rbf')\n",
        "svmclf.fit(x_train,y_train)"
      ],
      "metadata": {
        "colab": {
          "base_uri": "https://localhost:8080/",
          "height": 75
        },
        "id": "zXGPKn0SrqUF",
        "outputId": "0baeec3a-bba3-4d28-da60-d6af78486006"
      },
      "execution_count": 33,
      "outputs": [
        {
          "output_type": "execute_result",
          "data": {
            "text/plain": [
              "SVC()"
            ],
            "text/html": [
              "<style>#sk-container-id-1 {color: black;background-color: white;}#sk-container-id-1 pre{padding: 0;}#sk-container-id-1 div.sk-toggleable {background-color: white;}#sk-container-id-1 label.sk-toggleable__label {cursor: pointer;display: block;width: 100%;margin-bottom: 0;padding: 0.3em;box-sizing: border-box;text-align: center;}#sk-container-id-1 label.sk-toggleable__label-arrow:before {content: \"▸\";float: left;margin-right: 0.25em;color: #696969;}#sk-container-id-1 label.sk-toggleable__label-arrow:hover:before {color: black;}#sk-container-id-1 div.sk-estimator:hover label.sk-toggleable__label-arrow:before {color: black;}#sk-container-id-1 div.sk-toggleable__content {max-height: 0;max-width: 0;overflow: hidden;text-align: left;background-color: #f0f8ff;}#sk-container-id-1 div.sk-toggleable__content pre {margin: 0.2em;color: black;border-radius: 0.25em;background-color: #f0f8ff;}#sk-container-id-1 input.sk-toggleable__control:checked~div.sk-toggleable__content {max-height: 200px;max-width: 100%;overflow: auto;}#sk-container-id-1 input.sk-toggleable__control:checked~label.sk-toggleable__label-arrow:before {content: \"▾\";}#sk-container-id-1 div.sk-estimator input.sk-toggleable__control:checked~label.sk-toggleable__label {background-color: #d4ebff;}#sk-container-id-1 div.sk-label input.sk-toggleable__control:checked~label.sk-toggleable__label {background-color: #d4ebff;}#sk-container-id-1 input.sk-hidden--visually {border: 0;clip: rect(1px 1px 1px 1px);clip: rect(1px, 1px, 1px, 1px);height: 1px;margin: -1px;overflow: hidden;padding: 0;position: absolute;width: 1px;}#sk-container-id-1 div.sk-estimator {font-family: monospace;background-color: #f0f8ff;border: 1px dotted black;border-radius: 0.25em;box-sizing: border-box;margin-bottom: 0.5em;}#sk-container-id-1 div.sk-estimator:hover {background-color: #d4ebff;}#sk-container-id-1 div.sk-parallel-item::after {content: \"\";width: 100%;border-bottom: 1px solid gray;flex-grow: 1;}#sk-container-id-1 div.sk-label:hover label.sk-toggleable__label {background-color: #d4ebff;}#sk-container-id-1 div.sk-serial::before {content: \"\";position: absolute;border-left: 1px solid gray;box-sizing: border-box;top: 0;bottom: 0;left: 50%;z-index: 0;}#sk-container-id-1 div.sk-serial {display: flex;flex-direction: column;align-items: center;background-color: white;padding-right: 0.2em;padding-left: 0.2em;position: relative;}#sk-container-id-1 div.sk-item {position: relative;z-index: 1;}#sk-container-id-1 div.sk-parallel {display: flex;align-items: stretch;justify-content: center;background-color: white;position: relative;}#sk-container-id-1 div.sk-item::before, #sk-container-id-1 div.sk-parallel-item::before {content: \"\";position: absolute;border-left: 1px solid gray;box-sizing: border-box;top: 0;bottom: 0;left: 50%;z-index: -1;}#sk-container-id-1 div.sk-parallel-item {display: flex;flex-direction: column;z-index: 1;position: relative;background-color: white;}#sk-container-id-1 div.sk-parallel-item:first-child::after {align-self: flex-end;width: 50%;}#sk-container-id-1 div.sk-parallel-item:last-child::after {align-self: flex-start;width: 50%;}#sk-container-id-1 div.sk-parallel-item:only-child::after {width: 0;}#sk-container-id-1 div.sk-dashed-wrapped {border: 1px dashed gray;margin: 0 0.4em 0.5em 0.4em;box-sizing: border-box;padding-bottom: 0.4em;background-color: white;}#sk-container-id-1 div.sk-label label {font-family: monospace;font-weight: bold;display: inline-block;line-height: 1.2em;}#sk-container-id-1 div.sk-label-container {text-align: center;}#sk-container-id-1 div.sk-container {/* jupyter's `normalize.less` sets `[hidden] { display: none; }` but bootstrap.min.css set `[hidden] { display: none !important; }` so we also need the `!important` here to be able to override the default hidden behavior on the sphinx rendered scikit-learn.org. See: https://github.com/scikit-learn/scikit-learn/issues/21755 */display: inline-block !important;position: relative;}#sk-container-id-1 div.sk-text-repr-fallback {display: none;}</style><div id=\"sk-container-id-1\" class=\"sk-top-container\"><div class=\"sk-text-repr-fallback\"><pre>SVC()</pre><b>In a Jupyter environment, please rerun this cell to show the HTML representation or trust the notebook. <br />On GitHub, the HTML representation is unable to render, please try loading this page with nbviewer.org.</b></div><div class=\"sk-container\" hidden><div class=\"sk-item\"><div class=\"sk-estimator sk-toggleable\"><input class=\"sk-toggleable__control sk-hidden--visually\" id=\"sk-estimator-id-1\" type=\"checkbox\" checked><label for=\"sk-estimator-id-1\" class=\"sk-toggleable__label sk-toggleable__label-arrow\">SVC</label><div class=\"sk-toggleable__content\"><pre>SVC()</pre></div></div></div></div></div>"
            ]
          },
          "metadata": {},
          "execution_count": 33
        }
      ]
    },
    {
      "cell_type": "code",
      "source": [
        "y_pred= svmclf.predict(x_test)\n",
        "y_pred"
      ],
      "metadata": {
        "colab": {
          "base_uri": "https://localhost:8080/"
        },
        "id": "E5oYL8EYsnWW",
        "outputId": "476aa8b7-0aac-4cbe-f439-bd04793aa7c3"
      },
      "execution_count": 34,
      "outputs": [
        {
          "output_type": "execute_result",
          "data": {
            "text/plain": [
              "array([1, 2, 0, 0, 0, 2, 2, 2, 1, 0, 0, 1, 1, 1, 1, 0, 2, 1, 2, 1, 1, 2,\n",
              "       0, 1, 0, 0, 1, 1, 2, 0, 0, 0, 2, 2, 0, 0, 2])"
            ]
          },
          "metadata": {},
          "execution_count": 34
        }
      ]
    },
    {
      "cell_type": "code",
      "source": [
        "from sklearn.metrics import accuracy_score,confusion_matrix\n",
        "print('Accuracy is: ', accuracy_score(y_test,y_pred))"
      ],
      "metadata": {
        "colab": {
          "base_uri": "https://localhost:8080/"
        },
        "id": "lPRgbSKSstSu",
        "outputId": "3751fc3d-5cb6-4447-c4be-7af21f898ec5"
      },
      "execution_count": 35,
      "outputs": [
        {
          "output_type": "stream",
          "name": "stdout",
          "text": [
            "Accuracy is:  0.918918918918919\n"
          ]
        }
      ]
    },
    {
      "cell_type": "code",
      "source": [
        "# SVM using linear\n",
        "from sklearn.svm import SVC\n",
        "svmclf=SVC(kernel='linear')\n",
        "svmclf.fit(x_train,y_train)"
      ],
      "metadata": {
        "colab": {
          "base_uri": "https://localhost:8080/",
          "height": 75
        },
        "id": "kmcBxnmqs1hk",
        "outputId": "dfffcc68-25e4-454d-e505-df91730b07ea"
      },
      "execution_count": 36,
      "outputs": [
        {
          "output_type": "execute_result",
          "data": {
            "text/plain": [
              "SVC(kernel='linear')"
            ],
            "text/html": [
              "<style>#sk-container-id-2 {color: black;background-color: white;}#sk-container-id-2 pre{padding: 0;}#sk-container-id-2 div.sk-toggleable {background-color: white;}#sk-container-id-2 label.sk-toggleable__label {cursor: pointer;display: block;width: 100%;margin-bottom: 0;padding: 0.3em;box-sizing: border-box;text-align: center;}#sk-container-id-2 label.sk-toggleable__label-arrow:before {content: \"▸\";float: left;margin-right: 0.25em;color: #696969;}#sk-container-id-2 label.sk-toggleable__label-arrow:hover:before {color: black;}#sk-container-id-2 div.sk-estimator:hover label.sk-toggleable__label-arrow:before {color: black;}#sk-container-id-2 div.sk-toggleable__content {max-height: 0;max-width: 0;overflow: hidden;text-align: left;background-color: #f0f8ff;}#sk-container-id-2 div.sk-toggleable__content pre {margin: 0.2em;color: black;border-radius: 0.25em;background-color: #f0f8ff;}#sk-container-id-2 input.sk-toggleable__control:checked~div.sk-toggleable__content {max-height: 200px;max-width: 100%;overflow: auto;}#sk-container-id-2 input.sk-toggleable__control:checked~label.sk-toggleable__label-arrow:before {content: \"▾\";}#sk-container-id-2 div.sk-estimator input.sk-toggleable__control:checked~label.sk-toggleable__label {background-color: #d4ebff;}#sk-container-id-2 div.sk-label input.sk-toggleable__control:checked~label.sk-toggleable__label {background-color: #d4ebff;}#sk-container-id-2 input.sk-hidden--visually {border: 0;clip: rect(1px 1px 1px 1px);clip: rect(1px, 1px, 1px, 1px);height: 1px;margin: -1px;overflow: hidden;padding: 0;position: absolute;width: 1px;}#sk-container-id-2 div.sk-estimator {font-family: monospace;background-color: #f0f8ff;border: 1px dotted black;border-radius: 0.25em;box-sizing: border-box;margin-bottom: 0.5em;}#sk-container-id-2 div.sk-estimator:hover {background-color: #d4ebff;}#sk-container-id-2 div.sk-parallel-item::after {content: \"\";width: 100%;border-bottom: 1px solid gray;flex-grow: 1;}#sk-container-id-2 div.sk-label:hover label.sk-toggleable__label {background-color: #d4ebff;}#sk-container-id-2 div.sk-serial::before {content: \"\";position: absolute;border-left: 1px solid gray;box-sizing: border-box;top: 0;bottom: 0;left: 50%;z-index: 0;}#sk-container-id-2 div.sk-serial {display: flex;flex-direction: column;align-items: center;background-color: white;padding-right: 0.2em;padding-left: 0.2em;position: relative;}#sk-container-id-2 div.sk-item {position: relative;z-index: 1;}#sk-container-id-2 div.sk-parallel {display: flex;align-items: stretch;justify-content: center;background-color: white;position: relative;}#sk-container-id-2 div.sk-item::before, #sk-container-id-2 div.sk-parallel-item::before {content: \"\";position: absolute;border-left: 1px solid gray;box-sizing: border-box;top: 0;bottom: 0;left: 50%;z-index: -1;}#sk-container-id-2 div.sk-parallel-item {display: flex;flex-direction: column;z-index: 1;position: relative;background-color: white;}#sk-container-id-2 div.sk-parallel-item:first-child::after {align-self: flex-end;width: 50%;}#sk-container-id-2 div.sk-parallel-item:last-child::after {align-self: flex-start;width: 50%;}#sk-container-id-2 div.sk-parallel-item:only-child::after {width: 0;}#sk-container-id-2 div.sk-dashed-wrapped {border: 1px dashed gray;margin: 0 0.4em 0.5em 0.4em;box-sizing: border-box;padding-bottom: 0.4em;background-color: white;}#sk-container-id-2 div.sk-label label {font-family: monospace;font-weight: bold;display: inline-block;line-height: 1.2em;}#sk-container-id-2 div.sk-label-container {text-align: center;}#sk-container-id-2 div.sk-container {/* jupyter's `normalize.less` sets `[hidden] { display: none; }` but bootstrap.min.css set `[hidden] { display: none !important; }` so we also need the `!important` here to be able to override the default hidden behavior on the sphinx rendered scikit-learn.org. See: https://github.com/scikit-learn/scikit-learn/issues/21755 */display: inline-block !important;position: relative;}#sk-container-id-2 div.sk-text-repr-fallback {display: none;}</style><div id=\"sk-container-id-2\" class=\"sk-top-container\"><div class=\"sk-text-repr-fallback\"><pre>SVC(kernel=&#x27;linear&#x27;)</pre><b>In a Jupyter environment, please rerun this cell to show the HTML representation or trust the notebook. <br />On GitHub, the HTML representation is unable to render, please try loading this page with nbviewer.org.</b></div><div class=\"sk-container\" hidden><div class=\"sk-item\"><div class=\"sk-estimator sk-toggleable\"><input class=\"sk-toggleable__control sk-hidden--visually\" id=\"sk-estimator-id-2\" type=\"checkbox\" checked><label for=\"sk-estimator-id-2\" class=\"sk-toggleable__label sk-toggleable__label-arrow\">SVC</label><div class=\"sk-toggleable__content\"><pre>SVC(kernel=&#x27;linear&#x27;)</pre></div></div></div></div></div>"
            ]
          },
          "metadata": {},
          "execution_count": 36
        }
      ]
    },
    {
      "cell_type": "code",
      "source": [
        "y_pred= svmclf.predict(x_test)\n",
        "y_pred"
      ],
      "metadata": {
        "colab": {
          "base_uri": "https://localhost:8080/"
        },
        "id": "zgRaJnKgs9Pp",
        "outputId": "b5ca61a6-a5cb-4a08-dd36-67a3721b46cb"
      },
      "execution_count": 37,
      "outputs": [
        {
          "output_type": "execute_result",
          "data": {
            "text/plain": [
              "array([1, 2, 0, 0, 0, 2, 2, 2, 1, 0, 0, 1, 1, 1, 1, 0, 2, 2, 2, 2, 1, 2,\n",
              "       0, 1, 0, 0, 1, 1, 2, 0, 0, 0, 2, 2, 0, 0, 2])"
            ]
          },
          "metadata": {},
          "execution_count": 37
        }
      ]
    },
    {
      "cell_type": "code",
      "source": [
        "from sklearn.metrics import accuracy_score,confusion_matrix\n",
        "print('Accuracy is: ', accuracy_score(y_test,y_pred))"
      ],
      "metadata": {
        "colab": {
          "base_uri": "https://localhost:8080/"
        },
        "id": "gOYKJErHtJft",
        "outputId": "d5e634d4-2558-4139-d702-4d1129d5f197"
      },
      "execution_count": 38,
      "outputs": [
        {
          "output_type": "stream",
          "name": "stdout",
          "text": [
            "Accuracy is:  0.972972972972973\n"
          ]
        }
      ]
    },
    {
      "cell_type": "code",
      "source": [
        "## Decision tree\n",
        "from sklearn.tree import DecisionTreeClassifier\n",
        "dt_clf = DecisionTreeClassifier(random_state=42)\n",
        "dt_clf.fit(x_train,y_train)\n",
        "y_pred = dt_clf.predict(x_test)"
      ],
      "metadata": {
        "id": "bMxD_9pOtPkV"
      },
      "execution_count": 39,
      "outputs": []
    },
    {
      "cell_type": "code",
      "source": [
        "print('Accuracy is: ',accuracy_score(y_test,y_pred))"
      ],
      "metadata": {
        "colab": {
          "base_uri": "https://localhost:8080/"
        },
        "id": "Qp10k8Ij4F79",
        "outputId": "7111ece2-7f94-430d-815b-ae081cb2b97a"
      },
      "execution_count": 40,
      "outputs": [
        {
          "output_type": "stream",
          "name": "stdout",
          "text": [
            "Accuracy is:  0.972972972972973\n"
          ]
        }
      ]
    },
    {
      "cell_type": "code",
      "source": [
        "print(confusion_matrix(y_test,y_pred))"
      ],
      "metadata": {
        "colab": {
          "base_uri": "https://localhost:8080/"
        },
        "id": "y7YqKu2W4J4l",
        "outputId": "129a6272-8f7d-4b2e-8547-d8a427f529d3"
      },
      "execution_count": 41,
      "outputs": [
        {
          "output_type": "stream",
          "name": "stdout",
          "text": [
            "[[14  0  0]\n",
            " [ 0  9  0]\n",
            " [ 0  1 13]]\n"
          ]
        }
      ]
    },
    {
      "cell_type": "code",
      "source": [
        "## random forest algorithm ensemble method\n",
        "from sklearn.ensemble import RandomForestClassifier\n",
        "rf_clf = RandomForestClassifier()\n",
        "rf_clf.fit(x_train,y_train)"
      ],
      "metadata": {
        "colab": {
          "base_uri": "https://localhost:8080/",
          "height": 75
        },
        "id": "-shwJ38t4ONS",
        "outputId": "f7c3b0db-5de6-413d-8af3-8f3d254b0cce"
      },
      "execution_count": 42,
      "outputs": [
        {
          "output_type": "execute_result",
          "data": {
            "text/plain": [
              "RandomForestClassifier()"
            ],
            "text/html": [
              "<style>#sk-container-id-3 {color: black;background-color: white;}#sk-container-id-3 pre{padding: 0;}#sk-container-id-3 div.sk-toggleable {background-color: white;}#sk-container-id-3 label.sk-toggleable__label {cursor: pointer;display: block;width: 100%;margin-bottom: 0;padding: 0.3em;box-sizing: border-box;text-align: center;}#sk-container-id-3 label.sk-toggleable__label-arrow:before {content: \"▸\";float: left;margin-right: 0.25em;color: #696969;}#sk-container-id-3 label.sk-toggleable__label-arrow:hover:before {color: black;}#sk-container-id-3 div.sk-estimator:hover label.sk-toggleable__label-arrow:before {color: black;}#sk-container-id-3 div.sk-toggleable__content {max-height: 0;max-width: 0;overflow: hidden;text-align: left;background-color: #f0f8ff;}#sk-container-id-3 div.sk-toggleable__content pre {margin: 0.2em;color: black;border-radius: 0.25em;background-color: #f0f8ff;}#sk-container-id-3 input.sk-toggleable__control:checked~div.sk-toggleable__content {max-height: 200px;max-width: 100%;overflow: auto;}#sk-container-id-3 input.sk-toggleable__control:checked~label.sk-toggleable__label-arrow:before {content: \"▾\";}#sk-container-id-3 div.sk-estimator input.sk-toggleable__control:checked~label.sk-toggleable__label {background-color: #d4ebff;}#sk-container-id-3 div.sk-label input.sk-toggleable__control:checked~label.sk-toggleable__label {background-color: #d4ebff;}#sk-container-id-3 input.sk-hidden--visually {border: 0;clip: rect(1px 1px 1px 1px);clip: rect(1px, 1px, 1px, 1px);height: 1px;margin: -1px;overflow: hidden;padding: 0;position: absolute;width: 1px;}#sk-container-id-3 div.sk-estimator {font-family: monospace;background-color: #f0f8ff;border: 1px dotted black;border-radius: 0.25em;box-sizing: border-box;margin-bottom: 0.5em;}#sk-container-id-3 div.sk-estimator:hover {background-color: #d4ebff;}#sk-container-id-3 div.sk-parallel-item::after {content: \"\";width: 100%;border-bottom: 1px solid gray;flex-grow: 1;}#sk-container-id-3 div.sk-label:hover label.sk-toggleable__label {background-color: #d4ebff;}#sk-container-id-3 div.sk-serial::before {content: \"\";position: absolute;border-left: 1px solid gray;box-sizing: border-box;top: 0;bottom: 0;left: 50%;z-index: 0;}#sk-container-id-3 div.sk-serial {display: flex;flex-direction: column;align-items: center;background-color: white;padding-right: 0.2em;padding-left: 0.2em;position: relative;}#sk-container-id-3 div.sk-item {position: relative;z-index: 1;}#sk-container-id-3 div.sk-parallel {display: flex;align-items: stretch;justify-content: center;background-color: white;position: relative;}#sk-container-id-3 div.sk-item::before, #sk-container-id-3 div.sk-parallel-item::before {content: \"\";position: absolute;border-left: 1px solid gray;box-sizing: border-box;top: 0;bottom: 0;left: 50%;z-index: -1;}#sk-container-id-3 div.sk-parallel-item {display: flex;flex-direction: column;z-index: 1;position: relative;background-color: white;}#sk-container-id-3 div.sk-parallel-item:first-child::after {align-self: flex-end;width: 50%;}#sk-container-id-3 div.sk-parallel-item:last-child::after {align-self: flex-start;width: 50%;}#sk-container-id-3 div.sk-parallel-item:only-child::after {width: 0;}#sk-container-id-3 div.sk-dashed-wrapped {border: 1px dashed gray;margin: 0 0.4em 0.5em 0.4em;box-sizing: border-box;padding-bottom: 0.4em;background-color: white;}#sk-container-id-3 div.sk-label label {font-family: monospace;font-weight: bold;display: inline-block;line-height: 1.2em;}#sk-container-id-3 div.sk-label-container {text-align: center;}#sk-container-id-3 div.sk-container {/* jupyter's `normalize.less` sets `[hidden] { display: none; }` but bootstrap.min.css set `[hidden] { display: none !important; }` so we also need the `!important` here to be able to override the default hidden behavior on the sphinx rendered scikit-learn.org. See: https://github.com/scikit-learn/scikit-learn/issues/21755 */display: inline-block !important;position: relative;}#sk-container-id-3 div.sk-text-repr-fallback {display: none;}</style><div id=\"sk-container-id-3\" class=\"sk-top-container\"><div class=\"sk-text-repr-fallback\"><pre>RandomForestClassifier()</pre><b>In a Jupyter environment, please rerun this cell to show the HTML representation or trust the notebook. <br />On GitHub, the HTML representation is unable to render, please try loading this page with nbviewer.org.</b></div><div class=\"sk-container\" hidden><div class=\"sk-item\"><div class=\"sk-estimator sk-toggleable\"><input class=\"sk-toggleable__control sk-hidden--visually\" id=\"sk-estimator-id-3\" type=\"checkbox\" checked><label for=\"sk-estimator-id-3\" class=\"sk-toggleable__label sk-toggleable__label-arrow\">RandomForestClassifier</label><div class=\"sk-toggleable__content\"><pre>RandomForestClassifier()</pre></div></div></div></div></div>"
            ]
          },
          "metadata": {},
          "execution_count": 42
        }
      ]
    },
    {
      "cell_type": "code",
      "source": [
        "y_pred= rf_clf.predict(x_test)\n",
        "y_pred"
      ],
      "metadata": {
        "colab": {
          "base_uri": "https://localhost:8080/"
        },
        "id": "ZLiwaTeP4UIX",
        "outputId": "ec8eb404-2465-4e91-d52f-2ad26b5c52ce"
      },
      "execution_count": 43,
      "outputs": [
        {
          "output_type": "execute_result",
          "data": {
            "text/plain": [
              "array([1, 2, 0, 0, 0, 2, 2, 2, 1, 0, 0, 1, 1, 1, 1, 0, 2, 2, 2, 2, 1, 2,\n",
              "       0, 1, 0, 0, 1, 1, 2, 0, 0, 0, 2, 2, 0, 0, 2])"
            ]
          },
          "metadata": {},
          "execution_count": 43
        }
      ]
    },
    {
      "cell_type": "code",
      "source": [
        "print('Accuracy is: ',accuracy_score(y_test,y_pred))\n",
        "print(confusion_matrix(y_test,y_pred))"
      ],
      "metadata": {
        "colab": {
          "base_uri": "https://localhost:8080/"
        },
        "id": "PW7D6NAC4Xxu",
        "outputId": "5bdcccf3-b234-4b4d-a93f-3963f7642234"
      },
      "execution_count": 44,
      "outputs": [
        {
          "output_type": "stream",
          "name": "stdout",
          "text": [
            "Accuracy is:  0.972972972972973\n",
            "[[14  0  0]\n",
            " [ 0  9  0]\n",
            " [ 0  1 13]]\n"
          ]
        }
      ]
    },
    {
      "cell_type": "code",
      "source": [
        "#hyper parameter tuning\n",
        "rf_clf = RandomForestClassifier(n_estimators=20,max_depth=3,criterion='entropy',min_samples_split=2)\n",
        "rf_clf.fit(x_train,y_train)"
      ],
      "metadata": {
        "id": "d1MK0IH84gTb",
        "colab": {
          "base_uri": "https://localhost:8080/",
          "height": 75
        },
        "outputId": "89993764-d684-47b9-9261-7c1d9659f0bd"
      },
      "execution_count": 45,
      "outputs": [
        {
          "output_type": "execute_result",
          "data": {
            "text/plain": [
              "RandomForestClassifier(criterion='entropy', max_depth=3, n_estimators=20)"
            ],
            "text/html": [
              "<style>#sk-container-id-4 {color: black;background-color: white;}#sk-container-id-4 pre{padding: 0;}#sk-container-id-4 div.sk-toggleable {background-color: white;}#sk-container-id-4 label.sk-toggleable__label {cursor: pointer;display: block;width: 100%;margin-bottom: 0;padding: 0.3em;box-sizing: border-box;text-align: center;}#sk-container-id-4 label.sk-toggleable__label-arrow:before {content: \"▸\";float: left;margin-right: 0.25em;color: #696969;}#sk-container-id-4 label.sk-toggleable__label-arrow:hover:before {color: black;}#sk-container-id-4 div.sk-estimator:hover label.sk-toggleable__label-arrow:before {color: black;}#sk-container-id-4 div.sk-toggleable__content {max-height: 0;max-width: 0;overflow: hidden;text-align: left;background-color: #f0f8ff;}#sk-container-id-4 div.sk-toggleable__content pre {margin: 0.2em;color: black;border-radius: 0.25em;background-color: #f0f8ff;}#sk-container-id-4 input.sk-toggleable__control:checked~div.sk-toggleable__content {max-height: 200px;max-width: 100%;overflow: auto;}#sk-container-id-4 input.sk-toggleable__control:checked~label.sk-toggleable__label-arrow:before {content: \"▾\";}#sk-container-id-4 div.sk-estimator input.sk-toggleable__control:checked~label.sk-toggleable__label {background-color: #d4ebff;}#sk-container-id-4 div.sk-label input.sk-toggleable__control:checked~label.sk-toggleable__label {background-color: #d4ebff;}#sk-container-id-4 input.sk-hidden--visually {border: 0;clip: rect(1px 1px 1px 1px);clip: rect(1px, 1px, 1px, 1px);height: 1px;margin: -1px;overflow: hidden;padding: 0;position: absolute;width: 1px;}#sk-container-id-4 div.sk-estimator {font-family: monospace;background-color: #f0f8ff;border: 1px dotted black;border-radius: 0.25em;box-sizing: border-box;margin-bottom: 0.5em;}#sk-container-id-4 div.sk-estimator:hover {background-color: #d4ebff;}#sk-container-id-4 div.sk-parallel-item::after {content: \"\";width: 100%;border-bottom: 1px solid gray;flex-grow: 1;}#sk-container-id-4 div.sk-label:hover label.sk-toggleable__label {background-color: #d4ebff;}#sk-container-id-4 div.sk-serial::before {content: \"\";position: absolute;border-left: 1px solid gray;box-sizing: border-box;top: 0;bottom: 0;left: 50%;z-index: 0;}#sk-container-id-4 div.sk-serial {display: flex;flex-direction: column;align-items: center;background-color: white;padding-right: 0.2em;padding-left: 0.2em;position: relative;}#sk-container-id-4 div.sk-item {position: relative;z-index: 1;}#sk-container-id-4 div.sk-parallel {display: flex;align-items: stretch;justify-content: center;background-color: white;position: relative;}#sk-container-id-4 div.sk-item::before, #sk-container-id-4 div.sk-parallel-item::before {content: \"\";position: absolute;border-left: 1px solid gray;box-sizing: border-box;top: 0;bottom: 0;left: 50%;z-index: -1;}#sk-container-id-4 div.sk-parallel-item {display: flex;flex-direction: column;z-index: 1;position: relative;background-color: white;}#sk-container-id-4 div.sk-parallel-item:first-child::after {align-self: flex-end;width: 50%;}#sk-container-id-4 div.sk-parallel-item:last-child::after {align-self: flex-start;width: 50%;}#sk-container-id-4 div.sk-parallel-item:only-child::after {width: 0;}#sk-container-id-4 div.sk-dashed-wrapped {border: 1px dashed gray;margin: 0 0.4em 0.5em 0.4em;box-sizing: border-box;padding-bottom: 0.4em;background-color: white;}#sk-container-id-4 div.sk-label label {font-family: monospace;font-weight: bold;display: inline-block;line-height: 1.2em;}#sk-container-id-4 div.sk-label-container {text-align: center;}#sk-container-id-4 div.sk-container {/* jupyter's `normalize.less` sets `[hidden] { display: none; }` but bootstrap.min.css set `[hidden] { display: none !important; }` so we also need the `!important` here to be able to override the default hidden behavior on the sphinx rendered scikit-learn.org. See: https://github.com/scikit-learn/scikit-learn/issues/21755 */display: inline-block !important;position: relative;}#sk-container-id-4 div.sk-text-repr-fallback {display: none;}</style><div id=\"sk-container-id-4\" class=\"sk-top-container\"><div class=\"sk-text-repr-fallback\"><pre>RandomForestClassifier(criterion=&#x27;entropy&#x27;, max_depth=3, n_estimators=20)</pre><b>In a Jupyter environment, please rerun this cell to show the HTML representation or trust the notebook. <br />On GitHub, the HTML representation is unable to render, please try loading this page with nbviewer.org.</b></div><div class=\"sk-container\" hidden><div class=\"sk-item\"><div class=\"sk-estimator sk-toggleable\"><input class=\"sk-toggleable__control sk-hidden--visually\" id=\"sk-estimator-id-4\" type=\"checkbox\" checked><label for=\"sk-estimator-id-4\" class=\"sk-toggleable__label sk-toggleable__label-arrow\">RandomForestClassifier</label><div class=\"sk-toggleable__content\"><pre>RandomForestClassifier(criterion=&#x27;entropy&#x27;, max_depth=3, n_estimators=20)</pre></div></div></div></div></div>"
            ]
          },
          "metadata": {},
          "execution_count": 45
        }
      ]
    },
    {
      "cell_type": "code",
      "source": [
        "y_pred= rf_clf.predict(x_test)\n",
        "y_pred"
      ],
      "metadata": {
        "colab": {
          "base_uri": "https://localhost:8080/"
        },
        "id": "Cfo15sdn4ysi",
        "outputId": "583ae4eb-4020-4fac-db4f-de4ba6cb082e"
      },
      "execution_count": 46,
      "outputs": [
        {
          "output_type": "execute_result",
          "data": {
            "text/plain": [
              "array([1, 2, 0, 0, 0, 2, 2, 2, 1, 0, 0, 1, 1, 1, 1, 0, 2, 2, 2, 1, 1, 2,\n",
              "       0, 1, 0, 0, 1, 1, 2, 0, 0, 0, 2, 2, 0, 0, 2])"
            ]
          },
          "metadata": {},
          "execution_count": 46
        }
      ]
    },
    {
      "cell_type": "code",
      "source": [
        "print('Accuracy is: ',accuracy_score(y_test,y_pred))\n",
        "print(confusion_matrix(y_test,y_pred))"
      ],
      "metadata": {
        "colab": {
          "base_uri": "https://localhost:8080/"
        },
        "id": "dregFl4p4_A6",
        "outputId": "877227db-a9a2-4ae2-eb59-9e198704e72d"
      },
      "execution_count": 47,
      "outputs": [
        {
          "output_type": "stream",
          "name": "stdout",
          "text": [
            "Accuracy is:  0.9459459459459459\n",
            "[[14  0  0]\n",
            " [ 0  9  0]\n",
            " [ 0  2 12]]\n"
          ]
        }
      ]
    },
    {
      "cell_type": "code",
      "source": [],
      "metadata": {
        "id": "MyvZQQtX5GR-"
      },
      "execution_count": 47,
      "outputs": []
    }
  ]
}